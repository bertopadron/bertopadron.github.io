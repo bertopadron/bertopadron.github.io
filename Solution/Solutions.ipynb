{
 "cells": [
  {
   "cell_type": "code",
   "execution_count": 115,
   "metadata": {},
   "outputs": [],
   "source": [
    "import sympy as sp\n",
    "import numpy as np\n",
    "import pandas as pd\n",
    "import scipy\n",
    "\n",
    "import matplotlib.pyplot as plt\n",
    "\n",
    "# from scipy import optimize\n",
    "\n",
    "\n",
    "# from scipy.integrate import simps\n",
    "# from scipy.optimize import curve_fit\n",
    "# from scipy import linalg\n",
    "\n",
    "from sympy.interactive import printing \n",
    "printing.init_printing(use_latex = True)"
   ]
  },
  {
   "attachments": {},
   "cell_type": "markdown",
   "metadata": {},
   "source": [
    "This is a quick and dirty Jupyter notebook describing the steps to follow in order to obtain all thermodynamic parameters for the new three phases. "
   ]
  },
  {
   "attachments": {},
   "cell_type": "markdown",
   "metadata": {},
   "source": [
    "# Molar mass of the unknown component\n",
    "\n",
    "Getting the molar mass of $X_2O_3$ using X-ray data (unit cell volume) and density of vicentite\n",
    "$$ V_m= N_A V_{cell} / Z $$\n",
    "\n",
    "where $V_m$ is the molar mass in $cm^3/mol$, $N_A$ is the avogadro's number, $V_{cell}$ is the cell volume and $Z$ is the number of formula units in the unit cell"
   ]
  },
  {
   "attachments": {},
   "cell_type": "markdown",
   "metadata": {},
   "source": [
    "### Example of corundum\n",
    "\n",
    "This is a demostration example for corundum taking the cell parameters from internet"
   ]
  },
  {
   "cell_type": "code",
   "execution_count": 116,
   "metadata": {},
   "outputs": [
    {
     "name": "stdout",
     "output_type": "stream",
     "text": [
      "254.84016042720805\n",
      "25.577457434877445\n"
     ]
    }
   ],
   "source": [
    "# unit convertion factors\n",
    "N_A = 6.022E23\n",
    "factor = 1E-24\n",
    "\n",
    "# V0 = 2.558 molar volume J/bar/mol Uniaxial a = 4.7592, c = 12.9918, Z = 6 (trigonal) Vm = 254.84\n",
    "Z = 6\n",
    "a = 4.7592\n",
    "c = 12.9918 \n",
    "\n",
    "# V_cell = 254.84 A3\n",
    "V_cell = a**2*c*np.sin(np.pi/3)\n",
    "print(V_cell)\n",
    "\n",
    "# Vm = 25.58 cm3/mol\n",
    "Vm = N_A*(V_cell)*factor/Z\n",
    "print(Vm)"
   ]
  },
  {
   "cell_type": "code",
   "execution_count": 117,
   "metadata": {},
   "outputs": [
    {
     "data": {
      "image/png": "[encoded data removed]",
      "text/latex": [
       "$\\displaystyle 0.6023$"
      ],
      "text/plain": [
       "0.6023"
      ]
     },
     "execution_count": 117,
     "metadata": {},
     "output_type": "execute_result"
    }
   ],
   "source": [
    "# this factor is used is some books to transform directly V_cell/Z to V_m\n",
    "N_A*factor\n",
    "6.023E23*1E-24"
   ]
  },
  {
   "attachments": {},
   "cell_type": "markdown",
   "metadata": {},
   "source": [
    "## Solution"
   ]
  },
  {
   "attachments": {},
   "cell_type": "markdown",
   "metadata": {},
   "source": [
    "## From molar volume and density compute the molar mass of the new component"
   ]
  },
  {
   "attachments": {},
   "cell_type": "markdown",
   "metadata": {},
   "source": [
    "### Getting the molar mass of the new component X2O3"
   ]
  },
  {
   "cell_type": "code",
   "execution_count": 118,
   "metadata": {},
   "outputs": [
    {
     "data": {
      "image/png": "[encoded data removed]",
      "text/latex": [
       "$\\displaystyle \\left[ 9.22341018396889\\right]$"
      ],
      "text/plain": [
       "[9.22341018396889]"
      ]
     },
     "execution_count": 118,
     "metadata": {},
     "output_type": "execute_result"
    }
   ],
   "source": [
    "# Obtain random cell parameters consintent with trigonal symmetry\n",
    "# V0 = 2.658 molar volume J/bar/mol Uniaxial a = 4.751, c = 12.97, Z = 6 (trigonal) Vm = 254.84\n",
    "Z = 6\n",
    "a = 5.758\n",
    "c = sp.symbols('c')\n",
    "\n",
    "# V_cell = \n",
    "V_cell = a**2*c*np.sin(np.pi/3)\n",
    "\n",
    "# Vm = 25.58 cm3/mol\n",
    "#Vm = N_A*(V_cell)*factor/Z\n",
    "Vm = sp.symbols('V_m')\n",
    "Vm = 2.658*10\n",
    "myfunction = sp.Eq(Vm, N_A*(V_cell)*factor/Z)\n",
    "#Vm = 2.658\n",
    "myfunction_solved = sp.solve(myfunction,c)\n",
    "myfunction_solved"
   ]
  },
  {
   "cell_type": "code",
   "execution_count": 119,
   "metadata": {},
   "outputs": [
    {
     "data": {
      "image/png": "[encoded data removed]",
      "text/latex": [
       "$\\displaystyle \\left[ 247.9913446\\right]$"
      ],
      "text/plain": [
       "[247.9913446]"
      ]
     },
     "execution_count": 119,
     "metadata": {},
     "output_type": "execute_result"
    }
   ],
   "source": [
    "# density in kg/m3\n",
    "N_vic = sp.Symbol('N_vic') # 247.9985\n",
    "Vm_vic = 2.6578\n",
    "rho = 9330.7\n",
    "density = sp.Eq(rho, N_vic/1000/(Vm_vic*10/1E6))\n",
    "myfunction_solved = sp.solve(density,N_vic)\n",
    "myfunction_solved # This is the molar mass of the new component"
   ]
  },
  {
   "cell_type": "code",
   "execution_count": 120,
   "metadata": {},
   "outputs": [
    {
     "data": {
      "image/png": "[encoded data removed]",
      "text/latex": [
       "$\\displaystyle 9330.7 = 37.6251034690345 N_{vic}$"
      ],
      "text/plain": [
       "9330.7 = 37.6251034690345⋅N_vic"
      ]
     },
     "execution_count": 120,
     "metadata": {},
     "output_type": "execute_result"
    }
   ],
   "source": [
    "density"
   ]
  },
  {
   "cell_type": "code",
   "execution_count": 121,
   "metadata": {},
   "outputs": [
    {
     "data": {
      "image/png": "[encoded data removed]",
      "text/latex": [
       "$\\displaystyle 28.712694675397 c$"
      ],
      "text/plain": [
       "28.712694675397⋅c"
      ]
     },
     "execution_count": 121,
     "metadata": {},
     "output_type": "execute_result"
    }
   ],
   "source": [
    "V_cell"
   ]
  },
  {
   "attachments": {},
   "cell_type": "markdown",
   "metadata": {},
   "source": [
    "## From X-ray data to molar volume"
   ]
  },
  {
   "cell_type": "code",
   "execution_count": 122,
   "metadata": {},
   "outputs": [
    {
     "name": "stdout",
     "output_type": "stream",
     "text": [
      "26.5788\n"
     ]
    },
    {
     "data": {
      "image/png": "[encoded data removed]",
      "text/latex": [
       "$\\displaystyle 9330.68207270375$"
      ],
      "text/plain": [
       "9330.682072703752"
      ]
     },
     "execution_count": 122,
     "metadata": {},
     "output_type": "execute_result"
    }
   ],
   "source": [
    "# vic      EoS = 2 |                                                                   \n",
    "# X2O3(1)\n",
    "# G0 = -1560000 S0 = 49.9 V0 = 2.658  \n",
    "# c1 = 160.0 c2 = .600E-2 c3 = -2560600 c5 = -599.2  \n",
    "# b1 = .429E-4 b5 = -.429E-3 b6 = 2620000. b7 = -388 b8 = 4  \n",
    "\n",
    "\n",
    "#N_vic = 247.9985 # g/mol\n",
    "X2O3  =   247.9985\n",
    "N_vic = X2O3\n",
    "\n",
    "Z = 6\n",
    "a = 5.758\n",
    "c = 9.223\n",
    "\n",
    "# V_cell\n",
    "V_cell = a**2*c*np.sin(np.pi/3)\n",
    "\n",
    "# Vm = 26.58 cm3/mol\n",
    "Vm = N_A*(V_cell)*factor/Z\n",
    "print(Vm.round(4))\n",
    "\n",
    "# density in kg/m3 = 9330.7\n",
    "N_vic/1000/(Vm/1E6)"
   ]
  },
  {
   "attachments": {},
   "cell_type": "markdown",
   "metadata": {},
   "source": [
    "## preparing the data"
   ]
  },
  {
   "cell_type": "code",
   "execution_count": 123,
   "metadata": {},
   "outputs": [
    {
     "data": {
      "image/png": "[encoded data removed]",
      "text/latex": [
       "$\\displaystyle \\left[ 8.08483829879526, \\  -4.04241914939763 - 7.00167535224606 i, \\  -4.04241914939763 + 7.00167535224606 i\\right]$"
      ],
      "text/plain": [
       "[8.08483829879526, -4.04241914939763 - 7.00167535224606⋅ⅈ, -4.04241914939763 +\n",
       " 7.00167535224606⋅ⅈ]"
      ]
     },
     "execution_count": 123,
     "metadata": {},
     "output_type": "execute_result"
    }
   ],
   "source": [
    "# getting the unit cell from the Vm*10 for cubic minerals\n",
    "a = sp.Symbol('a')\n",
    "V_cell = a**3\n",
    "Vm = 3.978*10\n",
    "Z = 8\n",
    "molar_volume = sp.Eq(Vm, N_A*(V_cell)*factor/Z)\n",
    "cell_parameter = sp.solve(molar_volume, a)\n",
    "cell_parameter"
   ]
  },
  {
   "cell_type": "code",
   "execution_count": 124,
   "metadata": {},
   "outputs": [
    {
     "data": {
      "image/png": "[encoded data removed]",
      "text/latex": [
       "$\\displaystyle 6602.09786006257$"
      ],
      "text/plain": [
       "6602.097860062567"
      ]
     },
     "execution_count": 124,
     "metadata": {},
     "output_type": "execute_result"
    }
   ],
   "source": [
    "# menz     EoS = 2                                                                    \n",
    "# MGO(3)X2O3(1)SIO2(3)\n",
    "# G0 = -5900105 S0 = 280.3 V0 = 8.318  \n",
    "# c1 = 600.0 c3 = -5100000 c5 = -4000.2  \n",
    "# b1 = .2500E-4 b5 = -.2500E-3 b6 = 2007000. b7 = -300.55 b8 = 4   \n",
    "# end\n",
    "\n",
    "#N_menz = 549.16 # g/mol\n",
    "MGO   =   40.3040\n",
    "X2O3  =   247.9985\n",
    "SIO2  =   60.0840\n",
    "N_menz = 3*MGO + X2O3 + 3*SIO2\n",
    "\n",
    "# unit cell 10.338 menzelite, 8.085 romainite\n",
    "a_unit_cell = 10.3384647332071\n",
    "V_cell = a_unit_cell**3\n",
    "\n",
    "# Vm = 25.58 cm3/mol\n",
    "Z = 8\n",
    "Vm = N_A*(V_cell)*factor/Z\n",
    "\n",
    "# density in kg/m3 = 6602.4\n",
    "N_menz/1000/(Vm/1E6)\n"
   ]
  },
  {
   "cell_type": "code",
   "execution_count": 125,
   "metadata": {},
   "outputs": [
    {
     "data": {
      "image/png": "[encoded data removed]",
      "text/latex": [
       "$\\displaystyle 7246.98848836316$"
      ],
      "text/plain": [
       "7246.98848836316"
      ]
     },
     "execution_count": 125,
     "metadata": {},
     "output_type": "execute_result"
    }
   ],
   "source": [
    "# rom    EoS = 2                                                                   \n",
    "# MGO(1)X2O3(1)\n",
    "# G0 = -2106030 S0 = 81.5 V0 = 3.978  \n",
    "# c1 = 342.7 c2 = -.5037E-2 c3 = -2205100 c5 = -1678.1  \n",
    "# b1 = .431E-4 b5 = -.431E-3 b6 = 1945000. b7 = -291.75 b8 = 4   \n",
    "# end\n",
    "\n",
    "#N_rom = 549.16 # g/mol\n",
    "MGO   =   40.3040\n",
    "X2O3  =   247.9985\n",
    "N_rom = MGO + X2O3\n",
    "\n",
    "# unit cell 10.338 menzelite, 8.085 romainite\n",
    "a_unit_cell = 8.085\n",
    "V_cell = a_unit_cell**3\n",
    "\n",
    "# Vm = 39.782 cm3/mol\n",
    "Z = 8\n",
    "Vm = N_A*(V_cell)*factor/Z\n",
    "\n",
    "# density in kg/m3 = 7247.8\n",
    "N_rom/1000/(Vm/1E6)"
   ]
  },
  {
   "cell_type": "code",
   "execution_count": 126,
   "metadata": {},
   "outputs": [
    {
     "data": {
      "image/png": "[encoded data removed]",
      "text/latex": [
       "$\\displaystyle 39.7823869132594$"
      ],
      "text/plain": [
       "39.78238691325939"
      ]
     },
     "execution_count": 126,
     "metadata": {},
     "output_type": "execute_result"
    }
   ],
   "source": [
    "Vm"
   ]
  },
  {
   "attachments": {},
   "cell_type": "markdown",
   "metadata": {},
   "source": [
    "## Getting the formula unit for the other phases \n",
    "\n",
    "Here I proceed slightly differently that in the classroom by writing a system of equations. The obtain values are the corresponding number of moles of each component."
   ]
  },
  {
   "attachments": {},
   "cell_type": "markdown",
   "metadata": {},
   "source": [
    "### Menzelenite"
   ]
  },
  {
   "cell_type": "code",
   "execution_count": 129,
   "metadata": {},
   "outputs": [
    {
     "data": {
      "text/plain": [
       "dict_values([3.00020178676459, 1.00003686608943, 3.00013075779508])"
      ]
     },
     "execution_count": 129,
     "metadata": {},
     "output_type": "execute_result"
    }
   ],
   "source": [
    "# menz     EoS = 2                                                                    \n",
    "# MGO(3)X2O3(1)SIO2(3)\n",
    "# G0 = -5900105 S0 = 280.3 V0 = 8.318  \n",
    "# c1 = 600.0 c3 = -5100000 c5 = -4000.2  \n",
    "# b1 = .2500E-4 b5 = -.2500E-3 b6 = 2007000. b7 = -300.55 b8 = 4   \n",
    "# end\n",
    "\n",
    "# Phase Compositions (weight percentages):\n",
    "#                    wt %      vol %     mol %     mol        MGO      X2O3     SIO2 \n",
    "#  menz             100.00    100.00    100.00     1.00       22.018   45.159   32.823\n",
    "\n",
    "#N_menz = 549.16 # g/mol\n",
    "n_MGO, n_X2O3, n_SIO2, rho = sp.symbols('nMgO , nX_{2}O_3, nSiO_2, d') \n",
    "N_menz = n_MGO*MGO + n_X2O3*X2O3 + n_SIO2*SIO2\n",
    "Vm = 8.318*10\n",
    "\n",
    "# from chemical formula\n",
    "MGO   =   40.3040\n",
    "X2O3  =   247.9985\n",
    "SIO2  =   60.0840\n",
    "\n",
    "rho = 6602.4\n",
    "Eq1 = sp.Eq(rho, N_menz/1000/(Vm/1E6))\n",
    "Eq2 = sp.Eq(n_MGO, n_X2O3*(22.018/MGO)/(45.159/X2O3))\n",
    "Eq3 = sp.Eq(n_MGO, n_SIO2*(22.018/MGO)/(32.823/SIO2))\n",
    "\n",
    "system = [Eq1, Eq2, Eq3]\n",
    "sol = sp.solve(system, [n_MGO, n_X2O3, n_SIO2])\n",
    "sol.values()"
   ]
  },
  {
   "attachments": {},
   "cell_type": "markdown",
   "metadata": {},
   "source": [
    "### Romainite"
   ]
  },
  {
   "cell_type": "code",
   "execution_count": 130,
   "metadata": {},
   "outputs": [
    {
     "data": {
      "text/plain": [
       "dict_values([1.00006908156014, 1.00004919278463])"
      ]
     },
     "execution_count": 130,
     "metadata": {},
     "output_type": "execute_result"
    }
   ],
   "source": [
    "# rom    EoS = 2                                                                   \n",
    "# MGO(1)X2O3(1)\n",
    "# G0 = -2106030 S0 = 81.5 V0 = 3.978  \n",
    "# c1 = 342.7 c2 = -.5037E-2 c3 = -2205100 c5 = -1678.1  \n",
    "# b1 = .431E-4 b5 = -.431E-3 b6 = 1945000. b7 = -291.75 b8 = 4   \n",
    "# end\n",
    "\n",
    "# Phase Compositions (weight percentages):\n",
    "#                    wt %      vol %     mol %     mol        X2O3     MGO  \n",
    "#  rom              100.00    100.00    100.00     1.00       86.020   13.980\n",
    "\n",
    "#N_menz = 549.16 # g/mol\n",
    "n_MGO, n_X2O3, n_SIO2, rho = sp.symbols('nMgO , nX_{2}O_3, nSiO_2, d') \n",
    "N_rom = n_MGO*MGO + n_X2O3*X2O3\n",
    "Vm = 3.978 *10\n",
    "\n",
    "# from chemical formula\n",
    "MGO   =   40.3040\n",
    "X2O3  =   247.9985\n",
    "SIO2  =   60.0840\n",
    "\n",
    "rho = 7247.8\n",
    "Eq1 = sp.Eq(rho, N_rom/1000/(Vm/1E6))\n",
    "Eq2 = sp.Eq(n_MGO, n_X2O3*(13.980/MGO)/(86.020/X2O3))\n",
    "\n",
    "system = [Eq1, Eq2]\n",
    "sol = sp.solve(system, [n_MGO, n_X2O3])\n",
    "sol.values()\n",
    "#sp.symbols('c')"
   ]
  },
  {
   "cell_type": "markdown",
   "metadata": {},
   "source": []
  },
  {
   "attachments": {},
   "cell_type": "markdown",
   "metadata": {},
   "source": [
    "# Heat capacity"
   ]
  },
  {
   "cell_type": "code",
   "execution_count": 131,
   "metadata": {},
   "outputs": [],
   "source": [
    "file_name = \"Calorimetric_data/Calorimetric_data_1bar.csv\"\n",
    "enthalpy = pd.read_csv(file_name, delimiter=',')\n",
    "#list(isotherm)\n",
    "enthalpy.columns = enthalpy.columns.str.replace(' ', '')\n",
    "enthalpy['menz_h298'] = enthalpy['menz_h(J/mol)']-enthalpy['menz_h(J/mol)'].iloc[0]\n",
    "enthalpy['vic_h298'] = enthalpy['vic_h(J/mol)']-enthalpy['vic_h(J/mol)'].iloc[0]\n",
    "enthalpy['rom_h298'] = enthalpy['rom_h(J/mol)']-enthalpy['rom_h(J/mol)'].iloc[0]\n",
    "\n",
    "# we need the derivate relative to T\n",
    "enthalpy['Cp_menz'] = enthalpy['menz_h298'].diff()/enthalpy['T(K)'].diff()\n",
    "enthalpy['Cp_vic'] = enthalpy['vic_h298'].diff()/enthalpy['T(K)'].diff()\n",
    "enthalpy['Cp_rom'] = enthalpy['rom_h298'].diff()/enthalpy['T(K)'].diff()"
   ]
  },
  {
   "cell_type": "code",
   "execution_count": 132,
   "metadata": {},
   "outputs": [
    {
     "data": {
      "text/html": [
       "<div>\n",
       "<style scoped>\n",
       "    .dataframe tbody tr th:only-of-type {\n",
       "        vertical-align: middle;\n",
       "    }\n",
       "\n",
       "    .dataframe tbody tr th {\n",
       "        vertical-align: top;\n",
       "    }\n",
       "\n",
       "    .dataframe thead th {\n",
       "        text-align: right;\n",
       "    }\n",
       "</style>\n",
       "<table border=\"1\" class=\"dataframe\">\n",
       "  <thead>\n",
       "    <tr style=\"text-align: right;\">\n",
       "      <th></th>\n",
       "      <th>T(K)</th>\n",
       "      <th>menz_h(J/mol)</th>\n",
       "      <th>vic_h(J/mol)</th>\n",
       "      <th>rom_h(J/mol)</th>\n",
       "      <th>menz_h298</th>\n",
       "      <th>vic_h298</th>\n",
       "      <th>rom_h298</th>\n",
       "      <th>Cp_menz</th>\n",
       "      <th>Cp_vic</th>\n",
       "      <th>Cp_rom</th>\n",
       "    </tr>\n",
       "  </thead>\n",
       "  <tbody>\n",
       "    <tr>\n",
       "      <th>0</th>\n",
       "      <td>298.15</td>\n",
       "      <td>-5816534</td>\n",
       "      <td>-1545122</td>\n",
       "      <td>-2081731</td>\n",
       "      <td>0</td>\n",
       "      <td>0</td>\n",
       "      <td>0</td>\n",
       "      <td>NaN</td>\n",
       "      <td>NaN</td>\n",
       "      <td>NaN</td>\n",
       "    </tr>\n",
       "    <tr>\n",
       "      <th>1</th>\n",
       "      <td>308.15</td>\n",
       "      <td>-5813386</td>\n",
       "      <td>-1544127</td>\n",
       "      <td>-2079523</td>\n",
       "      <td>3148</td>\n",
       "      <td>995</td>\n",
       "      <td>2208</td>\n",
       "      <td>314.8</td>\n",
       "      <td>99.5</td>\n",
       "      <td>220.8</td>\n",
       "    </tr>\n",
       "    <tr>\n",
       "      <th>2</th>\n",
       "      <td>318.15</td>\n",
       "      <td>-5810167</td>\n",
       "      <td>-1543108</td>\n",
       "      <td>-2077285</td>\n",
       "      <td>6367</td>\n",
       "      <td>2014</td>\n",
       "      <td>4446</td>\n",
       "      <td>321.9</td>\n",
       "      <td>101.9</td>\n",
       "      <td>223.8</td>\n",
       "    </tr>\n",
       "    <tr>\n",
       "      <th>3</th>\n",
       "      <td>328.15</td>\n",
       "      <td>-5806881</td>\n",
       "      <td>-1542067</td>\n",
       "      <td>-2075019</td>\n",
       "      <td>9653</td>\n",
       "      <td>3055</td>\n",
       "      <td>6712</td>\n",
       "      <td>328.6</td>\n",
       "      <td>104.1</td>\n",
       "      <td>226.6</td>\n",
       "    </tr>\n",
       "    <tr>\n",
       "      <th>4</th>\n",
       "      <td>338.15</td>\n",
       "      <td>-5803532</td>\n",
       "      <td>-1541006</td>\n",
       "      <td>-2072727</td>\n",
       "      <td>13002</td>\n",
       "      <td>4116</td>\n",
       "      <td>9004</td>\n",
       "      <td>334.9</td>\n",
       "      <td>106.1</td>\n",
       "      <td>229.2</td>\n",
       "    </tr>\n",
       "  </tbody>\n",
       "</table>\n",
       "</div>"
      ],
      "text/plain": [
       "     T(K)  menz_h(J/mol)  vic_h(J/mol)  rom_h(J/mol)  menz_h298  vic_h298  \\\n",
       "0  298.15       -5816534      -1545122      -2081731          0         0   \n",
       "1  308.15       -5813386      -1544127      -2079523       3148       995   \n",
       "2  318.15       -5810167      -1543108      -2077285       6367      2014   \n",
       "3  328.15       -5806881      -1542067      -2075019       9653      3055   \n",
       "4  338.15       -5803532      -1541006      -2072727      13002      4116   \n",
       "\n",
       "   rom_h298  Cp_menz  Cp_vic  Cp_rom  \n",
       "0         0      NaN     NaN     NaN  \n",
       "1      2208    314.8    99.5   220.8  \n",
       "2      4446    321.9   101.9   223.8  \n",
       "3      6712    328.6   104.1   226.6  \n",
       "4      9004    334.9   106.1   229.2  "
      ]
     },
     "execution_count": 132,
     "metadata": {},
     "output_type": "execute_result"
    }
   ],
   "source": [
    "enthalpy.head()"
   ]
  },
  {
   "cell_type": "code",
   "execution_count": 133,
   "metadata": {},
   "outputs": [
    {
     "data": {
      "image/png": "[encoded data removed]",
      "text/plain": [
       "<Figure size 640x480 with 1 Axes>"
      ]
     },
     "metadata": {},
     "output_type": "display_data"
    }
   ],
   "source": [
    "ax1 = enthalpy.plot(kind='scatter', x='T(K)', y='menz_h298', color='r')\n",
    "ax2 = enthalpy.plot(kind='scatter', x='T(K)', y='vic_h298', color='g', ax=ax1)    \n",
    "ax3 = enthalpy.plot(kind='scatter', x='T(K)', y='rom_h298', color='b', ax=ax1)"
   ]
  },
  {
   "cell_type": "code",
   "execution_count": 134,
   "metadata": {},
   "outputs": [
    {
     "data": {
      "image/png": "[encoded data removed]",
      "text/plain": [
       "<Figure size 640x480 with 1 Axes>"
      ]
     },
     "metadata": {},
     "output_type": "display_data"
    }
   ],
   "source": [
    "ax1 = enthalpy.plot(kind='scatter', x='T(K)', y='Cp_menz', color='r')\n",
    "# ax2 = enthalpy.plot(kind='scatter', x='T(K)', y='Cp_vic', color='g', ax=ax1)    \n",
    "# ax3 = enthalpy.plot(kind='scatter', x='T(K)', y='Cp_rom', color='b', ax=ax1)"
   ]
  },
  {
   "attachments": {},
   "cell_type": "markdown",
   "metadata": {},
   "source": [
    "### menzelite\n",
    "\n",
    "Note that for some reason there is no c_2 parameter in the original pyrope thermo data "
   ]
  },
  {
   "cell_type": "code",
   "execution_count": 138,
   "metadata": {},
   "outputs": [],
   "source": [
    "def f(T, c_1, c_3, c_5):\n",
    "    return c_1 + c_3/T**2 + c_5/np.sqrt(T)"
   ]
  },
  {
   "cell_type": "code",
   "execution_count": 139,
   "metadata": {},
   "outputs": [
    {
     "data": {
      "text/plain": [
       "array([ 5.99733300e+02, -5.46272575e+06, -3.99167545e+03])"
      ]
     },
     "execution_count": 139,
     "metadata": {},
     "output_type": "execute_result"
    }
   ],
   "source": [
    "# c1 = 600.0 c3 = -5100000 c5 = -4000.2 \n",
    "ydata = enthalpy['Cp_menz']\n",
    "ydata = ydata[1:]\n",
    "xdata = enthalpy['T(K)']\n",
    "xdata = xdata[1:]\n",
    "\n",
    "beta_opt, beta_cov = optimize.curve_fit(f, xdata, ydata)\n",
    "beta_opt"
   ]
  },
  {
   "attachments": {},
   "cell_type": "markdown",
   "metadata": {},
   "source": [
    "### vicentite"
   ]
  },
  {
   "cell_type": "code",
   "execution_count": 140,
   "metadata": {},
   "outputs": [],
   "source": [
    "def f(T, c_1, c_2, c_3, c_5):\n",
    "    return c_1 + c_2*T + c_3/T**2 + c_5/np.sqrt(T)"
   ]
  },
  {
   "cell_type": "code",
   "execution_count": 141,
   "metadata": {},
   "outputs": [
    {
     "data": {
      "text/plain": [
       "array([ 1.58842244e+02,  6.26613742e-03, -2.73778224e+06, -5.68780504e+02])"
      ]
     },
     "execution_count": 141,
     "metadata": {},
     "output_type": "execute_result"
    }
   ],
   "source": [
    "# c1 = 160.0 c2 = .600E-2 c3 = -2560600 c5 = -599.2  \n",
    "ydata = enthalpy['Cp_vic']\n",
    "ydata = ydata[1:]\n",
    "xdata = enthalpy['T(K)']\n",
    "xdata = xdata[1:]\n",
    "\n",
    "beta_opt, beta_cov = optimize.curve_fit(f, xdata, ydata)\n",
    "beta_opt"
   ]
  },
  {
   "attachments": {},
   "cell_type": "markdown",
   "metadata": {},
   "source": [
    "### romainite"
   ]
  },
  {
   "cell_type": "code",
   "execution_count": 142,
   "metadata": {},
   "outputs": [
    {
     "data": {
      "text/plain": [
       "array([ 3.42038001e+02, -4.86290890e-03, -2.38340130e+06, -1.66122742e+03])"
      ]
     },
     "execution_count": 142,
     "metadata": {},
     "output_type": "execute_result"
    }
   ],
   "source": [
    "# c1 = 342.7 c2 = -.5037E-2 c3 = -2205100 c5 = -1678.1   \n",
    "ydata = enthalpy['Cp_rom']\n",
    "ydata = ydata[1:]\n",
    "xdata = enthalpy['T(K)']\n",
    "xdata = xdata[1:]\n",
    "\n",
    "beta_opt, beta_cov = optimize.curve_fit(f, xdata, ydata)\n",
    "beta_opt"
   ]
  },
  {
   "attachments": {},
   "cell_type": "markdown",
   "metadata": {},
   "source": [
    "# Expansion coefficient"
   ]
  },
  {
   "cell_type": "code",
   "execution_count": 143,
   "metadata": {},
   "outputs": [],
   "source": [
    "file_name = \"X-ray_data/isobar-1bar.csv\"\n",
    "isobar = pd.read_csv(file_name, delimiter=',')\n",
    "#list(isobar)\n",
    "isobar.columns = isobar.columns.str.replace(' ', '')\n",
    "\n",
    "isobar['menz_v_v0'] = isobar['menz_v(J/mol/bar)']/isobar['menz_v(J/mol/bar)'].iloc[0]\n",
    "isobar['d_ln_v_v0_dT_menz'] = np.log(isobar['menz_v_v0']).diff()/isobar['T(K)'].diff()\n",
    "\n",
    "isobar['vic_v_v0'] = isobar['vic_v(J/mol/bar)']/isobar['vic_v(J/mol/bar)'].iloc[0]\n",
    "isobar['d_ln_v_v0_dT_vic'] = np.log(isobar['vic_v_v0']).diff()/isobar['T(K)'].diff()\n",
    "\n",
    "isobar['rom_v_v0'] = isobar['rom_v(J/mol/bar)']/isobar['rom_v(J/mol/bar)'].iloc[0]\n",
    "isobar['d_ln_v_v0_dT_rom'] = np.log(isobar['rom_v_v0']).diff()/isobar['T(K)'].diff()\n",
    "isobar.head()\n",
    "\n",
    "xdata = isobar['T(K)']"
   ]
  },
  {
   "cell_type": "code",
   "execution_count": 144,
   "metadata": {},
   "outputs": [
    {
     "data": {
      "image/png": "[encoded data removed]",
      "text/plain": [
       "<Figure size 640x480 with 1 Axes>"
      ]
     },
     "metadata": {},
     "output_type": "display_data"
    }
   ],
   "source": [
    "ax1 = isobar.plot(kind='scatter', x='T(K)', y='d_ln_v_v0_dT_menz', color='r')    \n",
    "ax2 = isobar.plot(kind='scatter', x='T(K)', y='d_ln_v_v0_dT_vic', color='g', ax=ax1)    \n",
    "ax3 = isobar.plot(kind='scatter', x='T(K)', y='d_ln_v_v0_dT_rom', color='b', ax=ax1)"
   ]
  },
  {
   "cell_type": "code",
   "execution_count": 145,
   "metadata": {},
   "outputs": [
    {
     "data": {
      "image/png": "[encoded data removed]",
      "text/plain": [
       "<Figure size 640x480 with 1 Axes>"
      ]
     },
     "metadata": {},
     "output_type": "display_data"
    }
   ],
   "source": [
    "ax1 = isobar.plot(kind='scatter', x='T(K)', y='menz_v_v0', color='r')    \n",
    "ax2 = isobar.plot(kind='scatter', x='T(K)', y='vic_v_v0', color='g', ax=ax1)    \n",
    "ax3 = isobar.plot(kind='scatter', x='T(K)', y='rom_v_v0', color='b', ax=ax1)"
   ]
  },
  {
   "cell_type": "code",
   "execution_count": 146,
   "metadata": {},
   "outputs": [],
   "source": [
    "def f(T, a0):\n",
    "    return 1 + a0*(T-298.15) - 2*10*a0*(np.sqrt(T) - np.sqrt(298.15)) "
   ]
  },
  {
   "cell_type": "code",
   "execution_count": 147,
   "metadata": {},
   "outputs": [],
   "source": [
    "def f2(T, a0, a1):\n",
    "    return a0 + a1/(np.sqrt(T)) "
   ]
  },
  {
   "cell_type": "code",
   "execution_count": 150,
   "metadata": {},
   "outputs": [
    {
     "data": {
      "text/plain": [
       "(array([ 2.50749794e-05, -2.53036774e-04]),\n",
       " array([[ 8.70197429e-18, -2.30861029e-16],\n",
       "        [-2.30861029e-16,  6.44025113e-15]]))"
      ]
     },
     "execution_count": 150,
     "metadata": {},
     "output_type": "execute_result"
    }
   ],
   "source": [
    "# b1 = .2500E-4 b5 = -.2500E-3 b6 = 2007000. b7 = -300.55 b8 = 4  \n",
    "ydata = isobar['d_ln_v_v0_dT_menz']\n",
    "ydata = ydata[1:]\n",
    "\n",
    "xdata = isobar['T(K)']\n",
    "xdata = xdata[1:]\n",
    "\n",
    "beta_opt, beta_cov = scipy.optimize.curve_fit(f2, xdata, ydata)\n",
    "beta_opt, beta_cov"
   ]
  },
  {
   "cell_type": "markdown",
   "metadata": {},
   "source": [
    "### menzelite"
   ]
  },
  {
   "cell_type": "code",
   "execution_count": 151,
   "metadata": {},
   "outputs": [
    {
     "data": {
      "text/plain": [
       "(array([ 2.50749794e-05, -2.53036774e-04]),\n",
       " array([[ 8.70197429e-18, -2.30861029e-16],\n",
       "        [-2.30861029e-16,  6.44025113e-15]]))"
      ]
     },
     "execution_count": 151,
     "metadata": {},
     "output_type": "execute_result"
    }
   ],
   "source": [
    "# b1 = .2500E-4 b5 = -.2500E-3 b6 = 2007000. b7 = -300.55 b8 = 4 \n",
    "ydata = isobar['d_ln_v_v0_dT_menz']\n",
    "ydata = ydata[1:]\n",
    "\n",
    "beta_opt, beta_cov = scipy.optimize.curve_fit(f2, xdata, ydata)\n",
    "beta_opt, beta_cov"
   ]
  },
  {
   "attachments": {},
   "cell_type": "markdown",
   "metadata": {},
   "source": [
    "### vicentite"
   ]
  },
  {
   "cell_type": "code",
   "execution_count": 153,
   "metadata": {},
   "outputs": [
    {
     "data": {
      "text/plain": [
       "(array([ 4.30279989e-05, -4.34191001e-04]),\n",
       " array([[ 5.74104036e-17, -1.52308251e-15],\n",
       "        [-1.52308251e-15,  4.24889116e-14]]))"
      ]
     },
     "execution_count": 153,
     "metadata": {},
     "output_type": "execute_result"
    }
   ],
   "source": [
    "# b1 = .429E-4 b5 = -.429E-3 b6 = 2620000. b7 = -388 b8 = 4 \n",
    "ydata = isobar['d_ln_v_v0_dT_vic']\n",
    "ydata = ydata[1:]\n",
    "\n",
    "beta_start = (1)\n",
    "beta_opt, beta_cov = scipy.optimize.curve_fit(f2, xdata, ydata)\n",
    "beta_opt, beta_cov"
   ]
  },
  {
   "attachments": {},
   "cell_type": "markdown",
   "metadata": {},
   "source": [
    "### romainite"
   ]
  },
  {
   "cell_type": "code",
   "execution_count": 154,
   "metadata": {},
   "outputs": [
    {
     "data": {
      "text/plain": [
       "(array([ 4.32290155e-05, -4.36226901e-04]),\n",
       " array([[ 3.32316661e-17, -8.81627123e-16],\n",
       "        [-8.81627123e-16,  2.45944499e-14]]))"
      ]
     },
     "execution_count": 154,
     "metadata": {},
     "output_type": "execute_result"
    }
   ],
   "source": [
    "# b1 = .431E-4 b5 = -.431E-3 b6 = 1945000. b7 = -291.75 b8 = 4 \n",
    "ydata = isobar['d_ln_v_v0_dT_rom']\n",
    "ydata = ydata[1:]\n",
    "\n",
    "beta_start = (1)\n",
    "beta_opt, beta_cov = scipy.optimize.curve_fit(f2, xdata, ydata)\n",
    "beta_opt, beta_cov"
   ]
  },
  {
   "attachments": {},
   "cell_type": "markdown",
   "metadata": {},
   "source": [
    "# Bulk modulus"
   ]
  },
  {
   "attachments": {},
   "cell_type": "markdown",
   "metadata": {},
   "source": [
    "Molar volume at T and P\n",
    "$$ v(T,P) = v(T,1)\\left [ 1-\\frac{4P}{\\kappa_T + 4P} \\right]^{1/4} $$"
   ]
  },
  {
   "cell_type": "code",
   "execution_count": 155,
   "metadata": {},
   "outputs": [
    {
     "name": "stdout",
     "output_type": "stream",
     "text": [
      "-301.04999999999995\n",
      "-369.08729999999997\n"
     ]
    }
   ],
   "source": [
    "menz = {'G0' : -5900105, \n",
    "      'S0' : 280.3,  \n",
    "      'V0' : 8.318, \n",
    "      'c_1': 600.0, 'c_2':0,        'c_3':-5100000, 'c_5':-4000.2, \n",
    "      'b_1': .2500E-4,'b_5':-.2500E-3, 'b_6':2007000, 'b_7':-300.55\n",
    "     }\n",
    "\n",
    "print(-1.5E-4*menz['b_6'])      # final formulation in HP98\n",
    "print(-3*fo['b_1']*menz['b_6']) # original formulation from Holland 1996 "
   ]
  },
  {
   "cell_type": "code",
   "execution_count": 156,
   "metadata": {},
   "outputs": [
    {
     "data": {
      "text/html": [
       "<div>\n",
       "<style scoped>\n",
       "    .dataframe tbody tr th:only-of-type {\n",
       "        vertical-align: middle;\n",
       "    }\n",
       "\n",
       "    .dataframe tbody tr th {\n",
       "        vertical-align: top;\n",
       "    }\n",
       "\n",
       "    .dataframe thead th {\n",
       "        text-align: right;\n",
       "    }\n",
       "</style>\n",
       "<table border=\"1\" class=\"dataframe\">\n",
       "  <thead>\n",
       "    <tr style=\"text-align: right;\">\n",
       "      <th></th>\n",
       "      <th>P(bar)</th>\n",
       "      <th>menz_v(J/mol/bar)</th>\n",
       "      <th>vic_v(J/mol/bar)</th>\n",
       "      <th>rom_v(J/mol/bar)</th>\n",
       "      <th>menz_v_v0</th>\n",
       "      <th>vic_v_v0</th>\n",
       "      <th>rom_v_v0</th>\n",
       "    </tr>\n",
       "  </thead>\n",
       "  <tbody>\n",
       "    <tr>\n",
       "      <th>0</th>\n",
       "      <td>1.0</td>\n",
       "      <td>8.317580</td>\n",
       "      <td>2.657866</td>\n",
       "      <td>3.977799</td>\n",
       "      <td>1.000000</td>\n",
       "      <td>1.000000</td>\n",
       "      <td>1.000000</td>\n",
       "    </tr>\n",
       "    <tr>\n",
       "      <th>1</th>\n",
       "      <td>501.0</td>\n",
       "      <td>8.315509</td>\n",
       "      <td>2.657359</td>\n",
       "      <td>3.976777</td>\n",
       "      <td>0.999751</td>\n",
       "      <td>0.999809</td>\n",
       "      <td>0.999743</td>\n",
       "    </tr>\n",
       "    <tr>\n",
       "      <th>2</th>\n",
       "      <td>1001.0</td>\n",
       "      <td>8.313441</td>\n",
       "      <td>2.656853</td>\n",
       "      <td>3.975757</td>\n",
       "      <td>0.999502</td>\n",
       "      <td>0.999619</td>\n",
       "      <td>0.999487</td>\n",
       "    </tr>\n",
       "    <tr>\n",
       "      <th>3</th>\n",
       "      <td>1501.0</td>\n",
       "      <td>8.311375</td>\n",
       "      <td>2.656347</td>\n",
       "      <td>3.974737</td>\n",
       "      <td>0.999254</td>\n",
       "      <td>0.999428</td>\n",
       "      <td>0.999230</td>\n",
       "    </tr>\n",
       "    <tr>\n",
       "      <th>4</th>\n",
       "      <td>2001.0</td>\n",
       "      <td>8.309728</td>\n",
       "      <td>2.655841</td>\n",
       "      <td>3.973918</td>\n",
       "      <td>0.999056</td>\n",
       "      <td>0.999238</td>\n",
       "      <td>0.999024</td>\n",
       "    </tr>\n",
       "  </tbody>\n",
       "</table>\n",
       "</div>"
      ],
      "text/plain": [
       "   P(bar)  menz_v(J/mol/bar)  vic_v(J/mol/bar)  rom_v(J/mol/bar)  menz_v_v0  \\\n",
       "0     1.0           8.317580          2.657866          3.977799   1.000000   \n",
       "1   501.0           8.315509          2.657359          3.976777   0.999751   \n",
       "2  1001.0           8.313441          2.656853          3.975757   0.999502   \n",
       "3  1501.0           8.311375          2.656347          3.974737   0.999254   \n",
       "4  2001.0           8.309728          2.655841          3.973918   0.999056   \n",
       "\n",
       "   vic_v_v0  rom_v_v0  \n",
       "0  1.000000  1.000000  \n",
       "1  0.999809  0.999743  \n",
       "2  0.999619  0.999487  \n",
       "3  0.999428  0.999230  \n",
       "4  0.999238  0.999024  "
      ]
     },
     "execution_count": 156,
     "metadata": {},
     "output_type": "execute_result"
    }
   ],
   "source": [
    "file_name = \"X-ray_data/isotherm-298K.csv\"\n",
    "isotherm = pd.read_csv(file_name, delimiter=',')\n",
    "#list(isobar)\n",
    "isotherm.columns = isotherm.columns.str.replace(' ', '')\n",
    "isotherm['menz_v_v0'] = isotherm['menz_v(J/mol/bar)']/isotherm['menz_v(J/mol/bar)'].iloc[0]\n",
    "isotherm['vic_v_v0'] = isotherm['vic_v(J/mol/bar)']/isotherm['vic_v(J/mol/bar)'].iloc[0]\n",
    "isotherm['rom_v_v0'] = isotherm['rom_v(J/mol/bar)']/isotherm['rom_v(J/mol/bar)'].iloc[0]\n",
    "\n",
    "xdata = isotherm['P(bar)']\n",
    "isotherm.head()"
   ]
  },
  {
   "cell_type": "code",
   "execution_count": 157,
   "metadata": {},
   "outputs": [
    {
     "data": {
      "image/png": "[encoded data removed]",
      "text/plain": [
       "<Figure size 640x480 with 1 Axes>"
      ]
     },
     "metadata": {},
     "output_type": "display_data"
    }
   ],
   "source": [
    "ax1 = isotherm.plot(kind='scatter', x='P(bar)', y='menz_v_v0', color='r')    \n",
    "ax2 = isotherm.plot(kind='scatter', x='P(bar)', y='vic_v_v0', color='g', ax=ax1)    \n",
    "ax3 = isotherm.plot(kind='scatter', x='P(bar)', y='rom_v_v0', color='b', ax=ax1)"
   ]
  },
  {
   "cell_type": "code",
   "execution_count": 158,
   "metadata": {},
   "outputs": [],
   "source": [
    "def v_v0_298(P, Kappa_298):\n",
    "    return (1 - 4*P/(Kappa_298 + 4*P))**(1/4)"
   ]
  },
  {
   "attachments": {},
   "cell_type": "markdown",
   "metadata": {},
   "source": [
    "### menzelite"
   ]
  },
  {
   "cell_type": "code",
   "execution_count": 159,
   "metadata": {},
   "outputs": [
    {
     "name": "stdout",
     "output_type": "stream",
     "text": [
      "b6 = [2017806.] b7 =[-302.6709]\n"
     ]
    }
   ],
   "source": [
    "# 'b_6':2007000, 'b_7':-300.55\n",
    "\n",
    "ydata = isotherm['menz_v_v0']\n",
    "xdata = isotherm['P(bar)']\n",
    "\n",
    "beta_opt, beta_cov = optimize.curve_fit(v_v0_298, xdata, ydata)\n",
    "beta_opt, beta_cov\n",
    "print('b6 = '+str(beta_opt.round(0)), 'b7 ='+str(-1.5E-4*beta_opt.round(0)))"
   ]
  },
  {
   "attachments": {},
   "cell_type": "markdown",
   "metadata": {},
   "source": [
    "### vicentite"
   ]
  },
  {
   "cell_type": "code",
   "execution_count": 160,
   "metadata": {},
   "outputs": [
    {
     "name": "stdout",
     "output_type": "stream",
     "text": [
      "b6 = [2638155.] b7 =[-395.72325]\n"
     ]
    }
   ],
   "source": [
    "# b6 = 2620000. b7 = -388 \n",
    "ydata = isotherm['vic_v_v0']\n",
    "xdata = isotherm['P(bar)']\n",
    "\n",
    "beta_opt, beta_cov = optimize.curve_fit(v_v0_298, xdata, ydata)\n",
    "beta_opt, beta_cov\n",
    "print('b6 = '+str(beta_opt.round(0)), 'b7 ='+str(-1.5E-4*beta_opt.round(0)))"
   ]
  },
  {
   "attachments": {},
   "cell_type": "markdown",
   "metadata": {},
   "source": [
    "### romainite"
   ]
  },
  {
   "cell_type": "code",
   "execution_count": 161,
   "metadata": {},
   "outputs": [
    {
     "name": "stdout",
     "output_type": "stream",
     "text": [
      "b6 = [1955169.] b7 =[-293.27535]\n"
     ]
    }
   ],
   "source": [
    "# b6 = 1945000. b7 = -291.75 b8 = 4 \n",
    "ydata = isotherm['rom_v_v0']\n",
    "xdata = isotherm['P(bar)']\n",
    "\n",
    "beta_opt, beta_cov = optimize.curve_fit(v_v0_298, xdata, ydata)\n",
    "beta_opt, beta_cov\n",
    "print('b6 = '+str(beta_opt.round(0)), 'b7 ='+str(-1.5E-4*beta_opt.round(0)))"
   ]
  },
  {
   "cell_type": "code",
   "execution_count": 162,
   "metadata": {},
   "outputs": [
    {
     "data": {
      "text/plain": [
       "<matplotlib.legend.Legend at 0x14ede4940>"
      ]
     },
     "execution_count": 162,
     "metadata": {},
     "output_type": "execute_result"
    },
    {
     "data": {
      "image/png": "[encoded data removed]",
      "text/plain": [
       "<Figure size 640x480 with 1 Axes>"
      ]
     },
     "metadata": {},
     "output_type": "display_data"
    }
   ],
   "source": [
    "fig, ax = plt.subplots()\n",
    "ax.scatter(xdata, ydata, label='samples')\n",
    "ax.plot(xdata, v_v0_298(xdata, 1945000), 'b', lw=2, label='fitted data')\n",
    "ax.set_xlabel(r\"$P(bar)$\", fontsize=18)\n",
    "ax.set_ylabel(r\"$v/v_0$\", fontsize=18)\n",
    "ax.legend()\n",
    " "
   ]
  },
  {
   "attachments": {},
   "cell_type": "markdown",
   "metadata": {},
   "source": [
    "# Third low entropy"
   ]
  },
  {
   "cell_type": "code",
   "execution_count": 163,
   "metadata": {},
   "outputs": [
    {
     "data": {
      "image/png": "[encoded data removed]",
      "text/plain": [
       "<Figure size 640x480 with 1 Axes>"
      ]
     },
     "metadata": {},
     "output_type": "display_data"
    }
   ],
   "source": [
    "file_name = \"Calorimetric_data/Calorimetry_vic_low_T.txt\"\n",
    "Cp_vic = pd.read_csv(file_name, delimiter='\\s+')\n",
    "\n",
    "Cp_vic.plot.scatter('T(K)', 'Cp(J/mol/K)')\n",
    "Cp_vic['Cp(J/mol/K)/T'] = Cp_vic[\"Cp(J/mol/K)\"]/Cp_vic[\"T(K)\"]"
   ]
  },
  {
   "cell_type": "code",
   "execution_count": 164,
   "metadata": {},
   "outputs": [
    {
     "data": {
      "text/plain": [
       "<Axes: xlabel='T(K)', ylabel='Cp(J/mol/K)/T'>"
      ]
     },
     "execution_count": 164,
     "metadata": {},
     "output_type": "execute_result"
    },
    {
     "data": {
      "image/png": "[encoded data removed]",
      "text/plain": [
       "<Figure size 640x480 with 1 Axes>"
      ]
     },
     "metadata": {},
     "output_type": "display_data"
    }
   ],
   "source": [
    "Cp_vic.plot.scatter('T(K)', 'Cp(J/mol/K)/T')"
   ]
  },
  {
   "cell_type": "code",
   "execution_count": 165,
   "metadata": {},
   "outputs": [
    {
     "data": {
      "image/png": "[encoded data removed]",
      "text/latex": [
       "$\\displaystyle 49.9190776618442$"
      ],
      "text/plain": [
       "49.919077661844156"
      ]
     },
     "execution_count": 165,
     "metadata": {},
     "output_type": "execute_result"
    }
   ],
   "source": [
    "# G0 = -1560000 S0 = 49.9 V0 = 2.658  \n",
    "S_vic = scipy.integrate.simps(Cp_vic['Cp(J/mol/K)/T'], Cp_vic[\"T(K)\"])\n",
    "S_vic"
   ]
  },
  {
   "attachments": {},
   "cell_type": "markdown",
   "metadata": {},
   "source": [
    "# from enthalpy of formation to reference gibbs"
   ]
  },
  {
   "cell_type": "code",
   "execution_count": 166,
   "metadata": {},
   "outputs": [
    {
     "data": {
      "image/png": "[encoded data removed]",
      "text/latex": [
       "$\\displaystyle -1560005.37300488$"
      ],
      "text/plain": [
       "-1560005.3730048789"
      ]
     },
     "execution_count": 166,
     "metadata": {},
     "output_type": "execute_result"
    }
   ],
   "source": [
    "H_vic = -1545122\n",
    "G0_vic = H_vic - 298.15*S_vic\n",
    "G0_vic\n"
   ]
  },
  {
   "attachments": {},
   "cell_type": "markdown",
   "metadata": {},
   "source": [
    "# Enthalpy and entropy from HP experiments"
   ]
  },
  {
   "cell_type": "code",
   "execution_count": 167,
   "metadata": {},
   "outputs": [],
   "source": [
    "def g(T,P,phase):\n",
    "    T_r = 298.15\n",
    "    return (\n",
    "    phase.get('G0')                    + \n",
    "    phase.get('S0')*(T_r - T)          +\n",
    "\n",
    "    2*np.sqrt(T)*phase.get('c_5')      - 2*np.sqrt(T_r)*phase.get('c_5') +\n",
    "    T**2*phase.get('c_2')/2            - T_r**2*phase.get('c_2')/2       +\n",
    "    T*phase.get('c_1')                 - T_r*phase.get('c_1')            +\n",
    "    phase.get('c_3')/T_r               - phase.get('c_3')/T              - \n",
    "    \n",
    "    T*(T*phase.get('c_2')              - T_r*phase.get('c_2')            + \n",
    "       phase.get('c_1')*np.log(T)      - phase.get('c_1')*np.log(T_r)    + \n",
    "       phase.get('c_3')/(2*T_r**2)     - phase.get('c_3')/(2*T**2)       + \n",
    "       2*phase.get('c_5')/np.sqrt(T_r) - 2*phase.get('c_5')/np.sqrt(T))  +\n",
    "    \n",
    "    phase.get('V0')                                                 *\n",
    "    (phase.get('b_6') + phase.get('b_7')*(T - T_r))**0.25           *\n",
    "    ((4*P + phase.get('b_6') + phase.get('b_7')*(T - T_r))**0.75 - \n",
    "     (4   + phase.get('b_6') + phase.get('b_7')*(T - T_r))**0.75)   *\n",
    "    (2.0*T**0.5*phase.get('b_5') - 2.0*T_r**0.5*phase.get('b_5')    + \n",
    "     T*phase.get('b_1')          - T_r*phase.get('b_1') + 1.0)/3\n",
    "    )"
   ]
  },
  {
   "cell_type": "code",
   "execution_count": 176,
   "metadata": {},
   "outputs": [],
   "source": [
    "fo = {'G0' :-2053138, \n",
    "      'S0' : 95.1, \n",
    "      'V0' : 4.366, \n",
    "      'c_1': 233.3, 'c_2':.1494E-2, 'c_3':-603800, 'c_5':-1869.7, \n",
    "      'b_1':.613E-4,'b_5':-.613E-3, 'b_6':1250000, 'b_7':-187.5,\n",
    "      'c_4': 0     ,'c_6':  0     , 'c_7':0      , 'c_8':0     ,\n",
    "      'b_8': 0\n",
    "     }\n",
    "\n",
    "G0_rom, S0_rom  = sp.symbols(\"G^0_rom, S^0_rom\")\n",
    "# rom = {'G0' :-2106030, \n",
    "#       'S0' : 81.5,\n",
    "#       'V0' : 3.978, \n",
    "#       'c_1': 342.7, 'c_2':-.5037E-2, 'c_3':-2205100, 'c_5':-1678.1, \n",
    "#       'b_1':.431E-4,'b_5':-.431E-3, 'b_6':1945000, 'b_7':-291.75\n",
    "#      }\n",
    "\n",
    "rom = {'G0' :G0_rom, \n",
    "      'S0' : S0_rom,\n",
    "      'V0' : 3.978, \n",
    "      'c_1': 342.7, 'c_2':-.5037E-2, 'c_3':-2205100, 'c_5':-1678.1, \n",
    "      'b_1':.431E-4,'b_5':-.431E-3, 'b_6':1945000, 'b_7':-291.75\n",
    "     }\n",
    "\n",
    "# menz     EoS = 2                                                                    \n",
    "# MGO(3)X2O3(1)SIO2(3)\n",
    "G0_menz, S0_menz  = sp.symbols(\"G^0_menz, S^0_menz\")\n",
    "menz = {'G0' : G0_menz, \n",
    "      'S0' : S0_menz,  \n",
    "      'V0' : 8.318, \n",
    "      'c_1': 600.0, 'c_2':0,        'c_3':-5100000, 'c_5':-4000.2, \n",
    "      'b_1': .2500E-4,'b_5':-.2500E-3, 'b_6':2007000, 'b_7':-300.55\n",
    "     }\n",
    "\n",
    "# menz = {'G0' : -5900105, \n",
    "#       'S0' : 280.3,  \n",
    "#       'V0' : 8.318, \n",
    "#       'c_1': 600.0, 'c_2':0,        'c_3':-5100000, 'c_5':-4000.2, \n",
    "#       'b_1': .2500E-4,'b_5':-.2500E-3, 'b_6':2007000, 'b_7':-300.55\n",
    "#      }\n",
    "\n",
    "vic = {'G0' :-1560000, \n",
    "      'S0' : 49.9, \n",
    "      'V0' : 2.658, \n",
    "      'c_1': 160.0, 'c_2':.600E-2, 'c_3':-2560599, 'c_5':-599.2, \n",
    "      'b_1':.429E-4,'b_5':-.429E-3, 'b_6':2620000, 'b_7':-388\n",
    "     }\n",
    "\n",
    "per = {'G0' :-569276.5, \n",
    "      'S0' : 26.9, \n",
    "      'V0' : 1.125, \n",
    "      'c_1': 60.5, 'c_2':.362E-3, 'c_3':-535800, 'c_5':-299.2, \n",
    "      'b_1':.62E-4,'b_5':-.62E-3, 'b_6':1650000, 'b_7':-247.5\n",
    "     }"
   ]
  },
  {
   "attachments": {},
   "cell_type": "markdown",
   "metadata": {},
   "source": [
    "Reaction 1: 1.00 per + 1.00 vic = 1.00 rom"
   ]
  },
  {
   "cell_type": "code",
   "execution_count": 177,
   "metadata": {},
   "outputs": [
    {
     "data": {
      "image/png": "[encoded data removed]",
      "text/latex": [
       "$\\displaystyle G^{0}_{rom} - 562.25 S^{0}_{rom} + 2151858.45542911$"
      ],
      "text/plain": [
       "G⁰ᵣₒₘ - 562.25⋅S⁰ᵣₒₘ + 2151858.45542911"
      ]
     },
     "execution_count": 177,
     "metadata": {},
     "output_type": "execute_result"
    }
   ],
   "source": [
    "Temp = 860.4\n",
    "Pres = 0.4950E+05\n",
    "Eq1 = (1*g(Temp,Pres,rom) - 1*g(Temp,Pres,per) -1*g(Temp,Pres,vic))\n",
    "Eq1"
   ]
  },
  {
   "cell_type": "code",
   "execution_count": 178,
   "metadata": {},
   "outputs": [],
   "source": [
    "G0_rom, S0_rom  = 0, 0\n",
    "rom = {'G0' :G0_rom, \n",
    "      'S0' : S0_rom,\n",
    "      'V0' : 3.978, \n",
    "      'c_1': 342.7, 'c_2':-.5037E-2, 'c_3':-2205100, 'c_5':-1678.1, \n",
    "      'b_1':.431E-4,'b_5':-.431E-3, 'b_6':1945000, 'b_7':-291.75\n",
    "     }\n",
    "\n",
    "df = pd.read_csv('reaction_1.txt', delimiter='\\s+')\n",
    "T = df['T'].values\n",
    "P = df['P'].values\n",
    "xdata = -(298.15 - T)\n",
    "ydata = -((1*g(T,P,rom) - 1*g(T,P,per) -1*g(T,P,vic)))"
   ]
  },
  {
   "cell_type": "code",
   "execution_count": 179,
   "metadata": {},
   "outputs": [],
   "source": [
    "def f(x, b0, b1):\n",
    "    return b0 -b1*x"
   ]
  },
  {
   "cell_type": "code",
   "execution_count": 180,
   "metadata": {},
   "outputs": [
    {
     "data": {
      "text/plain": [
       "array([-2.10600789e+06,  8.15468821e+01])"
      ]
     },
     "execution_count": 180,
     "metadata": {},
     "output_type": "execute_result"
    }
   ],
   "source": [
    "popt, pcov = scipy.optimize.curve_fit(f, xdata, ydata)\n",
    "popt"
   ]
  },
  {
   "attachments": {},
   "cell_type": "markdown",
   "metadata": {},
   "source": [
    "Reaction 2: 4.00 per 1.00 menz =  3.00 fo 1.00 rom"
   ]
  },
  {
   "cell_type": "code",
   "execution_count": 181,
   "metadata": {},
   "outputs": [],
   "source": [
    "rom = {'G0' :-2106020, \n",
    "      'S0' : 81.5,\n",
    "      'V0' : 3.978, \n",
    "      'c_1': 342.7, 'c_2':-.5037E-2, 'c_3':-2205100, 'c_5':-1678.1, \n",
    "      'b_1':.431E-4,'b_5':-.431E-3, 'b_6':1945000, 'b_7':-291.75\n",
    "     }"
   ]
  },
  {
   "cell_type": "code",
   "execution_count": 182,
   "metadata": {},
   "outputs": [
    {
     "data": {
      "image/png": "[encoded data removed]",
      "text/latex": [
       "$\\displaystyle - G^{0}_{menz} + 562.25 S^{0}_{menz} - 5963914.88337794$"
      ],
      "text/plain": [
       "-G_menz__0 + 562.25⋅S_menz__0 - 5963914.88337794"
      ]
     },
     "execution_count": 182,
     "metadata": {},
     "output_type": "execute_result"
    }
   ],
   "source": [
    "Temp = 860.4\n",
    "Pres = 0.4950E+05\n",
    "Eq2 = (3*g(Temp,Pres,fo) + 1*g(Temp,Pres,rom) - 4*g(Temp,Pres,per) -1*g(Temp,Pres,menz))\n",
    "Eq2"
   ]
  },
  {
   "cell_type": "code",
   "execution_count": 183,
   "metadata": {},
   "outputs": [],
   "source": [
    "G0_menz, S0_menz  = 0, 0\n",
    "menz = {'G0' : G0_menz, \n",
    "      'S0' : S0_menz,  \n",
    "      'V0' : 8.318, \n",
    "      'c_1': 600.0, 'c_2':0,        'c_3':-5100000, 'c_5':-4000.2, \n",
    "      'b_1': .2500E-4,'b_5':-.2500E-3, 'b_6':2007000, 'b_7':-300.55\n",
    "     }\n",
    "\n",
    "def f(x, b0, b1):\n",
    "    return -b0 + b1*x\n",
    "\n",
    "df = pd.read_csv('reaction_2.txt', delimiter='\\s+')\n",
    "T = df['T'].values\n",
    "P = df['P'].values\n",
    "xdata = -(298.15 - T)\n",
    "ydata = -(3*g(T,P,fo) + 1*g(T,P,rom) - 4*g(T,P,per) -1*g(T,P,menz))"
   ]
  },
  {
   "cell_type": "code",
   "execution_count": 184,
   "metadata": {},
   "outputs": [],
   "source": [
    "popt, pcov = curve_fit(f, xdata, ydata)"
   ]
  },
  {
   "cell_type": "code",
   "execution_count": 185,
   "metadata": {},
   "outputs": [
    {
     "name": "stdout",
     "output_type": "stream",
     "text": [
      "[-5.90001697e+06  2.80624515e+02]\n"
     ]
    },
    {
     "data": {
      "image/png": "[encoded data removed]",
      "text/latex": [
       "$\\displaystyle 293627.234013664$"
      ],
      "text/plain": [
       "293627.23401366366"
      ]
     },
     "execution_count": 185,
     "metadata": {},
     "output_type": "execute_result"
    }
   ],
   "source": [
    "print(popt)\n",
    "np.sum((ydata - f(xdata, *popt))**2)"
   ]
  },
  {
   "cell_type": "code",
   "execution_count": 186,
   "metadata": {},
   "outputs": [],
   "source": [
    "menz = {'G0' : -5900105, \n",
    "      'S0' : 280.3,  \n",
    "      'V0' : 8.318, \n",
    "      'c_1': 600.0, 'c_2':0,        'c_3':-5100000, 'c_5':-4000.2, \n",
    "      'b_1': .2500E-4,'b_5':-.2500E-3, 'b_6':2007000, 'b_7':-300.55\n",
    "     }"
   ]
  },
  {
   "cell_type": "code",
   "execution_count": 187,
   "metadata": {},
   "outputs": [],
   "source": [
    "rom = {'G0' :G0_rom, \n",
    "      'S0' : S0_rom,\n",
    "      'V0' : 3.978, \n",
    "      'c_1': 342.7, 'c_2':-.5037E-2, 'c_3':-2205100, 'c_5':-1678.1, \n",
    "      'b_1':.431E-4,'b_5':-.431E-3, 'b_6':1945000, 'b_7':-291.75\n",
    "     }"
   ]
  },
  {
   "attachments": {},
   "cell_type": "markdown",
   "metadata": {},
   "source": [
    "# Margules parameters for Vic(PGG)"
   ]
  },
  {
   "attachments": {},
   "cell_type": "markdown",
   "metadata": {},
   "source": [
    "to do... compute with werami a section for X(C1) = 0.5 to compute the critical temperature"
   ]
  },
  {
   "cell_type": "code",
   "execution_count": 188,
   "metadata": {},
   "outputs": [
    {
     "data": {
      "text/plain": [
       "array([18642., 16742.])"
      ]
     },
     "execution_count": 188,
     "metadata": {},
     "output_type": "execute_result"
    }
   ],
   "source": [
    "P = np.array([1000, 20000])\n",
    "W = (37484 - 0.2*P)/2\n",
    "W"
   ]
  },
  {
   "cell_type": "code",
   "execution_count": 189,
   "metadata": {},
   "outputs": [
    {
     "data": {
      "text/plain": [
       "array([1121.06706437, 1006.80746656])"
      ]
     },
     "execution_count": 189,
     "metadata": {},
     "output_type": "execute_result"
    }
   ],
   "source": [
    "Tc = W/2/8.3144\n",
    "Tc"
   ]
  },
  {
   "cell_type": "code",
   "execution_count": 190,
   "metadata": {},
   "outputs": [
    {
     "name": "stderr",
     "output_type": "stream",
     "text": [
      "/Users/josealbertopadronnavarta/miniconda3/envs/pnja/lib/python3.10/site-packages/scipy/optimize/_minpack_py.py:906: OptimizeWarning: Covariance of the parameters could not be estimated\n",
      "  warnings.warn('Covariance of the parameters could not be estimated',\n"
     ]
    },
    {
     "data": {
      "text/plain": [
       "array([ 3.7484e+04, -2.0000e-01])"
      ]
     },
     "execution_count": 190,
     "metadata": {},
     "output_type": "execute_result"
    }
   ],
   "source": [
    "def W_(P, w, w_P):\n",
    "    return w + w_P*P\n",
    "\n",
    "xdata = [1000, 20000]\n",
    "ydata = [18642, 16742]\n",
    "popt, pcov = curve_fit(W_, xdata, ydata)\n",
    "popt*2"
   ]
  },
  {
   "attachments": {},
   "cell_type": "markdown",
   "metadata": {},
   "source": [
    "# Thermodynamic data of the new endmembers"
   ]
  },
  {
   "cell_type": "code",
   "execution_count": null,
   "metadata": {},
   "outputs": [],
   "source": [
    "\n",
    "rom = {'G0' :-2106030, \n",
    "      'S0' : 81.5,\n",
    "      'V0' : 3.978, \n",
    "      'c_1': 342.7, 'c_2':-.5037E-2, 'c_3':-2205100, 'c_5':-1678.1, \n",
    "      'b_1':.431E-4,'b_5':-.431E-3, 'b_6':1945000, 'b_7':-291.75\n",
    "     }\n",
    "\n",
    "menz = {'G0' : -5900105, \n",
    "      'S0' : 280.3,  \n",
    "      'V0' : 8.318, \n",
    "      'c_1': 600.0, 'c_2':0,        'c_3':-5100000, 'c_5':-4000.2, \n",
    "      'b_1': .2500E-4,'b_5':-.2500E-3, 'b_6':2007000, 'b_7':-300.55\n",
    "     }\n",
    "\n",
    "vic = {'G0' :-1560000, \n",
    "      'S0' : 49.9, \n",
    "      'V0' : 2.658, \n",
    "      'c_1': 160.0, 'c_2':.600E-2, 'c_3':-2560599, 'c_5':-599.2, \n",
    "      'b_1':.429E-4,'b_5':-.429E-3, 'b_6':2620000, 'b_7':-388\n",
    "     }\n"
   ]
  }
 ],
 "metadata": {
  "kernelspec": {
   "display_name": "pnja",
   "language": "python",
   "name": "python3"
  },
  "language_info": {
   "codemirror_mode": {
    "name": "ipython",
    "version": 3
   },
   "file_extension": ".py",
   "mimetype": "text/x-python",
   "name": "python",
   "nbconvert_exporter": "python",
   "pygments_lexer": "ipython3",
   "version": "3.10.9"
  },
  "orig_nbformat": 4,
  "vscode": {
   "interpreter": {
    "hash": "e0f19d7df56e5761da96bd656548da0a2078e6f331c39beb2ac8c15854e5ec02"
   }
  }
 },
 "nbformat": 4,
 "nbformat_minor": 2
}

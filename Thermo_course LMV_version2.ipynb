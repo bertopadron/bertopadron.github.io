{
 "cells": [
  {
   "cell_type": "markdown",
   "metadata": {},
   "source": [
    "# So what?"
   ]
  },
  {
   "cell_type": "code",
   "execution_count": 3,
   "metadata": {},
   "outputs": [],
   "source": [
    "import sympy as sp\n",
    "import numpy as np\n",
    "from sympy.interactive import printing\n",
    "printing.init_printing(use_latex = True)"
   ]
  },
  {
   "cell_type": "code",
   "execution_count": 4,
   "metadata": {},
   "outputs": [],
   "source": [
    "S_Pr_Tr = sp.Symbol(\"S(Pr, Tr)\")\n",
    "G_Pr_T  = sp.Symbol(\"G(Pr, T)\")\n",
    "G0,T,T_r = sp.symbols('G_0, T, T_r')\n",
    "c_1, c_2, c_3, c_4, c_5, c_6, c_7, c_8 = sp.symbols('c_1, c_2, c_3, c_4, c_5, c_6, c_7, c_8')\n",
    "b_1, b_5, b_6, b_7, b_8                = sp.symbols('b_1, b_5, b_6, b_7, b_8')"
   ]
  },
  {
   "cell_type": "code",
   "execution_count": null,
   "metadata": {},
   "outputs": [],
   "source": []
  },
  {
   "cell_type": "markdown",
   "metadata": {},
   "source": [
    "## Heat capacity at a given temperature and 1 bar"
   ]
  },
  {
   "cell_type": "markdown",
   "metadata": {},
   "source": [
    "In Holland and Powell datasets, the heat capacity is expressed as the following polinomial with only $c_1$ to $c_5$ terms\n",
    "\n",
    "$$ C_p = c_1 +c_2T +\\frac{c_3}{T^2} + c_4T^2 + \\frac{c_5}{\\sqrt{T}} + \\frac{c_6}{T} + \\frac{c_7}{T^3} + c_8T^3 $$\n",
    "\n"
   ]
  },
  {
   "cell_type": "markdown",
   "metadata": {},
   "source": [
    "Let's evaluate this for the case of forsterite in hp02ver.dat. It compares well (to the forth decima) with the value retrieved from frendly (175.0651)"
   ]
  },
  {
   "cell_type": "code",
   "execution_count": 5,
   "metadata": {},
   "outputs": [
    {
     "data": {
      "image/png": "[encoded data removed]",
      "text/latex": [
       "$\\displaystyle 175.0651$"
      ],
      "text/plain": [
       "175.0651"
      ]
     },
     "execution_count": 5,
     "metadata": {},
     "output_type": "execute_result"
    }
   ],
   "source": [
    "def Cp(T):\n",
    "    return c_1 +c_2*T +c_3/T**2 + c_4*T**2 + c_5/sp.sqrt(T) + c_6/T + c_7/T**3 + c_8*T**3\n",
    "Cp(1000).subs({c_1:233.3, c_2:.1494E-2, c_3:-603800, c_4:0, c_5:-1869.7 , c_6:0, c_7:0, c_8:0}).evalf().round(4)"
   ]
  },
  {
   "cell_type": "code",
   "execution_count": 6,
   "metadata": {},
   "outputs": [
    {
     "data": {
      "image/png": "[encoded data removed]",
      "text/latex": [
       "$\\displaystyle T^{3} c_{8} + T^{2} c_{4} + T c_{2} + c_{1} + \\frac{c_{6}}{T} + \\frac{c_{3}}{T^{2}} + \\frac{c_{7}}{T^{3}} + \\frac{c_{5}}{\\sqrt{T}}$"
      ],
      "text/plain": [
       " 3       2                  c₆   c₃   c₇   c₅\n",
       "T ⋅c₈ + T ⋅c₄ + T⋅c₂ + c₁ + ── + ── + ── + ──\n",
       "                            T     2    3   √T\n",
       "                                 T    T      "
      ]
     },
     "execution_count": 6,
     "metadata": {},
     "output_type": "execute_result"
    }
   ],
   "source": [
    "Cp(T)"
   ]
  },
  {
   "cell_type": "markdown",
   "metadata": {},
   "source": [
    "## Entropy at a given temperature and 1 bar\n",
    "We can now integrate the symbolic expression to compute the intregal $C_P/T$"
   ]
  },
  {
   "cell_type": "code",
   "execution_count": 7,
   "metadata": {},
   "outputs": [],
   "source": [
    "CpoT_int = sp.integrate(Cp(T)/T,(T,T_r,T))"
   ]
  },
  {
   "cell_type": "code",
   "execution_count": 8,
   "metadata": {},
   "outputs": [
    {
     "data": {
      "image/png": "[encoded data removed]",
      "text/latex": [
       "$\\displaystyle \\frac{T^{3} c_{8}}{3} + \\frac{T^{2} c_{4}}{2} + T c_{2} - \\frac{T_{r}^{3} c_{8}}{3} - \\frac{T_{r}^{2} c_{4}}{2} - T_{r} c_{2} + c_{1} \\log{\\left(T \\right)} - c_{1} \\log{\\left(T_{r} \\right)} + \\frac{c_{6}}{T_{r}} + \\frac{c_{3}}{2 T_{r}^{2}} + \\frac{c_{7}}{3 T_{r}^{3}} + \\frac{2 c_{5}}{\\sqrt{T_{r}}} - \\frac{c_{6}}{T} - \\frac{c_{3}}{2 T^{2}} - \\frac{c_{7}}{3 T^{3}} - \\frac{2 c_{5}}{\\sqrt{T}}$"
      ],
      "text/plain": [
       " 3       2               3        2                                           \n",
       "T ⋅c₈   T ⋅c₄          Tᵣ ⋅c₈   Tᵣ ⋅c₄                                    c₆  \n",
       "───── + ───── + T⋅c₂ - ────── - ────── - Tᵣ⋅c₂ + c₁⋅log(T) - c₁⋅log(Tᵣ) + ── +\n",
       "  3       2              3        2                                       Tᵣ  \n",
       "                                                                              \n",
       "\n",
       "                                                 \n",
       "   c₃      c₇     2⋅c₅    c₆    c₃     c₇    2⋅c₅\n",
       " ───── + ───── + ────── - ── - ──── - ──── - ────\n",
       "     2       3     ____   T       2      3    √T \n",
       " 2⋅Tᵣ    3⋅Tᵣ    ╲╱ Tᵣ         2⋅T    3⋅T        "
      ]
     },
     "execution_count": 8,
     "metadata": {},
     "output_type": "execute_result"
    }
   ],
   "source": [
    "CpoT_int"
   ]
  },
  {
   "cell_type": "code",
   "execution_count": 9,
   "metadata": {},
   "outputs": [],
   "source": [
    "fo = {'G0':-2053138, 'S0': 95.1, 'V0': 4.366}"
   ]
  },
  {
   "cell_type": "markdown",
   "metadata": {},
   "source": [
    "We lambdify the expression to make it faster"
   ]
  },
  {
   "cell_type": "code",
   "execution_count": 10,
   "metadata": {},
   "outputs": [
    {
     "data": {
      "image/png": "[encoded data removed]",
      "text/latex": [
       "$\\displaystyle 181.971337198419$"
      ],
      "text/plain": [
       "181.971337198419"
      ]
     },
     "execution_count": 10,
     "metadata": {},
     "output_type": "execute_result"
    }
   ],
   "source": [
    "int_CpoT = sp.lambdify(T, CpoT_int.subs({T_r:298.15, c_1:233.3, c_2:.1494E-2, c_3:-603800, \n",
    "                                       c_4:0, c_5:-1869.7 , c_6:0, c_7:0, c_8:0}), modules='sympy')\n",
    "int_CpoT(1000).evalf()"
   ]
  },
  {
   "cell_type": "markdown",
   "metadata": {},
   "source": [
    "and then finally we compute the entropy at 1 bar by adding the reference entropy. That compares with the frendly value (277.0713 J/mol/K)"
   ]
  },
  {
   "cell_type": "code",
   "execution_count": 11,
   "metadata": {},
   "outputs": [
    {
     "data": {
      "image/png": "[encoded data removed]",
      "text/latex": [
       "$\\displaystyle 277.071337198419$"
      ],
      "text/plain": [
       "277.071337198419"
      ]
     },
     "execution_count": 11,
     "metadata": {},
     "output_type": "execute_result"
    }
   ],
   "source": [
    "fo_S = fo.get('S0') + int_CpoT(1000)\n",
    "fo_S.evalf()"
   ]
  },
  {
   "cell_type": "markdown",
   "metadata": {},
   "source": [
    "## Apparent gibbs enery at a given temperature and 1 bar"
   ]
  },
  {
   "cell_type": "markdown",
   "metadata": {},
   "source": [
    "We can do similarly with enthalpy"
   ]
  },
  {
   "cell_type": "code",
   "execution_count": 12,
   "metadata": {},
   "outputs": [],
   "source": [
    "Cp_int   = sp.integrate(Cp(T),(T,T_r,T))"
   ]
  },
  {
   "cell_type": "code",
   "execution_count": 13,
   "metadata": {},
   "outputs": [
    {
     "data": {
      "image/png": "[encoded data removed]",
      "text/latex": [
       "$\\displaystyle 2 \\sqrt{T} c_{5} + \\frac{T^{4} c_{8}}{4} + \\frac{T^{3} c_{4}}{3} + \\frac{T^{2} c_{2}}{2} + T c_{1} - 2 \\sqrt{T_{r}} c_{5} - \\frac{T_{r}^{4} c_{8}}{4} - \\frac{T_{r}^{3} c_{4}}{3} - \\frac{T_{r}^{2} c_{2}}{2} - T_{r} c_{1} + c_{6} \\log{\\left(T \\right)} - c_{6} \\log{\\left(T_{r} \\right)} + \\frac{c_{3}}{T_{r}} + \\frac{c_{7}}{2 T_{r}^{2}} - \\frac{c_{3}}{T} - \\frac{c_{7}}{2 T^{2}}$"
      ],
      "text/plain": [
       "           4       3       2                             4        3        2  \n",
       "          T ⋅c₈   T ⋅c₄   T ⋅c₂              ____      Tᵣ ⋅c₈   Tᵣ ⋅c₄   Tᵣ ⋅c\n",
       "2⋅√T⋅c₅ + ───── + ───── + ───── + T⋅c₁ - 2⋅╲╱ Tᵣ ⋅c₅ - ────── - ────── - ─────\n",
       "            4       3       2                            4        3        2  \n",
       "                                                                              \n",
       "\n",
       "                                                           \n",
       "₂                                    c₃     c₇    c₃    c₇ \n",
       "─ - Tᵣ⋅c₁ + c₆⋅log(T) - c₆⋅log(Tᵣ) + ── + ───── - ── - ────\n",
       "                                     Tᵣ       2   T       2\n",
       "                                          2⋅Tᵣ         2⋅T "
      ]
     },
     "execution_count": 13,
     "metadata": {},
     "output_type": "execute_result"
    }
   ],
   "source": [
    "Cp_int"
   ]
  },
  {
   "cell_type": "code",
   "execution_count": 14,
   "metadata": {},
   "outputs": [],
   "source": [
    "int_Cp   = sp.lambdify(T, Cp_int.subs({T_r:298.15, c_1:233.3, c_2:.1494E-2, c_3:-603800, \n",
    "                                       c_4:0, c_5:-1869.7 , c_6:0, c_7:0, c_8:0}))"
   ]
  },
  {
   "cell_type": "code",
   "execution_count": 15,
   "metadata": {},
   "outputs": [],
   "source": [
    "def fo_G(T): \n",
    "    T_r = 298.15\n",
    "    return(fo.get('G0') + fo.get('S0')*(T_r-T) - T*int_CpoT(T) + int_Cp(T))"
   ]
  },
  {
   "cell_type": "markdown",
   "metadata": {},
   "source": [
    "that compares also very well with the value from frendly (-2192536 J/mol)"
   ]
  },
  {
   "cell_type": "code",
   "execution_count": 16,
   "metadata": {},
   "outputs": [
    {
     "data": {
      "image/png": "[encoded data removed]",
      "text/latex": [
       "$\\displaystyle -2192536.33974438$"
      ],
      "text/plain": [
       "-2192536.33974438"
      ]
     },
     "execution_count": 16,
     "metadata": {},
     "output_type": "execute_result"
    }
   ],
   "source": [
    "fo_G(1000).evalf()"
   ]
  },
  {
   "cell_type": "markdown",
   "metadata": {},
   "source": [
    "## Apparent gibbs enery at a given temperature and pressure\n",
    "### Volume at high pressure using the Murnaghan equation\n",
    "It suffices to add to the above expression the volume integral\n",
    "Holland and Powell expression\n",
    "$$ \\alpha_T = a^0 \\left( 1 - \\frac{10}{\\sqrt(T)} \\right) $$\n",
    "$$ v(T,1) = v^0 [1 + a^0(T-T_r)-20a^0(\\sqrt T-\\sqrt T_r)] $$\n",
    "\n",
    "in Perplex these are written as\n",
    "$$ \\alpha (T,P_r) = b_1 + b_5/\\sqrt T $$"
   ]
  },
  {
   "cell_type": "code",
   "execution_count": 17,
   "metadata": {},
   "outputs": [],
   "source": [
    "alpha, beta, kappa, kappa1, P, v, t, v_0 = sp.symbols(\"alpha, beta, \\kappa, \\kappa', P, v, t, v_0\",\n",
    "                                                     positive=True, real=True)"
   ]
  },
  {
   "cell_type": "code",
   "execution_count": 18,
   "metadata": {},
   "outputs": [],
   "source": [
    "def alpha_T(T):\n",
    "    return b_1 + b_5/sp.sqrt(T)\n",
    "\n",
    "def alpha_T_int(t):\n",
    "    return sp.integrate(alpha_T(t),(t,T_r,T))\n",
    "\n",
    "def v_1(T): \n",
    "    return v_0.subs({v_0:4.366})*(1 + sp.integrate(alpha_T(t),(t,T_r,T)).subs({t:1000, b_1:.613E-4, b_5:-.613E-3})).evalf()"
   ]
  },
  {
   "cell_type": "markdown",
   "metadata": {},
   "source": [
    "$$ V(T,P_r) = V_0·\\left [1 + \\int_{T_r}^{T}\\alpha(T,P_r)dT \\right] $$"
   ]
  },
  {
   "cell_type": "code",
   "execution_count": 19,
   "metadata": {},
   "outputs": [
    {
     "data": {
      "image/png": "[encoded data removed]",
      "text/latex": [
       "$\\displaystyle 4.476998$"
      ],
      "text/plain": [
       "4.476998"
      ]
     },
     "execution_count": 19,
     "metadata": {},
     "output_type": "execute_result"
    }
   ],
   "source": [
    "T_r = 298.15\n",
    "v_1(1000).round(6)"
   ]
  },
  {
   "cell_type": "markdown",
   "metadata": {},
   "source": [
    "that compares with the frendly value 4.476770 J/mol/bar"
   ]
  },
  {
   "cell_type": "markdown",
   "metadata": {},
   "source": [
    "compresibility (1/bar) $\\equiv v_0/\\beta$\n",
    "expansivity (1/K) $\\equiv v_0*\\alpha_T$"
   ]
  },
  {
   "cell_type": "code",
   "execution_count": 20,
   "metadata": {},
   "outputs": [
    {
     "data": {
      "image/png": "[encoded data removed]",
      "text/latex": [
       "$\\displaystyle 0.000183001928859871$"
      ],
      "text/plain": [
       "0.000183001928859871"
      ]
     },
     "execution_count": 20,
     "metadata": {},
     "output_type": "execute_result"
    }
   ],
   "source": [
    "expansivity = 4.366*alpha_T(1000).subs({v_0:4.366, b_1:.613E-4, b_5:-.613E-3, b_6:1250000, b_7:-187.5}).evalf()\n",
    "expansivity"
   ]
  },
  {
   "cell_type": "markdown",
   "metadata": {},
   "source": [
    "that compares with the frendly value (0.1829078E-03 1/K) at 1 bar 1000 K"
   ]
  },
  {
   "cell_type": "markdown",
   "metadata": {},
   "source": [
    "$$K(T,P_r) = b_6 + b_7·(T-T_r) $$"
   ]
  },
  {
   "cell_type": "markdown",
   "metadata": {},
   "source": [
    "Molar volume at T and P\n",
    "$$ v(T,P) = v(T,1)\\left [ 1-\\frac{4P}{\\kappa_T + 4P} \\right]^{1/4} $$"
   ]
  },
  {
   "cell_type": "code",
   "execution_count": 21,
   "metadata": {},
   "outputs": [],
   "source": [
    "def kappa(T):\n",
    "    return b_6 + b_7*(T-T_r)"
   ]
  },
  {
   "cell_type": "code",
   "execution_count": 22,
   "metadata": {},
   "outputs": [],
   "source": [
    "def v(T,P):\n",
    "    return v_1(T)*(1-4*P/(kappa(T)+ 4*P))**(1/4)"
   ]
  },
  {
   "cell_type": "code",
   "execution_count": 23,
   "metadata": {},
   "outputs": [
    {
     "data": {
      "image/png": "[encoded data removed]",
      "text/latex": [
       "$\\displaystyle 4.437839$"
      ],
      "text/plain": [
       "4.437839"
      ]
     },
     "execution_count": 23,
     "metadata": {},
     "output_type": "execute_result"
    }
   ],
   "source": [
    "v(1000,10000).subs({b_1:.613E-4, b_5:-.613E-3, b_6:1250000, b_7:-187.5}).round(6)"
   ]
  },
  {
   "cell_type": "markdown",
   "metadata": {},
   "source": [
    "that compares well with the value of frendly 4.437839 J/mol/bar"
   ]
  },
  {
   "cell_type": "markdown",
   "metadata": {},
   "source": [
    "### Contribution of the volume at P and T to the gibbs energy "
   ]
  },
  {
   "cell_type": "markdown",
   "metadata": {},
   "source": [
    "$$ \\int_1^PV(T,P)dP= \\frac{V(T,1)K_T}{3}\\left [\\left (1+\\frac{4P}{K_T} \\right)^{3/4}-1 \\right]$$"
   ]
  },
  {
   "cell_type": "code",
   "execution_count": 24,
   "metadata": {},
   "outputs": [],
   "source": [
    "def int_v(T,P):\n",
    "    return v_1(T)*kappa(T)/3*((1+4*P/kappa(T))**(3/4)-1)"
   ]
  },
  {
   "attachments": {},
   "cell_type": "markdown",
   "metadata": {},
   "source": [
    "# symbolic volume integral"
   ]
  },
  {
   "cell_type": "code",
   "execution_count": null,
   "metadata": {},
   "outputs": [],
   "source": [
    "Int_V = v_1(T)*kappa(T)/3*((1+4*P/kappa(T))**(3/4)-1)"
   ]
  },
  {
   "cell_type": "code",
   "execution_count": 25,
   "metadata": {},
   "outputs": [
    {
     "data": {
      "image/png": "[encoded data removed]",
      "text/latex": [
       "$\\displaystyle \\frac{\\left(b_{6} + b_{7} \\left(T - 298.15\\right)\\right) \\left(\\left(\\frac{4 P}{b_{6} + b_{7} \\left(T - 298.15\\right)} + 1\\right)^{0.75} - 1\\right) \\left(- 0.005352716 T^{0.5} + 0.0002676358 T + 4.37862984360582\\right)}{3}$"
      ],
      "text/plain": [
       "                       ⎛                          0.75    ⎞                   \n",
       "                       ⎜⎛        4⋅P             ⎞        ⎟ ⎛               0.\n",
       "(b₆ + b₇⋅(T - 298.15))⋅⎜⎜──────────────────── + 1⎟     - 1⎟⋅⎝- 0.005352716⋅T  \n",
       "                       ⎝⎝b₆ + b₇⋅(T - 298.15)    ⎠        ⎠                   \n",
       "──────────────────────────────────────────────────────────────────────────────\n",
       "                                                         3                    \n",
       "\n",
       "                                      \n",
       "5                                    ⎞\n",
       "  + 0.0002676358⋅T + 4.37862984360582⎠\n",
       "                                      \n",
       "──────────────────────────────────────\n",
       "                                      "
      ]
     },
     "execution_count": 25,
     "metadata": {},
     "output_type": "execute_result"
    }
   ],
   "source": [
    "int_v(T,P)"
   ]
  },
  {
   "cell_type": "code",
   "execution_count": 26,
   "metadata": {},
   "outputs": [],
   "source": [
    "def fo_G(T, P): \n",
    "    return fo.get('G0') + fo.get('S0')*(T_r-T) - T*int_CpoT(T) + int_Cp(T) + int_v(T,P)"
   ]
  },
  {
   "cell_type": "code",
   "execution_count": 27,
   "metadata": {},
   "outputs": [
    {
     "data": {
      "image/png": "[encoded data removed]",
      "text/latex": [
       "$\\displaystyle -2147955$"
      ],
      "text/plain": [
       "-2147955"
      ]
     },
     "execution_count": 27,
     "metadata": {},
     "output_type": "execute_result"
    }
   ],
   "source": [
    "fo_G(1000,10000).subs({v_0:4.331754, b_6:1250000, b_7:-109.5}).round()"
   ]
  },
  {
   "cell_type": "markdown",
   "metadata": {},
   "source": [
    "that comapares quite well with the value from frendly -2147968 J"
   ]
  },
  {
   "cell_type": "markdown",
   "metadata": {},
   "source": [
    "# All together now"
   ]
  },
  {
   "cell_type": "markdown",
   "metadata": {},
   "source": [
    "Below a more condensed expression to compute the gibbs energy of an end-member, though not very elegant. "
   ]
  },
  {
   "cell_type": "code",
   "execution_count": 44,
   "metadata": {},
   "outputs": [],
   "source": [
    "import sympy as sp\n",
    "import numpy as np\n",
    "from sympy.interactive import printing\n",
    "printing.init_printing(use_latex = True)\n",
    "\n",
    "T_r = 298.15\n",
    "\n",
    "S_Pr_Tr = sp.Symbol(\"S(Pr, Tr)\")\n",
    "G0,S0, T, P, T_r = sp.symbols('G_0, S0, T, P, T_r')\n",
    "\n",
    "c_1, c_2, c_3, c_5 = sp.symbols('c_1, c_2, c_3, c_5')\n",
    "b_1, b_5, b_6, b_7 = sp.symbols('b_1, b_5, b_6, b_7')\n",
    "alpha, beta, kappa, P, v_0  = sp.symbols(\"alpha, beta, \\kappa, P, v_0\")\n",
    "\n",
    "def Cp(T):\n",
    "    return c_1 +c_2*T +c_3/T**2 + c_5/sp.sqrt(T)"
   ]
  },
  {
   "cell_type": "code",
   "execution_count": 42,
   "metadata": {},
   "outputs": [],
   "source": [
    "def G(t,p,phase):\n",
    "\n",
    "    CpoT_int = sp.integrate(Cp(T)/T,(T,T_r,T)).subs({c_1:phase.get('c_1'), \n",
    "                                                 c_2:phase.get('c_2'), \n",
    "                                                 c_3:phase.get('c_3'), \n",
    "                                                 c_5:phase.get('c_5')})\n",
    "\n",
    "    Cp_int   = sp.integrate(Cp(T),(T,T_r,T)).subs({c_1:phase.get('c_1'), \n",
    "                                               c_2:phase.get('c_2'), \n",
    "                                               c_3:phase.get('c_3'), \n",
    "                                               c_5:phase.get('c_5')})\n",
    "\n",
    "\n",
    "    alpha_T_int = (sp.integrate(phase.get('b_1') \n",
    "                                + phase.get('b_5')/sp.sqrt(T),(T,T_r,T)))\n",
    "    \n",
    "    v_1         = phase.get('V0')*(1 + alpha_T_int)\n",
    "    kappa       = phase.get('b_6') + phase.get('b_7')*(T-T_r)\n",
    "\n",
    "    int_v       = v_1*kappa/3*((1+4*P/kappa)**(3/4)-1)\n",
    "    return (phase.get('G0') + phase.get('S0')*(T_r-t) - t*CpoT_int.subs({T:t}) + Cp_int.subs({T:t}) \n",
    "            + int_v.subs({T:t,P:p}))"
   ]
  },
  {
   "attachments": {},
   "cell_type": "markdown",
   "metadata": {},
   "source": [
    "## Symbolic expression for G"
   ]
  },
  {
   "cell_type": "code",
   "execution_count": 49,
   "metadata": {},
   "outputs": [
    {
     "data": {
      "image/png": "[encoded data removed]",
      "text/latex": [
       "$\\displaystyle G_{0} - S_{0} T + S_{0} T_{r} + 4 \\sqrt{T} c_{5} - \\frac{T^{4} c_{8}}{12} - \\frac{T^{3} c_{4}}{6} + \\frac{T^{3} c_{8}}{3} - \\frac{T^{2} c_{2}}{2} + \\frac{T^{2} c_{4}}{2} + \\frac{T T_{r}^{3} c_{8}}{3} + \\frac{T T_{r}^{2} c_{4}}{2} + T T_{r} c_{2} - T c_{1} \\log{\\left(T \\right)} + T c_{1} \\log{\\left(T_{r} \\right)} + T c_{1} + T c_{2} - \\frac{T c_{6}}{T_{r}} - \\frac{T c_{3}}{2 T_{r}^{2}} - \\frac{T c_{7}}{3 T_{r}^{3}} - \\frac{2 T c_{5}}{\\sqrt{T_{r}}} - 2 \\sqrt{T_{r}} c_{5} - \\frac{T_{r}^{4} c_{8}}{4} - \\frac{T_{r}^{3} c_{4}}{3} - \\frac{T_{r}^{3} c_{8}}{3} - \\frac{T_{r}^{2} c_{2}}{2} - \\frac{T_{r}^{2} c_{4}}{2} - T_{r} c_{1} - T_{r} c_{2} + c_{1} \\log{\\left(T \\right)} - c_{1} \\log{\\left(T_{r} \\right)} + c_{6} \\log{\\left(T \\right)} - c_{6} \\log{\\left(T_{r} \\right)} + c_{6} + \\frac{c_{3}}{T_{r}} + \\frac{c_{6}}{T_{r}} + \\frac{c_{3}}{2 T_{r}^{2}} + \\frac{c_{7}}{2 T_{r}^{2}} + \\frac{c_{7}}{3 T_{r}^{3}} + \\frac{2 c_{5}}{\\sqrt{T_{r}}} - \\frac{c_{3}}{2 T} - \\frac{c_{6}}{T} - \\frac{c_{3}}{2 T^{2}} - \\frac{c_{7}}{6 T^{2}} - \\frac{c_{7}}{3 T^{3}} - \\frac{2 c_{5}}{\\sqrt{T}}$"
      ],
      "text/plain": [
       "                               4       3       3       2       2          3   \n",
       "                              T ⋅c₈   T ⋅c₄   T ⋅c₈   T ⋅c₂   T ⋅c₄   T⋅Tᵣ ⋅c₈\n",
       "G₀ - S₀⋅T + S₀⋅Tᵣ + 4⋅√T⋅c₅ - ───── - ───── + ───── - ───── + ───── + ────────\n",
       "                                12      6       3       2       2        3    \n",
       "                                                                              \n",
       "\n",
       "       2                                                                      \n",
       "   T⋅Tᵣ ⋅c₄                                                        T⋅c₆    T⋅c\n",
       " + ──────── + T⋅Tᵣ⋅c₂ - T⋅c₁⋅log(T) + T⋅c₁⋅log(Tᵣ) + T⋅c₁ + T⋅c₂ - ──── - ────\n",
       "      2                                                             Tᵣ        \n",
       "                                                                          2⋅Tᵣ\n",
       "\n",
       "                                     4        3        3        2        2    \n",
       "₃    T⋅c₇   2⋅T⋅c₅       ____      Tᵣ ⋅c₈   Tᵣ ⋅c₄   Tᵣ ⋅c₈   Tᵣ ⋅c₂   Tᵣ ⋅c₄ \n",
       "─ - ───── - ────── - 2⋅╲╱ Tᵣ ⋅c₅ - ────── - ────── - ────── - ────── - ────── \n",
       "2       3     ____                   4        3        3        2        2    \n",
       "    3⋅Tᵣ    ╲╱ Tᵣ                                                             \n",
       "\n",
       "                                                                              \n",
       "                                                                         c₃   \n",
       "- Tᵣ⋅c₁ - Tᵣ⋅c₂ + c₁⋅log(T) - c₁⋅log(Tᵣ) + c₆⋅log(T) - c₆⋅log(Tᵣ) + c₆ + ── + \n",
       "                                                                         Tᵣ   \n",
       "                                                                              \n",
       "\n",
       "                                                                          \n",
       "c₆     c₃      c₇      c₇     2⋅c₅     c₃   c₆    c₃     c₇     c₇    2⋅c₅\n",
       "── + ───── + ───── + ───── + ────── - ─── - ── - ──── - ──── - ──── - ────\n",
       "Tᵣ       2       2       3     ____   2⋅T   T       2      2      3    √T \n",
       "     2⋅Tᵣ    2⋅Tᵣ    3⋅Tᵣ    ╲╱ Tᵣ               2⋅T    6⋅T    3⋅T        "
      ]
     },
     "execution_count": 49,
     "metadata": {},
     "output_type": "execute_result"
    }
   ],
   "source": [
    "Gs = G0 + CpoT_int + S0*(T_r-T) - T*CpoT_int + Cp_int\n",
    "Gs.simplify()"
   ]
  },
  {
   "cell_type": "code",
   "execution_count": 53,
   "metadata": {},
   "outputs": [
    {
     "data": {
      "image/png": "[encoded data removed]",
      "text/latex": [
       "$\\displaystyle G_{0} + S_{0} \\cdot \\left(298.15 - T\\right) + 2 \\sqrt{T} c_{5} + \\frac{T^{4} c_{8}}{4} + \\frac{T^{3} c_{4}}{3} + \\frac{T^{3} c_{8}}{3} + \\frac{T^{2} c_{2}}{2} + \\frac{T^{2} c_{4}}{2} + T c_{1} + T c_{2} - T \\left(\\frac{T^{3} c_{8}}{3} + \\frac{T^{2} c_{4}}{2} + T c_{2} + c_{1} \\log{\\left(T \\right)} - 5.69759671556911 c_{1} - 298.15 c_{2} + 5.62471312205355 \\cdot 10^{-6} c_{3} - 44446.71125 c_{4} + 0.115827741662877 c_{5} + 0.00335401643468053 c_{6} + 1.25769201678206 \\cdot 10^{-8} c_{7} - 8834524.63945833 c_{8} - \\frac{c_{6}}{T} - \\frac{c_{3}}{2 T^{2}} - \\frac{c_{7}}{3 T^{3}} - \\frac{2 c_{5}}{\\sqrt{T}}\\right) + c_{1} \\log{\\left(T \\right)} - 303.847596715569 c_{1} - 44744.86125 c_{2} + 0.00335964114780258 c_{3} - 8878971.35070833 c_{4} - 34.4182134351238 c_{5} + c_{6} \\log{\\left(T \\right)} - 5.69424269913443 c_{6} + 5.63729004222137 \\cdot 10^{-6} c_{7} - 1984344665.58033 c_{8} - \\frac{c_{3}}{T} - \\frac{c_{6}}{T} - \\frac{c_{3}}{2 T^{2}} - \\frac{c_{7}}{2 T^{2}} - \\frac{c_{7}}{3 T^{3}} - \\frac{2 c_{5}}{\\sqrt{T}}$"
      ],
      "text/plain": [
       "                                  4       3       3       2       2           \n",
       "                                 T ⋅c₈   T ⋅c₄   T ⋅c₈   T ⋅c₂   T ⋅c₄        \n",
       "G₀ + S₀⋅(298.15 - T) + 2⋅√T⋅c₅ + ───── + ───── + ───── + ───── + ───── + T⋅c₁ \n",
       "                                   4       3       3       2       2          \n",
       "                                                                              \n",
       "\n",
       "           ⎛ 3       2                                                        \n",
       "           ⎜T ⋅c₈   T ⋅c₄                                                     \n",
       "+ T⋅c₂ - T⋅⎜───── + ───── + T⋅c₂ + c₁⋅log(T) - 5.69759671556911⋅c₁ - 298.15⋅c₂\n",
       "           ⎜  3       2                                                       \n",
       "           ⎝                                                                  \n",
       "\n",
       "                                                                              \n",
       "                                                                              \n",
       " + 5.62471312205355e-6⋅c₃ - 44446.71125⋅c₄ + 0.115827741662877⋅c₅ + 0.00335401\n",
       "                                                                              \n",
       "                                                                              \n",
       "\n",
       "                                                                              \n",
       "                                                              c₆    c₃     c₇ \n",
       "643468053⋅c₆ + 1.25769201678206e-8⋅c₇ - 8834524.63945833⋅c₈ - ── - ──── - ────\n",
       "                                                              T       2      3\n",
       "                                                                   2⋅T    3⋅T \n",
       "\n",
       "       ⎞                                                                      \n",
       "   2⋅c₅⎟                                                                      \n",
       " - ────⎟ + c₁⋅log(T) - 303.847596715569⋅c₁ - 44744.86125⋅c₂ + 0.00335964114780\n",
       "    √T ⎟                                                                      \n",
       "       ⎠                                                                      \n",
       "\n",
       "                                                                              \n",
       "                                                                              \n",
       "258⋅c₃ - 8878971.35070833⋅c₄ - 34.4182134351238⋅c₅ + c₆⋅log(T) - 5.69424269913\n",
       "                                                                              \n",
       "                                                                              \n",
       "\n",
       "                                                                              \n",
       "                                                        c₃   c₆    c₃     c₇  \n",
       "443⋅c₆ + 5.63729004222137e-6⋅c₇ - 1984344665.58033⋅c₈ - ── - ── - ──── - ──── \n",
       "                                                        T    T       2      2 \n",
       "                                                                  2⋅T    2⋅T  \n",
       "\n",
       "             \n",
       "   c₇    2⋅c₅\n",
       "- ──── - ────\n",
       "     3    √T \n",
       "  3⋅T        "
      ]
     },
     "execution_count": 53,
     "metadata": {},
     "output_type": "execute_result"
    }
   ],
   "source": [
    "Gs.subs({T_r : 298.15})"
   ]
  },
  {
   "cell_type": "code",
   "execution_count": 31,
   "metadata": {},
   "outputs": [],
   "source": [
    "fo = {'G0' :-2053138, \n",
    "      'S0' : 95.1, \n",
    "      'V0' : 4.366, \n",
    "      'c_1': 233.3, 'c_2':.1494E-2, 'c_3':-603800, 'c_5':-1869.7, \n",
    "      'b_1':.613E-4,'b_5':-.613E-3, 'b_6':1250000, 'b_7':-109.5\n",
    "     }"
   ]
  },
  {
   "cell_type": "code",
   "execution_count": 32,
   "metadata": {},
   "outputs": [
    {
     "data": {
      "image/png": "[encoded data removed]",
      "text/latex": [
       "$\\displaystyle -2188061.24725136$"
      ],
      "text/plain": [
       "-2188061.24725136"
      ]
     },
     "execution_count": 32,
     "metadata": {},
     "output_type": "execute_result"
    }
   ],
   "source": [
    "G(1000,1000,fo).evalf()"
   ]
  },
  {
   "cell_type": "code",
   "execution_count": null,
   "metadata": {},
   "outputs": [],
   "source": []
  },
  {
   "cell_type": "markdown",
   "metadata": {},
   "source": []
  },
  {
   "cell_type": "code",
   "execution_count": null,
   "metadata": {},
   "outputs": [],
   "source": []
  },
  {
   "cell_type": "code",
   "execution_count": null,
   "metadata": {},
   "outputs": [],
   "source": []
  },
  {
   "cell_type": "code",
   "execution_count": null,
   "metadata": {},
   "outputs": [],
   "source": []
  },
  {
   "cell_type": "code",
   "execution_count": null,
   "metadata": {},
   "outputs": [],
   "source": []
  },
  {
   "cell_type": "code",
   "execution_count": null,
   "metadata": {},
   "outputs": [],
   "source": []
  },
  {
   "cell_type": "code",
   "execution_count": null,
   "metadata": {},
   "outputs": [],
   "source": []
  },
  {
   "cell_type": "code",
   "execution_count": null,
   "metadata": {},
   "outputs": [],
   "source": []
  },
  {
   "cell_type": "code",
   "execution_count": null,
   "metadata": {},
   "outputs": [],
   "source": []
  },
  {
   "cell_type": "code",
   "execution_count": null,
   "metadata": {},
   "outputs": [],
   "source": []
  },
  {
   "cell_type": "code",
   "execution_count": null,
   "metadata": {},
   "outputs": [],
   "source": []
  },
  {
   "cell_type": "code",
   "execution_count": null,
   "metadata": {},
   "outputs": [],
   "source": []
  },
  {
   "cell_type": "code",
   "execution_count": null,
   "metadata": {},
   "outputs": [],
   "source": []
  }
 ],
 "metadata": {
  "kernelspec": {
   "display_name": "pnja",
   "language": "python",
   "name": "python3"
  },
  "language_info": {
   "codemirror_mode": {
    "name": "ipython",
    "version": 3
   },
   "file_extension": ".py",
   "mimetype": "text/x-python",
   "name": "python",
   "nbconvert_exporter": "python",
   "pygments_lexer": "ipython3",
   "version": "3.10.9"
  },
  "vscode": {
   "interpreter": {
    "hash": "e0f19d7df56e5761da96bd656548da0a2078e6f331c39beb2ac8c15854e5ec02"
   }
  }
 },
 "nbformat": 4,
 "nbformat_minor": 2
}

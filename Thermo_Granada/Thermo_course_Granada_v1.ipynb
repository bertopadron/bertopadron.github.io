{
 "cells": [
  {
   "cell_type": "markdown",
   "metadata": {},
   "source": [
    "# So what?"
   ]
  },
  {
   "cell_type": "code",
   "execution_count": 72,
   "metadata": {},
   "outputs": [],
   "source": [
    "import sympy as sp\n",
    "import numpy as np\n",
    "from sympy.interactive import printing\n",
    "printing.init_printing(use_latex = True)"
   ]
  },
  {
   "cell_type": "code",
   "execution_count": 73,
   "metadata": {},
   "outputs": [],
   "source": [
    "S_Pr_Tr = sp.Symbol(\"S(Pr, Tr)\")\n",
    "G_Pr_T  = sp.Symbol(\"G(Pr, T)\")\n",
    "G0,T,T_r = sp.symbols('G_0, T, T_r')\n",
    "c_1, c_2, c_3, c_4, c_5, c_6, c_7, c_8 = sp.symbols('c_1, c_2, c_3, c_4, c_5, c_6, c_7, c_8')\n",
    "b_1, b_5, b_6, b_7, b_8                = sp.symbols('b_1, b_5, b_6, b_7, b_8')"
   ]
  },
  {
   "cell_type": "markdown",
   "metadata": {},
   "source": [
    "## Heat capacity at a given temperature and 1 bar"
   ]
  },
  {
   "cell_type": "markdown",
   "metadata": {},
   "source": [
    "In Holland and Powell datasets, the heat capacity is expressed as the following polinomial with only $c_1$ to $c_5$ terms\n",
    "\n",
    "$$ C_p = c_1 +c_2T +\\frac{c_3}{T^2} + c_4T^2 + \\frac{c_5}{\\sqrt{T}} + \\frac{c_6}{T} + \\frac{c_7}{T^3} + c_8T^3 $$\n",
    "\n"
   ]
  },
  {
   "cell_type": "markdown",
   "metadata": {},
   "source": [
    "Let's evaluate this for the case of forsterite in hp02ver.dat. It compares well (to the forth decima) with the value retrieved from frendly (175.0651)"
   ]
  },
  {
   "cell_type": "code",
   "execution_count": 74,
   "metadata": {},
   "outputs": [
    {
     "data": {
      "image/png": "[encoded data removed]",
      "text/latex": [
       "$\\displaystyle 175.0651$"
      ],
      "text/plain": [
       "175.0651"
      ]
     },
     "execution_count": 74,
     "metadata": {},
     "output_type": "execute_result"
    }
   ],
   "source": [
    "def Cp(T):\n",
    "    return c_1 +c_2*T +c_3/T**2 + c_4*T**2 + c_5/sp.sqrt(T) + c_6/T + c_7/T**3 + c_8*T**3\n",
    "Cp(1000).subs({c_1:233.3, c_2:.1494E-2, c_3:-603800, c_4:0, c_5:-1869.7 , c_6:0, c_7:0, c_8:0}).evalf().round(4)"
   ]
  },
  {
   "cell_type": "code",
   "execution_count": 75,
   "metadata": {},
   "outputs": [
    {
     "data": {
      "image/png": "[encoded data removed]",
      "text/latex": [
       "$\\displaystyle T^{3} c_{8} + T^{2} c_{4} + T c_{2} + c_{1} + \\frac{c_{6}}{T} + \\frac{c_{3}}{T^{2}} + \\frac{c_{7}}{T^{3}} + \\frac{c_{5}}{\\sqrt{T}}$"
      ],
      "text/plain": [
       " 3       2                  c₆   c₃   c₇   c₅\n",
       "T ⋅c₈ + T ⋅c₄ + T⋅c₂ + c₁ + ── + ── + ── + ──\n",
       "                            T     2    3   √T\n",
       "                                 T    T      "
      ]
     },
     "execution_count": 75,
     "metadata": {},
     "output_type": "execute_result"
    }
   ],
   "source": [
    "Cp(T)"
   ]
  },
  {
   "cell_type": "markdown",
   "metadata": {},
   "source": [
    "## Entropy at a given temperature and 1 bar\n",
    "We can now integrate the symbolic expression to compute the intregal $C_P/T$"
   ]
  },
  {
   "cell_type": "code",
   "execution_count": 76,
   "metadata": {},
   "outputs": [],
   "source": [
    "CpoT_int = sp.integrate(Cp(T)/T,(T,T_r,T))"
   ]
  },
  {
   "cell_type": "code",
   "execution_count": 77,
   "metadata": {},
   "outputs": [
    {
     "data": {
      "image/png": "[encoded data removed]",
      "text/latex": [
       "$\\displaystyle \\frac{T^{3} c_{8}}{3} + \\frac{T^{2} c_{4}}{2} + T c_{2} - \\frac{T_{r}^{3} c_{8}}{3} - \\frac{T_{r}^{2} c_{4}}{2} - T_{r} c_{2} + c_{1} \\log{\\left(T \\right)} - c_{1} \\log{\\left(T_{r} \\right)} + \\frac{c_{6}}{T_{r}} + \\frac{c_{3}}{2 T_{r}^{2}} + \\frac{c_{7}}{3 T_{r}^{3}} + \\frac{2 c_{5}}{\\sqrt{T_{r}}} - \\frac{c_{6}}{T} - \\frac{c_{3}}{2 T^{2}} - \\frac{c_{7}}{3 T^{3}} - \\frac{2 c_{5}}{\\sqrt{T}}$"
      ],
      "text/plain": [
       " 3       2               3        2                                           \n",
       "T ⋅c₈   T ⋅c₄          Tᵣ ⋅c₈   Tᵣ ⋅c₄                                    c₆  \n",
       "───── + ───── + T⋅c₂ - ────── - ────── - Tᵣ⋅c₂ + c₁⋅log(T) - c₁⋅log(Tᵣ) + ── +\n",
       "  3       2              3        2                                       Tᵣ  \n",
       "                                                                              \n",
       "\n",
       "                                                 \n",
       "   c₃      c₇     2⋅c₅    c₆    c₃     c₇    2⋅c₅\n",
       " ───── + ───── + ────── - ── - ──── - ──── - ────\n",
       "     2       3     ____   T       2      3    √T \n",
       " 2⋅Tᵣ    3⋅Tᵣ    ╲╱ Tᵣ         2⋅T    3⋅T        "
      ]
     },
     "execution_count": 77,
     "metadata": {},
     "output_type": "execute_result"
    }
   ],
   "source": [
    "CpoT_int"
   ]
  },
  {
   "cell_type": "code",
   "execution_count": 78,
   "metadata": {},
   "outputs": [],
   "source": [
    "fo = {'G0':-2053138, 'S0': 95.1, 'V0': 4.366}"
   ]
  },
  {
   "cell_type": "markdown",
   "metadata": {},
   "source": [
    "We lambdify the expression to make it faster"
   ]
  },
  {
   "cell_type": "code",
   "execution_count": 79,
   "metadata": {},
   "outputs": [
    {
     "data": {
      "image/png": "[encoded data removed]",
      "text/latex": [
       "$\\displaystyle 181.971337198419$"
      ],
      "text/plain": [
       "181.971337198419"
      ]
     },
     "execution_count": 79,
     "metadata": {},
     "output_type": "execute_result"
    }
   ],
   "source": [
    "int_CpoT = sp.lambdify(T, CpoT_int.subs({T_r:298.15, c_1:233.3, c_2:.1494E-2, c_3:-603800, \n",
    "                                       c_4:0, c_5:-1869.7 , c_6:0, c_7:0, c_8:0}), modules='sympy')\n",
    "int_CpoT(1000).evalf()"
   ]
  },
  {
   "cell_type": "markdown",
   "metadata": {},
   "source": [
    "and then finally we compute the entropy at 1 bar by adding the reference entropy. That compares with the frendly value (277.0713 J/mol/K)"
   ]
  },
  {
   "cell_type": "code",
   "execution_count": 80,
   "metadata": {},
   "outputs": [
    {
     "data": {
      "image/png": "[encoded data removed]",
      "text/latex": [
       "$\\displaystyle 277.071337198419$"
      ],
      "text/plain": [
       "277.071337198419"
      ]
     },
     "execution_count": 80,
     "metadata": {},
     "output_type": "execute_result"
    }
   ],
   "source": [
    "fo_S = fo.get('S0') + int_CpoT(1000)\n",
    "fo_S.evalf()"
   ]
  },
  {
   "cell_type": "markdown",
   "metadata": {},
   "source": [
    "## Apparent gibbs enery at a given temperature and 1 bar"
   ]
  },
  {
   "cell_type": "markdown",
   "metadata": {},
   "source": [
    "We can do similarly with enthalpy"
   ]
  },
  {
   "cell_type": "code",
   "execution_count": 81,
   "metadata": {},
   "outputs": [
    {
     "data": {
      "image/png": "[encoded data removed]",
      "text/latex": [
       "$\\displaystyle 2 \\sqrt{T} c_{5} + \\frac{T^{4} c_{8}}{4} + \\frac{T^{3} c_{4}}{3} + \\frac{T^{2} c_{2}}{2} + T c_{1} - 2 \\sqrt{T_{r}} c_{5} - \\frac{T_{r}^{4} c_{8}}{4} - \\frac{T_{r}^{3} c_{4}}{3} - \\frac{T_{r}^{2} c_{2}}{2} - T_{r} c_{1} + c_{6} \\log{\\left(T \\right)} - c_{6} \\log{\\left(T_{r} \\right)} + \\frac{c_{3}}{T_{r}} + \\frac{c_{7}}{2 T_{r}^{2}} - \\frac{c_{3}}{T} - \\frac{c_{7}}{2 T^{2}}$"
      ],
      "text/plain": [
       "           4       3       2                             4        3        2  \n",
       "          T ⋅c₈   T ⋅c₄   T ⋅c₂              ____      Tᵣ ⋅c₈   Tᵣ ⋅c₄   Tᵣ ⋅c\n",
       "2⋅√T⋅c₅ + ───── + ───── + ───── + T⋅c₁ - 2⋅╲╱ Tᵣ ⋅c₅ - ────── - ────── - ─────\n",
       "            4       3       2                            4        3        2  \n",
       "                                                                              \n",
       "\n",
       "                                                           \n",
       "₂                                    c₃     c₇    c₃    c₇ \n",
       "─ - Tᵣ⋅c₁ + c₆⋅log(T) - c₆⋅log(Tᵣ) + ── + ───── - ── - ────\n",
       "                                     Tᵣ       2   T       2\n",
       "                                          2⋅Tᵣ         2⋅T "
      ]
     },
     "execution_count": 81,
     "metadata": {},
     "output_type": "execute_result"
    }
   ],
   "source": [
    "Cp_int   = sp.integrate(Cp(T),(T,T_r,T))\n",
    "Cp_int"
   ]
  },
  {
   "cell_type": "code",
   "execution_count": 82,
   "metadata": {},
   "outputs": [],
   "source": [
    "int_Cp   = sp.lambdify(T, Cp_int.subs({T_r:298.15, c_1:233.3, c_2:.1494E-2, c_3:-603800, \n",
    "                                       c_4:0, c_5:-1869.7 , c_6:0, c_7:0, c_8:0}))"
   ]
  },
  {
   "cell_type": "code",
   "execution_count": 83,
   "metadata": {},
   "outputs": [],
   "source": [
    "def fo_G(T): \n",
    "    T_r = 298.15\n",
    "    return(fo.get('G0') + fo.get('S0')*(T_r-T) - T*int_CpoT(T) + int_Cp(T))"
   ]
  },
  {
   "cell_type": "markdown",
   "metadata": {},
   "source": [
    "that compares also very well with the value from frendly (-2192536 J/mol)"
   ]
  },
  {
   "cell_type": "code",
   "execution_count": 84,
   "metadata": {},
   "outputs": [
    {
     "data": {
      "image/png": "[encoded data removed]",
      "text/latex": [
       "$\\displaystyle -2192536.33974438$"
      ],
      "text/plain": [
       "-2192536.33974438"
      ]
     },
     "execution_count": 84,
     "metadata": {},
     "output_type": "execute_result"
    }
   ],
   "source": [
    "fo_G(1000).evalf()"
   ]
  },
  {
   "cell_type": "markdown",
   "metadata": {},
   "source": [
    "## Apparent gibbs enery at a given temperature and pressure\n",
    "### Volume at high pressure using the Murnaghan equation\n",
    "It suffices to add to the above expression the volume integral\n",
    "Holland and Powell expression\n",
    "$$ \\alpha_T = a^0 \\left( 1 - \\frac{10}{\\sqrt(T)} \\right) $$\n",
    "$$ v(T,1) = v^0 [1 + a^0(T-T_r)-20a^0(\\sqrt T-\\sqrt T_r)] $$\n",
    "\n",
    "in Perplex these are written as\n",
    "$$ \\alpha (T,P_r) = b_1 + b_5/\\sqrt T $$"
   ]
  },
  {
   "cell_type": "code",
   "execution_count": 85,
   "metadata": {},
   "outputs": [],
   "source": [
    "alpha, beta, kappa, kappa1, P, v, t, v_0 = sp.symbols(\"alpha, beta, \\kappa, \\kappa', P, v, t, v_0\",\n",
    "                                                     positive=True, real=True)"
   ]
  },
  {
   "cell_type": "code",
   "execution_count": 86,
   "metadata": {},
   "outputs": [],
   "source": [
    "def alpha_T(T):\n",
    "    return b_1 + b_5/sp.sqrt(T)\n",
    "\n",
    "def alpha_T_int(t):\n",
    "    return sp.integrate(alpha_T(t),(t,T_r,T))\n",
    "\n",
    "def v_1(T): \n",
    "    return v_0.subs({v_0:4.366})*(1 + sp.integrate(alpha_T(t),(t,T_r,T)).subs({t:1000, b_1:.613E-4, b_5:-.613E-3})).evalf()"
   ]
  },
  {
   "cell_type": "markdown",
   "metadata": {},
   "source": [
    "$$ V(T,P_r) = V_0·\\left [1 + \\int_{T_r}^{T}\\alpha(T,P_r)dT \\right] $$"
   ]
  },
  {
   "cell_type": "code",
   "execution_count": 87,
   "metadata": {},
   "outputs": [
    {
     "data": {
      "image/png": "[encoded data removed]",
      "text/latex": [
       "$\\displaystyle 4.476998$"
      ],
      "text/plain": [
       "4.476998"
      ]
     },
     "execution_count": 87,
     "metadata": {},
     "output_type": "execute_result"
    }
   ],
   "source": [
    "T_r = 298.15\n",
    "v_1(1000).round(6)"
   ]
  },
  {
   "cell_type": "markdown",
   "metadata": {},
   "source": [
    "that compares with the frendly value 4.476770 J/mol/bar"
   ]
  },
  {
   "cell_type": "code",
   "execution_count": 88,
   "metadata": {},
   "outputs": [
    {
     "data": {
      "image/png": "[encoded data removed]",
      "text/latex": [
       "$\\displaystyle v_{0} \\left(2.0 T^{0.5} b_{5} + T b_{1} - 298.15 b_{1} - 34.5340411767867 b_{5} + 1.0\\right)$"
      ],
      "text/plain": [
       "   ⎛     0.5                                                  ⎞\n",
       "v₀⋅⎝2.0⋅T   ⋅b₅ + T⋅b₁ - 298.15⋅b₁ - 34.5340411767867⋅b₅ + 1.0⎠"
      ]
     },
     "execution_count": 88,
     "metadata": {},
     "output_type": "execute_result"
    }
   ],
   "source": [
    "def alpha_T(T):\n",
    "    return b_1 + b_5/sp.sqrt(T)\n",
    "\n",
    "def alpha_T_int(t):\n",
    "    return sp.integrate(alpha_T(t),(t,T_r,T))\n",
    "\n",
    "def v_1(T): \n",
    "    return v_0*(1 + sp.integrate(alpha_T(t),(t,T_r,T))).evalf()\n",
    "\n",
    "v_1(T)"
   ]
  },
  {
   "cell_type": "markdown",
   "metadata": {},
   "source": [
    "compresibility (1/bar) $\\equiv v_0/\\beta$\n",
    "expansivity (1/K) $\\equiv v_0*\\alpha_T$"
   ]
  },
  {
   "cell_type": "code",
   "execution_count": 89,
   "metadata": {},
   "outputs": [
    {
     "data": {
      "image/png": "[encoded data removed]",
      "text/latex": [
       "$\\displaystyle 0.000183001928859871$"
      ],
      "text/plain": [
       "0.000183001928859871"
      ]
     },
     "execution_count": 89,
     "metadata": {},
     "output_type": "execute_result"
    }
   ],
   "source": [
    "expansivity = 4.366*alpha_T(1000).subs({v_0:4.366, b_1:.613E-4, b_5:-.613E-3, b_6:1250000, b_7:-187.5}).evalf()\n",
    "expansivity"
   ]
  },
  {
   "cell_type": "markdown",
   "metadata": {},
   "source": [
    "that compares with the frendly value (0.1829078E-03 1/K) at 1 bar 1000 K"
   ]
  },
  {
   "cell_type": "markdown",
   "metadata": {},
   "source": [
    "$$K(T,P_r) = b_6 + b_7·(T-T_r) $$"
   ]
  },
  {
   "cell_type": "markdown",
   "metadata": {},
   "source": [
    "Molar volume at T and P\n",
    "$$ v(T,P) = v(T,1)\\left [ 1-\\frac{4P}{\\kappa_T + 4P} \\right]^{1/4} $$"
   ]
  },
  {
   "cell_type": "code",
   "execution_count": 90,
   "metadata": {},
   "outputs": [],
   "source": [
    "def Kappa(T):\n",
    "    return b_6 + b_7*(T-T_r)"
   ]
  },
  {
   "cell_type": "code",
   "execution_count": 91,
   "metadata": {},
   "outputs": [],
   "source": [
    "def v(T,P):\n",
    "    return v_1(T)*(1-4*P/(Kappa(T)+ 4*P))**(1/4)"
   ]
  },
  {
   "cell_type": "code",
   "execution_count": 92,
   "metadata": {},
   "outputs": [
    {
     "data": {
      "image/png": "[encoded data removed]",
      "text/latex": [
       "$\\displaystyle 4.36599650720699$"
      ],
      "text/plain": [
       "4.36599650720699"
      ]
     },
     "execution_count": 92,
     "metadata": {},
     "output_type": "execute_result"
    }
   ],
   "source": [
    "v(298.15,1).subs({v_0:4.366, b_1:.613E-4, b_5:-.613E-3, b_6:1250000, b_7:-187.5}).evalf()"
   ]
  },
  {
   "cell_type": "code",
   "execution_count": 93,
   "metadata": {},
   "outputs": [
    {
     "data": {
      "image/png": "[encoded data removed]",
      "text/latex": [
       "$\\displaystyle 4.43783911460173$"
      ],
      "text/plain": [
       "4.43783911460173"
      ]
     },
     "execution_count": 93,
     "metadata": {},
     "output_type": "execute_result"
    }
   ],
   "source": [
    "v(1000,10000).subs({v_0:4.366, b_1:.613E-4, b_5:-.613E-3, b_6:1250000, b_7:-187.5}).evalf()"
   ]
  },
  {
   "attachments": {},
   "cell_type": "markdown",
   "metadata": {},
   "source": [
    "that compares well with the value of frendly 4.437839 J/mol/bar at 1000 K and 10000 bar"
   ]
  },
  {
   "cell_type": "markdown",
   "metadata": {},
   "source": [
    "### Contribution of the volume at P and T to the gibbs energy "
   ]
  },
  {
   "cell_type": "markdown",
   "metadata": {},
   "source": [
    "$$ \\int_1^PV(T,P)dP= \\frac{V(T,1)K_T}{3}\\left [\\left (1+\\frac{4P}{K_T} \\right)^{3/4}-1 \\right]$$"
   ]
  },
  {
   "cell_type": "code",
   "execution_count": 94,
   "metadata": {},
   "outputs": [
    {
     "data": {
      "image/png": "[encoded data removed]",
      "text/latex": [
       "$\\displaystyle \\frac{v_{0} \\left(b_{6} + b_{7} \\left(T - 298.15\\right)\\right) \\left(\\left(\\frac{4 P}{b_{6} + b_{7} \\left(T - 298.15\\right)} + 1\\right)^{0.75} - 1\\right) \\left(2.0 T^{0.5} b_{5} + T b_{1} - 298.15 b_{1} - 34.5340411767867 b_{5} + 1.0\\right)}{3}$"
      ],
      "text/plain": [
       "                          ⎛                          0.75    ⎞                \n",
       "                          ⎜⎛        4⋅P             ⎞        ⎟ ⎛     0.5      \n",
       "v₀⋅(b₆ + b₇⋅(T - 298.15))⋅⎜⎜──────────────────── + 1⎟     - 1⎟⋅⎝2.0⋅T   ⋅b₅ + \n",
       "                          ⎝⎝b₆ + b₇⋅(T - 298.15)    ⎠        ⎠                \n",
       "──────────────────────────────────────────────────────────────────────────────\n",
       "                                                             3                \n",
       "\n",
       "                                             \n",
       "                                            ⎞\n",
       "T⋅b₁ - 298.15⋅b₁ - 34.5340411767867⋅b₅ + 1.0⎠\n",
       "                                             \n",
       "─────────────────────────────────────────────\n",
       "                                             "
      ]
     },
     "execution_count": 94,
     "metadata": {},
     "output_type": "execute_result"
    }
   ],
   "source": [
    "v_1(T)*Kappa(T)/3*((1+4*P/Kappa(T))**(3/4)-1)"
   ]
  },
  {
   "cell_type": "code",
   "execution_count": 95,
   "metadata": {},
   "outputs": [],
   "source": [
    "def int_v(T,P):\n",
    "    T_r = 298.15\n",
    "    return v_1(T)*Kappa(T)/3*((1+4*P/Kappa(T))**(3/4)-1)"
   ]
  },
  {
   "cell_type": "code",
   "execution_count": 96,
   "metadata": {},
   "outputs": [
    {
     "data": {
      "image/png": "[encoded data removed]",
      "text/latex": [
       "$\\displaystyle 4.35719306951528$"
      ],
      "text/plain": [
       "4.35719306951528"
      ]
     },
     "execution_count": 96,
     "metadata": {},
     "output_type": "execute_result"
    }
   ],
   "source": [
    "int_v(209.15,1).subs({v_0:4.366, b_1:.613E-4, b_5:-.613E-3, b_6:1250000, b_7:-187.5}).evalf()"
   ]
  },
  {
   "attachments": {},
   "cell_type": "markdown",
   "metadata": {},
   "source": [
    "# symbolic volume integral"
   ]
  },
  {
   "cell_type": "code",
   "execution_count": 97,
   "metadata": {},
   "outputs": [
    {
     "data": {
      "image/png": "[encoded data removed]",
      "text/latex": [
       "$\\displaystyle 1.45533333333333 \\left(1305903.125 - 187.5 T\\right) \\left(2.82842712474619 \\left(\\frac{P}{1305903.125 - 187.5 T} + 0.25\\right)^{0.75} - 1.0\\right) \\left(- 0.001226 T^{0.5} + 6.13 \\cdot 10^{-5} T + 1.00289277224137\\right)$"
      ],
      "text/plain": [
       "                                         ⎛                                    \n",
       "                                         ⎜                 ⎛          P       \n",
       "1.45533333333333⋅(1305903.125 - 187.5⋅T)⋅⎜2.82842712474619⋅⎜──────────────────\n",
       "                                         ⎝                 ⎝1305903.125 - 187.\n",
       "\n",
       "           0.75      ⎞                                                 \n",
       "          ⎞          ⎟ ⎛            0.5                               ⎞\n",
       "─── + 0.25⎟     - 1.0⎟⋅⎝- 0.001226⋅T    + 6.13e-5⋅T + 1.00289277224137⎠\n",
       "5⋅T       ⎠          ⎠                                                 "
      ]
     },
     "execution_count": 97,
     "metadata": {},
     "output_type": "execute_result"
    }
   ],
   "source": [
    "int_v(T,P).subs({v_0:4.366, b_1:.613E-4, b_5:-.613E-3, b_6:1250000, b_7:-187.5}).evalf()"
   ]
  },
  {
   "cell_type": "code",
   "execution_count": 98,
   "metadata": {},
   "outputs": [
    {
     "data": {
      "image/png": "[encoded data removed]",
      "text/latex": [
       "$\\displaystyle 1.45533333333333 \\left(1305903.125 - 187.5 T\\right) \\left(2.82842712474619 \\left(\\frac{P}{1305903.125 - 187.5 T} + 0.25\\right)^{0.75} - 1.0\\right) \\left(- 0.001226 T^{0.5} + 6.13 \\cdot 10^{-5} T + 1.00289277224137\\right)$"
      ],
      "text/plain": [
       "                                         ⎛                                    \n",
       "                                         ⎜                 ⎛          P       \n",
       "1.45533333333333⋅(1305903.125 - 187.5⋅T)⋅⎜2.82842712474619⋅⎜──────────────────\n",
       "                                         ⎝                 ⎝1305903.125 - 187.\n",
       "\n",
       "           0.75      ⎞                                                 \n",
       "          ⎞          ⎟ ⎛            0.5                               ⎞\n",
       "─── + 0.25⎟     - 1.0⎟⋅⎝- 0.001226⋅T    + 6.13e-5⋅T + 1.00289277224137⎠\n",
       "5⋅T       ⎠          ⎠                                                 "
      ]
     },
     "execution_count": 98,
     "metadata": {},
     "output_type": "execute_result"
    }
   ],
   "source": [
    "int_vdP = v_1(T)*Kappa(T)/3*((1+4*P/Kappa(T))**(3/4)-1)\n",
    "int_vdP.subs({v_0:4.366, b_1:.613E-4, b_5:-.613E-3, b_6:1250000, b_7:-187.5}).evalf()"
   ]
  },
  {
   "attachments": {},
   "cell_type": "markdown",
   "metadata": {},
   "source": [
    "## Another (my) way of getting the integralVdP\n",
    "\n",
    "For some reason i am not getting the right answer using the hp expression 98, as i do to retrieve v0 for 1 bar. So i did myself the integral of the Murnaghan equation:\n",
    "\n",
    "$$ P = \\frac{\\kappa}{\\kappa'} \\left[\\left(\\frac{V^0}{V}\\right)^{\\kappa'}-1\\right]$$"
   ]
  },
  {
   "cell_type": "code",
   "execution_count": 99,
   "metadata": {},
   "outputs": [
    {
     "data": {
      "image/png": "[encoded data removed]",
      "text/latex": [
       "$\\displaystyle P = \\frac{\\kappa \\left(\\left(\\frac{V^{0}}{V}\\right)^{\\kappa'} - 1\\right)}{\\kappa'}$"
      ],
      "text/plain": [
       "           ⎛    \\kappa'    ⎞\n",
       "           ⎜⎛V⁰⎞           ⎟\n",
       "    \\kappa⋅⎜⎜──⎟        - 1⎟\n",
       "           ⎝⎝V ⎠           ⎠\n",
       "P = ────────────────────────\n",
       "            \\kappa'         "
      ]
     },
     "metadata": {},
     "output_type": "display_data"
    },
    {
     "data": {
      "image/png": "[encoded data removed]",
      "text/latex": [
       "$\\displaystyle \\left(\\frac{\\left(V^{0}\\right)^{\\kappa'} \\kappa}{P \\kappa' + \\kappa}\\right)^{\\frac{1}{\\kappa'}}$"
      ],
      "text/plain": [
       "          ____________________\n",
       "         ╱    \\kappa'         \n",
       "        ╱   V⁰       ⋅\\kappa  \n",
       "\\kappa'╱   ────────────────── \n",
       "     ╲╱    P⋅\\kappa' + \\kappa "
      ]
     },
     "execution_count": 99,
     "metadata": {},
     "output_type": "execute_result"
    }
   ],
   "source": [
    "T, P, kappa, kappa1, V0, V, G_V = sp.symbols(\"T, P, \\kappa, \\kappa', V^0, V, G_V\", \n",
    "                                        positive=True, real=True)\n",
    "\n",
    "myequation = sp.Eq(P,kappa/kappa1*((V0/V)**kappa1-1))\n",
    "display(myequation)\n",
    "myequation_solved = sp.solve(myequation,V)\n",
    "myequation_solved[0]"
   ]
  },
  {
   "attachments": {},
   "cell_type": "markdown",
   "metadata": {},
   "source": [
    "For $\\kappa' =4 $"
   ]
  },
  {
   "cell_type": "code",
   "execution_count": 100,
   "metadata": {},
   "outputs": [
    {
     "data": {
      "image/png": "[encoded data removed]",
      "text/latex": [
       "$\\displaystyle \\frac{V^{0} \\sqrt[4]{\\kappa}}{\\sqrt[4]{4 P + \\kappa}}$"
      ],
      "text/plain": [
       "    4 ________  \n",
       " V⁰⋅╲╱ \\kappa   \n",
       "────────────────\n",
       "4 ______________\n",
       "╲╱ 4⋅P + \\kappa "
      ]
     },
     "metadata": {},
     "output_type": "display_data"
    },
    {
     "data": {
      "image/png": "[encoded data removed]",
      "text/latex": [
       "$\\displaystyle \\frac{V^{0} \\sqrt[4]{\\kappa} \\left(\\left(4 P + \\kappa\\right)^{\\frac{3}{4}} - \\left(\\kappa + 4\\right)^{\\frac{3}{4}}\\right)}{3}$"
      ],
      "text/plain": [
       "   4 ________ ⎛              3/4               3/4⎞\n",
       "V⁰⋅╲╱ \\kappa ⋅⎝(4⋅P + \\kappa)    - (\\kappa + 4)   ⎠\n",
       "───────────────────────────────────────────────────\n",
       "                         3                         "
      ]
     },
     "execution_count": 100,
     "metadata": {},
     "output_type": "execute_result"
    }
   ],
   "source": [
    "tointegrate = myequation_solved[0].subs({kappa1:4})\n",
    "display(tointegrate)\n",
    "myhp = sp.Integral(tointegrate,(P, 1, P))\n",
    "myhp.doit().simplify()"
   ]
  },
  {
   "cell_type": "code",
   "execution_count": 101,
   "metadata": {},
   "outputs": [
    {
     "name": "stdout",
     "output_type": "stream",
     "text": [
      "V^0*\\kappa**(1/4)*((4*P + \\kappa)**(3/4) - (\\kappa + 4)**(3/4))/3\n"
     ]
    }
   ],
   "source": [
    "print(myhp.doit().simplify())"
   ]
  },
  {
   "cell_type": "code",
   "execution_count": 102,
   "metadata": {},
   "outputs": [
    {
     "data": {
      "image/png": "[encoded data removed]",
      "text/latex": [
       "$\\displaystyle \\frac{v_{0} \\left(b_{6} + b_{7} \\left(T - 298.15\\right)\\right)^{0.25} \\left(\\left(4 P + b_{6} + b_{7} \\left(T - 298.15\\right)\\right)^{0.75} - \\left(b_{6} + b_{7} \\left(T - 298.15\\right) + 4\\right)^{0.75}\\right) \\left(2.0 T^{0.5} b_{5} + T b_{1} - 298.15 b_{1} - 34.5340411767867 b_{5} + 1.0\\right)}{3}$"
      ],
      "text/plain": [
       "                         0.25 ⎛                            0.75               \n",
       "v₀⋅(b₆ + b₇⋅(T - 298.15))    ⋅⎝(4⋅P + b₆ + b₇⋅(T - 298.15))     - (b₆ + b₇⋅(T \n",
       "──────────────────────────────────────────────────────────────────────────────\n",
       "                                                                              \n",
       "\n",
       "              0.75⎞ ⎛     0.5                                                 \n",
       "- 298.15) + 4)    ⎠⋅⎝2.0⋅T   ⋅b₅ + T⋅b₁ - 298.15⋅b₁ - 34.5340411767867⋅b₅ + 1.\n",
       "──────────────────────────────────────────────────────────────────────────────\n",
       "3                                                                             \n",
       "\n",
       " ⎞\n",
       "0⎠\n",
       "──\n",
       "  "
      ]
     },
     "execution_count": 102,
     "metadata": {},
     "output_type": "execute_result"
    }
   ],
   "source": [
    "int_vdP2 = v_1(T)*Kappa(T)**(1/4)*((4*P + Kappa(T))**(3/4) - (Kappa(T) + 4)**(3/4))/3\n",
    "int_vdP2"
   ]
  },
  {
   "cell_type": "code",
   "execution_count": 103,
   "metadata": {},
   "outputs": [
    {
     "name": "stdout",
     "output_type": "stream",
     "text": [
      "v_0*(b_6 + b_7*(T - 298.15))**0.25*((4*P + b_6 + b_7*(T - 298.15))**0.75 - (b_6 + b_7*(T - 298.15) + 4)**0.75)*(2.0*T**0.5*b_5 + T*b_1 - 298.15*b_1 - 34.5340411767867*b_5 + 1.0)/3\n"
     ]
    }
   ],
   "source": [
    "print(int_vdP2)"
   ]
  },
  {
   "attachments": {},
   "cell_type": "markdown",
   "metadata": {},
   "source": [
    "# Symbolic G computation"
   ]
  },
  {
   "cell_type": "code",
   "execution_count": 104,
   "metadata": {},
   "outputs": [],
   "source": [
    "def fo_G(T, P): \n",
    "    T_r = 298.15\n",
    "    return fo.get('G0') + fo.get('S0')*(T_r-T) - T*int_CpoT(T) + int_Cp(T) + int_v(T,P)"
   ]
  },
  {
   "cell_type": "code",
   "execution_count": 105,
   "metadata": {},
   "outputs": [
    {
     "data": {
      "image/png": "[encoded data removed]",
      "text/latex": [
       "$\\displaystyle -2053138.00000175$"
      ],
      "text/plain": [
       "-2053138.00000175"
      ]
     },
     "execution_count": 105,
     "metadata": {},
     "output_type": "execute_result"
    }
   ],
   "source": [
    "fo_G(298.15,1).subs({T_r: 298.15,v_0:4.366, b_1:.613E-4, b_5:-.613E-3, b_6:1250000, b_7:-109.5}).evalf()-4.366"
   ]
  },
  {
   "attachments": {},
   "cell_type": "markdown",
   "metadata": {},
   "source": [
    "that comapares quite well with the value from frendly -2147968 J at 10000 bar 1000 K"
   ]
  },
  {
   "cell_type": "markdown",
   "metadata": {},
   "source": [
    "# All together now"
   ]
  },
  {
   "cell_type": "markdown",
   "metadata": {},
   "source": [
    "Below a more condensed expression to compute the gibbs energy of an end-member, though not very elegant. "
   ]
  },
  {
   "cell_type": "code",
   "execution_count": 106,
   "metadata": {},
   "outputs": [],
   "source": [
    "import sympy as sp\n",
    "import numpy as np\n",
    "from sympy.interactive import printing\n",
    "printing.init_printing(use_latex = True)\n",
    "\n",
    "S_Pr_Tr = sp.Symbol(\"S(Pr, Tr)\")\n",
    "G0,S0, T, P, T_r = sp.symbols('G_0, S0, T, P, T_r')\n",
    "\n",
    "c_1, c_2, c_3, c_5 = sp.symbols('c_1, c_2, c_3, c_5')\n",
    "b_1, b_5, b_6, b_7 = sp.symbols('b_1, b_5, b_6, b_7')\n",
    "alpha, beta, kappa, P, v_0  = sp.symbols(\"alpha, beta, \\kappa, P, v_0\")\n",
    "\n",
    "def Cp(T):\n",
    "    return c_1 +c_2*T +c_3/T**2 + c_5/sp.sqrt(T)\n",
    "\n",
    "CpoT_int = sp.integrate(Cp(T)/T,(T,T_r,T))\n",
    "Cp_int   = sp.integrate(Cp(T),(T,T_r,T))\n",
    "\n",
    "def alpha_T(T):\n",
    "    return b_1 + b_5/sp.sqrt(T)\n",
    "\n",
    "def alpha_T_int(t):\n",
    "    return sp.integrate(alpha_T(t),(t,T_r,T))\n",
    "\n",
    "def v_1(T): \n",
    "    return v_0*(1 + sp.integrate(alpha_T(t),(t,T_r,T))).evalf()\n",
    "\n",
    "def Kappa(T):\n",
    "    return b_6 + b_7*(T-T_r)\n",
    "\n",
    "int_vdP = v_1(T)*Kappa(T)/3*((1+4*P/Kappa(T))**(3/4)-1)\n"
   ]
  },
  {
   "cell_type": "code",
   "execution_count": 107,
   "metadata": {},
   "outputs": [
    {
     "data": {
      "image/png": "[encoded data removed]",
      "text/latex": [
       "$\\displaystyle - 0.005352716 T^{0.5} + 0.0002676358 T + 0.005352716 T_{r}^{0.5} - 0.0002676358 T_{r} + 4.366$"
      ],
      "text/plain": [
       "               0.5                                  0.5                       \n",
       "- 0.005352716⋅T    + 0.0002676358⋅T + 0.005352716⋅Tᵣ    - 0.0002676358⋅Tᵣ + 4.\n",
       "\n",
       "   \n",
       "366"
      ]
     },
     "execution_count": 107,
     "metadata": {},
     "output_type": "execute_result"
    }
   ],
   "source": [
    "v_1(T).subs({v_0:4.366, b_1:.613E-4, b_5:-.613E-3, b_6:1250000, b_7:-187.5}).evalf()"
   ]
  },
  {
   "cell_type": "code",
   "execution_count": 108,
   "metadata": {},
   "outputs": [
    {
     "data": {
      "image/png": "[encoded data removed]",
      "text/latex": [
       "$\\displaystyle 1.45533333333333 \\left(2.82842712474619 \\left(\\frac{P}{- 187.5 T + 187.5 T_{r} + 1250000.0} + 0.25\\right)^{0.75} - 1.0\\right) \\left(- 187.5 T + 187.5 T_{r} + 1250000.0\\right) \\left(- 0.001226 T^{0.5} + 6.13 \\cdot 10^{-5} T + 0.001226 T_{r}^{0.5} - 6.13 \\cdot 10^{-5} T_{r} + 1.0\\right)$"
      ],
      "text/plain": [
       "                 ⎛                                                         0.7\n",
       "                 ⎜                 ⎛               P                      ⎞   \n",
       "1.45533333333333⋅⎜2.82842712474619⋅⎜─────────────────────────────── + 0.25⎟   \n",
       "                 ⎝                 ⎝-187.5⋅T + 187.5⋅Tᵣ + 1250000.0       ⎠   \n",
       "\n",
       "5      ⎞                                                                      \n",
       "       ⎟                                   ⎛            0.5                   \n",
       "  - 1.0⎟⋅(-187.5⋅T + 187.5⋅Tᵣ + 1250000.0)⋅⎝- 0.001226⋅T    + 6.13e-5⋅T + 0.00\n",
       "       ⎠                                                                      \n",
       "\n",
       "                              \n",
       "       0.5                   ⎞\n",
       "1226⋅Tᵣ    - 6.13e-5⋅Tᵣ + 1.0⎠\n",
       "                              "
      ]
     },
     "execution_count": 108,
     "metadata": {},
     "output_type": "execute_result"
    }
   ],
   "source": [
    "int_vdP.subs({v_0:4.366, b_1:.613E-4, b_5:-.613E-3, b_6:1250000, b_7:-187.5}).evalf()"
   ]
  },
  {
   "cell_type": "code",
   "execution_count": 111,
   "metadata": {},
   "outputs": [],
   "source": [
    "def G(t,p,phase):\n",
    "    T_r = 298.15\n",
    "    CpoT_int = sp.integrate(Cp(T)/T,(T,T_r,T)).subs({c_1:phase.get('c_1'), \n",
    "                                                 c_2:phase.get('c_2'), \n",
    "                                                 c_3:phase.get('c_3'), \n",
    "                                                 c_5:phase.get('c_5')})\n",
    "\n",
    "    Cp_int   = sp.integrate(Cp(T),(T,T_r,T)).subs({c_1:phase.get('c_1'), \n",
    "                                               c_2:phase.get('c_2'), \n",
    "                                               c_3:phase.get('c_3'), \n",
    "                                               c_5:phase.get('c_5')})\n",
    "\n",
    "\n",
    "    alpha_T_int = (sp.integrate(phase.get('b_1') \n",
    "                                + phase.get('b_5')/sp.sqrt(T),(T,T_r,T)))\n",
    "    \n",
    "    v_1         = phase.get('V0')*(1 + alpha_T_int)\n",
    "    kappa       = phase.get('b_6') + phase.get('b_7')*(T-T_r)\n",
    "\n",
    "    int_v       = v_1*kappa/3*((1+4*P/kappa)**(3/4)-1)\n",
    "    return (phase.get('G0') + phase.get('S0')*(T_r-t) - t*CpoT_int.subs({T:t}) + Cp_int.subs({T:t}) \n",
    "            + int_v.subs({T:t,P:p}))"
   ]
  },
  {
   "cell_type": "code",
   "execution_count": 122,
   "metadata": {},
   "outputs": [
    {
     "data": {
      "image/png": "[encoded data removed]",
      "text/latex": [
       "$\\displaystyle -2053133.63400175$"
      ],
      "text/plain": [
       "-2053133.63400175"
      ]
     },
     "execution_count": 122,
     "metadata": {},
     "output_type": "execute_result"
    }
   ],
   "source": [
    "G(298.15, 1, fo).evalf()"
   ]
  },
  {
   "attachments": {},
   "cell_type": "markdown",
   "metadata": {},
   "source": [
    "## Symbolic expression for G"
   ]
  },
  {
   "cell_type": "code",
   "execution_count": 113,
   "metadata": {},
   "outputs": [
    {
     "data": {
      "image/png": "[encoded data removed]",
      "text/latex": [
       "$\\displaystyle G_{0} + S_{0} \\left(- T + T_{r}\\right) + 2 \\sqrt{T} c_{5} + \\frac{T^{2} c_{2}}{2} + T c_{1} - T \\left(T c_{2} - T_{r} c_{2} + c_{1} \\log{\\left(T \\right)} - c_{1} \\log{\\left(T_{r} \\right)} + \\frac{c_{3}}{2 T_{r}^{2}} + \\frac{2 c_{5}}{\\sqrt{T_{r}}} - \\frac{c_{3}}{2 T^{2}} - \\frac{2 c_{5}}{\\sqrt{T}}\\right) - 2 \\sqrt{T_{r}} c_{5} - \\frac{T_{r}^{2} c_{2}}{2} - T_{r} c_{1} + \\frac{v_{0} \\left(b_{6} + b_{7} \\left(T - 298.15\\right)\\right)^{0.25} \\left(\\left(4 P + b_{6} + b_{7} \\left(T - 298.15\\right)\\right)^{0.75} - \\left(b_{6} + b_{7} \\left(T - 298.15\\right) + 4\\right)^{0.75}\\right) \\left(2.0 T^{0.5} b_{5} + T b_{1} - 298.15 b_{1} - 34.5340411767867 b_{5} + 1.0\\right)}{3} + \\frac{c_{3}}{T_{r}} - \\frac{c_{3}}{T}$"
      ],
      "text/plain": [
       "                               2                                              \n",
       "                              T ⋅c₂            ⎛                              \n",
       "G₀ + S₀⋅(-T + Tᵣ) + 2⋅√T⋅c₅ + ───── + T⋅c₁ - T⋅⎜T⋅c₂ - Tᵣ⋅c₂ + c₁⋅log(T) - c₁⋅\n",
       "                                2              ⎜                              \n",
       "                                               ⎝                              \n",
       "\n",
       "                                                          2                   \n",
       "            c₃     2⋅c₅     c₃    2⋅c₅⎞       ____      Tᵣ ⋅c₂           v₀⋅(b\n",
       "log(Tᵣ) + ───── + ────── - ──── - ────⎟ - 2⋅╲╱ Tᵣ ⋅c₅ - ────── - Tᵣ⋅c₁ + ─────\n",
       "              2     ____      2    √T ⎟                   2                   \n",
       "          2⋅Tᵣ    ╲╱ Tᵣ    2⋅T        ⎠                                       \n",
       "\n",
       "                    0.25 ⎛                            0.75                    \n",
       "₆ + b₇⋅(T - 298.15))    ⋅⎝(4⋅P + b₆ + b₇⋅(T - 298.15))     - (b₆ + b₇⋅(T - 298\n",
       "──────────────────────────────────────────────────────────────────────────────\n",
       "                                                                         3    \n",
       "                                                                              \n",
       "\n",
       "         0.75⎞ ⎛     0.5                                                  ⎞   \n",
       ".15) + 4)    ⎠⋅⎝2.0⋅T   ⋅b₅ + T⋅b₁ - 298.15⋅b₁ - 34.5340411767867⋅b₅ + 1.0⎠   \n",
       "─────────────────────────────────────────────────────────────────────────── + \n",
       "                                                                              \n",
       "                                                                              \n",
       "\n",
       "       \n",
       "c₃   c₃\n",
       "── - ──\n",
       "Tᵣ   T \n",
       "       "
      ]
     },
     "execution_count": 113,
     "metadata": {},
     "output_type": "execute_result"
    }
   ],
   "source": [
    "Gs = G0 + S0*(T_r-T) - T*CpoT_int + Cp_int + int_vdP2\n",
    "Gs"
   ]
  },
  {
   "cell_type": "code",
   "execution_count": 114,
   "metadata": {},
   "outputs": [
    {
     "data": {
      "image/png": "[encoded data removed]",
      "text/latex": [
       "$\\displaystyle 0.333333333333333 v_{0} \\left(b_{6} + b_{7} \\left(T - 298.15\\right)\\right)^{0.25} \\left(2.82842712474619 \\left(P + 0.25 b_{6} + 0.25 b_{7} \\left(T - 298.15\\right)\\right)^{0.75} - 2.82842712474619 \\left(0.25 b_{6} + 0.25 b_{7} \\left(T - 298.15\\right) + 1\\right)^{0.75}\\right) \\left(2.0 T^{0.5} b_{5} + T b_{1} - 298.15 b_{1} - 34.5340411767867 b_{5} + 1.0\\right) - 2192536.33974438$"
      ],
      "text/plain": [
       "                                           0.25 ⎛                             \n",
       "0.333333333333333⋅v₀⋅(b₆ + b₇⋅(T - 298.15))    ⋅⎝2.82842712474619⋅(P + 0.25⋅b₆\n",
       "\n",
       "                        0.75                                                  \n",
       " + 0.25⋅b₇⋅(T - 298.15))     - 2.82842712474619⋅(0.25⋅b₆ + 0.25⋅b₇⋅(T - 298.15\n",
       "\n",
       "      0.75⎞ ⎛     0.5                                                  ⎞      \n",
       ") + 1)    ⎠⋅⎝2.0⋅T   ⋅b₅ + T⋅b₁ - 298.15⋅b₁ - 34.5340411767867⋅b₅ + 1.0⎠ - 219\n",
       "\n",
       "             \n",
       "2536.33974438"
      ]
     },
     "execution_count": 114,
     "metadata": {},
     "output_type": "execute_result"
    }
   ],
   "source": [
    "Gs.subs({'S0': 95.1,'G_0':-2053138,T:1000,T_r:298.15, c_1:233.3, c_2:.1494E-2, c_3:-603800, \n",
    "                                       c_4:0, c_5:-1869.7 , c_6:0, c_7:0, c_8:0}).evalf()"
   ]
  },
  {
   "cell_type": "code",
   "execution_count": 115,
   "metadata": {},
   "outputs": [
    {
     "name": "stdout",
     "output_type": "stream",
     "text": [
      "G_0 + S0*(-T + T_r) + 2*sqrt(T)*c_5 + T**2*c_2/2 + T*c_1 - T*(T*c_2 - T_r*c_2 + c_1*log(T) - c_1*log(T_r) + c_3/(2*T_r**2) + 2*c_5/sqrt(T_r) - c_3/(2*T**2) - 2*c_5/sqrt(T)) - 2*sqrt(T_r)*c_5 - T_r**2*c_2/2 - T_r*c_1 + v_0*(b_6 + b_7*(T - 298.15))**0.25*((4*P + b_6 + b_7*(T - 298.15))**0.75 - (b_6 + b_7*(T - 298.15) + 4)**0.75)*(2.0*T**0.5*b_5 + T*b_1 - 298.15*b_1 - 34.5340411767867*b_5 + 1.0)/3 + c_3/T_r - c_3/T\n"
     ]
    }
   ],
   "source": [
    "print(Gs)"
   ]
  },
  {
   "attachments": {},
   "cell_type": "markdown",
   "metadata": {},
   "source": [
    "## With all parameters"
   ]
  },
  {
   "cell_type": "code",
   "execution_count": 116,
   "metadata": {},
   "outputs": [],
   "source": [
    "fo = {'G0' :-2053138, \n",
    "      'S0' : 95.1, \n",
    "      'V0' : 4.366, \n",
    "      'c_1': 233.3, 'c_2':.1494E-2, 'c_3':-603800, 'c_5':-1869.7, \n",
    "      'b_1':.613E-4,'b_5':-.613E-3, 'b_6':1250000, 'b_7':-109.5,\n",
    "      'c_4': 0     ,'c_6':  0     , 'c_7':0      , 'c_8':0     ,\n",
    "      'b_8': 0\n",
    "     }"
   ]
  },
  {
   "cell_type": "code",
   "execution_count": 117,
   "metadata": {},
   "outputs": [],
   "source": [
    "def g(T,P,phase):\n",
    "    T_r = 298.15\n",
    "    return (\n",
    "    phase.get('G0')                    + \n",
    "    phase.get('S0')*(T_r - T)          +\n",
    "\n",
    "    2*np.sqrt(T)*phase.get('c_5')      - 2*np.sqrt(T_r)*phase.get('c_5') +\n",
    "    T**2*phase.get('c_2')/2            - T_r**2*phase.get('c_2')/2       +\n",
    "    T*phase.get('c_1')                 - T_r*phase.get('c_1')            +\n",
    "    phase.get('c_3')/T_r               - phase.get('c_3')/T              - \n",
    "    \n",
    "    T*(T*phase.get('c_2')              - T_r*phase.get('c_2')            + \n",
    "       phase.get('c_1')*np.log(T)      - phase.get('c_1')*np.log(T_r)    + \n",
    "       phase.get('c_3')/(2*T_r**2)     - phase.get('c_3')/(2*T**2)       + \n",
    "       2*phase.get('c_5')/np.sqrt(T_r) - 2*phase.get('c_5')/np.sqrt(T))  +\n",
    "    \n",
    "    phase.get('V0')                                                 *\n",
    "    (phase.get('b_6') + phase.get('b_7')*(T - T_r))**0.25           *\n",
    "    ((4*P + phase.get('b_6') + phase.get('b_7')*(T - T_r))**0.75 - \n",
    "     (4   + phase.get('b_6') + phase.get('b_7')*(T - T_r))**0.75)   *\n",
    "    (2.0*T**0.5*phase.get('b_5') - 2.0*T_r**0.5*phase.get('b_5')    + \n",
    "     T*phase.get('b_1')          - T_r*phase.get('b_1') + 1.0)/3\n",
    "    )\n"
   ]
  },
  {
   "cell_type": "code",
   "execution_count": 118,
   "metadata": {},
   "outputs": [
    {
     "data": {
      "image/png": "[encoded data removed]",
      "text/latex": [
       "$\\displaystyle -2053137.9999999998$"
      ],
      "text/plain": [
       "-2053137.9999999998"
      ]
     },
     "execution_count": 118,
     "metadata": {},
     "output_type": "execute_result"
    }
   ],
   "source": [
    "g(298.15, 1, fo)"
   ]
  },
  {
   "cell_type": "code",
   "execution_count": 119,
   "metadata": {},
   "outputs": [
    {
     "data": {
      "image/png": "[encoded data removed]",
      "text/latex": [
       "$\\displaystyle -2754093.2170224343$"
      ],
      "text/plain": [
       "-2754093.2170224343"
      ]
     },
     "execution_count": 119,
     "metadata": {},
     "output_type": "execute_result"
    }
   ],
   "source": [
    "g(2500, 1, fo)"
   ]
  },
  {
   "cell_type": "code",
   "execution_count": 120,
   "metadata": {},
   "outputs": [
    {
     "data": {
      "image/png": "[encoded data removed]",
      "text/latex": [
       "$\\displaystyle -2706530.2297112257$"
      ],
      "text/plain": [
       "-2706530.2297112257"
      ]
     },
     "execution_count": 120,
     "metadata": {},
     "output_type": "execute_result"
    }
   ],
   "source": [
    "g(2500, 10000, fo)"
   ]
  },
  {
   "cell_type": "code",
   "execution_count": 121,
   "metadata": {},
   "outputs": [
    {
     "data": {
      "image/png": "[encoded data removed]",
      "text/latex": [
       "$\\displaystyle -2147958.989168235$"
      ],
      "text/plain": [
       "-2147958.989168235"
      ]
     },
     "execution_count": 121,
     "metadata": {},
     "output_type": "execute_result"
    }
   ],
   "source": [
    "g(1000, 10000, fo)"
   ]
  },
  {
   "cell_type": "code",
   "execution_count": null,
   "metadata": {},
   "outputs": [],
   "source": [
    "    "
   ]
  }
 ],
 "metadata": {
  "kernelspec": {
   "display_name": "pnja",
   "language": "python",
   "name": "python3"
  },
  "language_info": {
   "codemirror_mode": {
    "name": "ipython",
    "version": 3
   },
   "file_extension": ".py",
   "mimetype": "text/x-python",
   "name": "python",
   "nbconvert_exporter": "python",
   "pygments_lexer": "ipython3",
   "version": "3.8.5"
  },
  "vscode": {
   "interpreter": {
    "hash": "e0f19d7df56e5761da96bd656548da0a2078e6f331c39beb2ac8c15854e5ec02"
   }
  }
 },
 "nbformat": 4,
 "nbformat_minor": 2
}

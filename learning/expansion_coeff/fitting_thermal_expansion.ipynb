{
 "cells": [
  {
   "cell_type": "code",
   "execution_count": 112,
   "metadata": {},
   "outputs": [],
   "source": [
    "import numpy as np\n",
    "import pandas as pd\n",
    "import matplotlib.pyplot as plt"
   ]
  },
  {
   "cell_type": "code",
   "execution_count": 325,
   "metadata": {},
   "outputs": [
    {
     "data": {
      "text/html": [
       "<div>\n",
       "<style scoped>\n",
       "    .dataframe tbody tr th:only-of-type {\n",
       "        vertical-align: middle;\n",
       "    }\n",
       "\n",
       "    .dataframe tbody tr th {\n",
       "        vertical-align: top;\n",
       "    }\n",
       "\n",
       "    .dataframe thead th {\n",
       "        text-align: right;\n",
       "    }\n",
       "</style>\n",
       "<table border=\"1\" class=\"dataframe\">\n",
       "  <thead>\n",
       "    <tr style=\"text-align: right;\">\n",
       "      <th></th>\n",
       "      <th>Temperature (ºC)</th>\n",
       "      <th>a(A)</th>\n",
       "      <th>b(A)</th>\n",
       "      <th>c(A)</th>\n",
       "      <th>V(A3)</th>\n",
       "    </tr>\n",
       "  </thead>\n",
       "  <tbody>\n",
       "    <tr>\n",
       "      <th>0</th>\n",
       "      <td>25</td>\n",
       "      <td>16.210(2)</td>\n",
       "      <td>5.5552(8)</td>\n",
       "      <td>10.041(1)</td>\n",
       "      <td>904.2(2)</td>\n",
       "    </tr>\n",
       "    <tr>\n",
       "      <th>1</th>\n",
       "      <td>70</td>\n",
       "      <td>16.214(2)</td>\n",
       "      <td>5.5582(8)</td>\n",
       "      <td>10.048(1)</td>\n",
       "      <td>905.5(2)</td>\n",
       "    </tr>\n",
       "    <tr>\n",
       "      <th>2</th>\n",
       "      <td>120</td>\n",
       "      <td>16.213(2)</td>\n",
       "      <td>5.5644(8)</td>\n",
       "      <td>10.053(1)</td>\n",
       "      <td>906.9(2)</td>\n",
       "    </tr>\n",
       "    <tr>\n",
       "      <th>3</th>\n",
       "      <td>170</td>\n",
       "      <td>16.210(2)</td>\n",
       "      <td>5.5692(7)</td>\n",
       "      <td>10.067(1)</td>\n",
       "      <td>908.8(2)</td>\n",
       "    </tr>\n",
       "    <tr>\n",
       "      <th>4</th>\n",
       "      <td>220</td>\n",
       "      <td>16.209(2)</td>\n",
       "      <td>5.5749(7)</td>\n",
       "      <td>10.077(1)</td>\n",
       "      <td>910.6(2)</td>\n",
       "    </tr>\n",
       "  </tbody>\n",
       "</table>\n",
       "</div>"
      ],
      "text/plain": [
       "   Temperature (ºC)       a(A)       b(A)       c(A)     V(A3)\n",
       "0                25  16.210(2)  5.5552(8)  10.041(1)  904.2(2)\n",
       "1                70  16.214(2)  5.5582(8)  10.048(1)  905.5(2)\n",
       "2               120  16.213(2)  5.5644(8)  10.053(1)  906.9(2)\n",
       "3               170  16.210(2)  5.5692(7)  10.067(1)  908.8(2)\n",
       "4               220  16.209(2)  5.5749(7)  10.077(1)  910.6(2)"
      ]
     },
     "execution_count": 325,
     "metadata": {},
     "output_type": "execute_result"
    }
   ],
   "source": [
    "file_name = \"Zoisite.csv\"\n",
    "zoisite = pd.read_csv(file_name, delimiter=';')\n",
    "zoisite.head()"
   ]
  },
  {
   "cell_type": "code",
   "execution_count": 326,
   "metadata": {},
   "outputs": [],
   "source": [
    "for i in list(zoisite)[1:]:\n",
    "        zoisite[i + '_std'] = zoisite[i].str.extract('.*\\((.*)\\).*').astype(float)/(10**(zoisite[i].iloc[0][::-1].find('.')-3))\n",
    "        zoisite[i] = zoisite[i].str.replace(r\"\\(.*\\)\",\"\", regex=True).astype(float)"
   ]
  },
  {
   "cell_type": "code",
   "execution_count": 292,
   "metadata": {},
   "outputs": [
    {
     "data": {
      "text/plain": [
       "15"
      ]
     },
     "execution_count": 292,
     "metadata": {},
     "output_type": "execute_result"
    }
   ],
   "source": [
    "len(zoisite)"
   ]
  },
  {
   "cell_type": "code",
   "execution_count": 327,
   "metadata": {},
   "outputs": [
    {
     "data": {
      "text/html": [
       "<div>\n",
       "<style scoped>\n",
       "    .dataframe tbody tr th:only-of-type {\n",
       "        vertical-align: middle;\n",
       "    }\n",
       "\n",
       "    .dataframe tbody tr th {\n",
       "        vertical-align: top;\n",
       "    }\n",
       "\n",
       "    .dataframe thead th {\n",
       "        text-align: right;\n",
       "    }\n",
       "</style>\n",
       "<table border=\"1\" class=\"dataframe\">\n",
       "  <thead>\n",
       "    <tr style=\"text-align: right;\">\n",
       "      <th></th>\n",
       "      <th>Temperature (ºC)</th>\n",
       "      <th>a(A)</th>\n",
       "      <th>b(A)</th>\n",
       "      <th>c(A)</th>\n",
       "      <th>V(A3)</th>\n",
       "      <th>a(A)_std</th>\n",
       "      <th>b(A)_std</th>\n",
       "      <th>c(A)_std</th>\n",
       "      <th>V(A3)_std</th>\n",
       "      <th>V/V0</th>\n",
       "      <th>V/V0_std</th>\n",
       "    </tr>\n",
       "  </thead>\n",
       "  <tbody>\n",
       "    <tr>\n",
       "      <th>0</th>\n",
       "      <td>25</td>\n",
       "      <td>16.210</td>\n",
       "      <td>5.5552</td>\n",
       "      <td>10.041</td>\n",
       "      <td>904.2</td>\n",
       "      <td>0.002</td>\n",
       "      <td>0.0008</td>\n",
       "      <td>0.001</td>\n",
       "      <td>0.2</td>\n",
       "      <td>1.000000</td>\n",
       "      <td>0.000885</td>\n",
       "    </tr>\n",
       "    <tr>\n",
       "      <th>1</th>\n",
       "      <td>70</td>\n",
       "      <td>16.214</td>\n",
       "      <td>5.5582</td>\n",
       "      <td>10.048</td>\n",
       "      <td>905.5</td>\n",
       "      <td>0.002</td>\n",
       "      <td>0.0008</td>\n",
       "      <td>0.001</td>\n",
       "      <td>0.2</td>\n",
       "      <td>1.001438</td>\n",
       "      <td>0.000885</td>\n",
       "    </tr>\n",
       "    <tr>\n",
       "      <th>2</th>\n",
       "      <td>120</td>\n",
       "      <td>16.213</td>\n",
       "      <td>5.5644</td>\n",
       "      <td>10.053</td>\n",
       "      <td>906.9</td>\n",
       "      <td>0.002</td>\n",
       "      <td>0.0008</td>\n",
       "      <td>0.001</td>\n",
       "      <td>0.2</td>\n",
       "      <td>1.002986</td>\n",
       "      <td>0.000886</td>\n",
       "    </tr>\n",
       "    <tr>\n",
       "      <th>3</th>\n",
       "      <td>170</td>\n",
       "      <td>16.210</td>\n",
       "      <td>5.5692</td>\n",
       "      <td>10.067</td>\n",
       "      <td>908.8</td>\n",
       "      <td>0.002</td>\n",
       "      <td>0.0007</td>\n",
       "      <td>0.001</td>\n",
       "      <td>0.2</td>\n",
       "      <td>1.005087</td>\n",
       "      <td>0.000887</td>\n",
       "    </tr>\n",
       "    <tr>\n",
       "      <th>4</th>\n",
       "      <td>220</td>\n",
       "      <td>16.209</td>\n",
       "      <td>5.5749</td>\n",
       "      <td>10.077</td>\n",
       "      <td>910.6</td>\n",
       "      <td>0.002</td>\n",
       "      <td>0.0007</td>\n",
       "      <td>0.001</td>\n",
       "      <td>0.2</td>\n",
       "      <td>1.007078</td>\n",
       "      <td>0.000888</td>\n",
       "    </tr>\n",
       "    <tr>\n",
       "      <th>5</th>\n",
       "      <td>270</td>\n",
       "      <td>16.211</td>\n",
       "      <td>5.5819</td>\n",
       "      <td>10.088</td>\n",
       "      <td>912.9</td>\n",
       "      <td>0.002</td>\n",
       "      <td>0.0006</td>\n",
       "      <td>0.001</td>\n",
       "      <td>0.1</td>\n",
       "      <td>1.009622</td>\n",
       "      <td>0.000668</td>\n",
       "    </tr>\n",
       "    <tr>\n",
       "      <th>6</th>\n",
       "      <td>320</td>\n",
       "      <td>16.209</td>\n",
       "      <td>5.5861</td>\n",
       "      <td>10.098</td>\n",
       "      <td>914.4</td>\n",
       "      <td>0.002</td>\n",
       "      <td>0.0006</td>\n",
       "      <td>0.001</td>\n",
       "      <td>0.1</td>\n",
       "      <td>1.011281</td>\n",
       "      <td>0.000669</td>\n",
       "    </tr>\n",
       "    <tr>\n",
       "      <th>7</th>\n",
       "      <td>370</td>\n",
       "      <td>16.197</td>\n",
       "      <td>5.5897</td>\n",
       "      <td>10.109</td>\n",
       "      <td>915.3</td>\n",
       "      <td>0.004</td>\n",
       "      <td>0.0010</td>\n",
       "      <td>0.002</td>\n",
       "      <td>0.2</td>\n",
       "      <td>1.012276</td>\n",
       "      <td>0.000890</td>\n",
       "    </tr>\n",
       "    <tr>\n",
       "      <th>8</th>\n",
       "      <td>420</td>\n",
       "      <td>16.206</td>\n",
       "      <td>5.5962</td>\n",
       "      <td>10.120</td>\n",
       "      <td>917.8</td>\n",
       "      <td>0.002</td>\n",
       "      <td>0.0008</td>\n",
       "      <td>0.001</td>\n",
       "      <td>0.2</td>\n",
       "      <td>1.015041</td>\n",
       "      <td>0.000891</td>\n",
       "    </tr>\n",
       "    <tr>\n",
       "      <th>9</th>\n",
       "      <td>470</td>\n",
       "      <td>16.207</td>\n",
       "      <td>5.6016</td>\n",
       "      <td>10.131</td>\n",
       "      <td>919.7</td>\n",
       "      <td>0.003</td>\n",
       "      <td>0.0008</td>\n",
       "      <td>0.001</td>\n",
       "      <td>0.2</td>\n",
       "      <td>1.017142</td>\n",
       "      <td>0.000892</td>\n",
       "    </tr>\n",
       "    <tr>\n",
       "      <th>10</th>\n",
       "      <td>520</td>\n",
       "      <td>16.198</td>\n",
       "      <td>5.6064</td>\n",
       "      <td>10.142</td>\n",
       "      <td>921.0</td>\n",
       "      <td>0.003</td>\n",
       "      <td>0.0009</td>\n",
       "      <td>0.002</td>\n",
       "      <td>0.2</td>\n",
       "      <td>1.018580</td>\n",
       "      <td>0.000893</td>\n",
       "    </tr>\n",
       "    <tr>\n",
       "      <th>11</th>\n",
       "      <td>570</td>\n",
       "      <td>16.195</td>\n",
       "      <td>5.6120</td>\n",
       "      <td>10.152</td>\n",
       "      <td>922.7</td>\n",
       "      <td>0.003</td>\n",
       "      <td>0.0008</td>\n",
       "      <td>0.002</td>\n",
       "      <td>0.2</td>\n",
       "      <td>1.020460</td>\n",
       "      <td>0.000894</td>\n",
       "    </tr>\n",
       "    <tr>\n",
       "      <th>12</th>\n",
       "      <td>650</td>\n",
       "      <td>16.189</td>\n",
       "      <td>5.6223</td>\n",
       "      <td>10.173</td>\n",
       "      <td>925.9</td>\n",
       "      <td>0.004</td>\n",
       "      <td>0.0008</td>\n",
       "      <td>0.002</td>\n",
       "      <td>0.2</td>\n",
       "      <td>1.023999</td>\n",
       "      <td>0.000895</td>\n",
       "    </tr>\n",
       "    <tr>\n",
       "      <th>13</th>\n",
       "      <td>700</td>\n",
       "      <td>16.194</td>\n",
       "      <td>5.6233</td>\n",
       "      <td>10.180</td>\n",
       "      <td>927.1</td>\n",
       "      <td>0.004</td>\n",
       "      <td>0.0009</td>\n",
       "      <td>0.002</td>\n",
       "      <td>0.2</td>\n",
       "      <td>1.025326</td>\n",
       "      <td>0.000896</td>\n",
       "    </tr>\n",
       "    <tr>\n",
       "      <th>14</th>\n",
       "      <td>750</td>\n",
       "      <td>16.195</td>\n",
       "      <td>5.6282</td>\n",
       "      <td>10.184</td>\n",
       "      <td>928.3</td>\n",
       "      <td>0.004</td>\n",
       "      <td>0.0009</td>\n",
       "      <td>0.002</td>\n",
       "      <td>0.2</td>\n",
       "      <td>1.026653</td>\n",
       "      <td>0.000897</td>\n",
       "    </tr>\n",
       "  </tbody>\n",
       "</table>\n",
       "</div>"
      ],
      "text/plain": [
       "    Temperature (ºC)    a(A)    b(A)    c(A)  V(A3)  a(A)_std  b(A)_std  \\\n",
       "0                 25  16.210  5.5552  10.041  904.2     0.002    0.0008   \n",
       "1                 70  16.214  5.5582  10.048  905.5     0.002    0.0008   \n",
       "2                120  16.213  5.5644  10.053  906.9     0.002    0.0008   \n",
       "3                170  16.210  5.5692  10.067  908.8     0.002    0.0007   \n",
       "4                220  16.209  5.5749  10.077  910.6     0.002    0.0007   \n",
       "5                270  16.211  5.5819  10.088  912.9     0.002    0.0006   \n",
       "6                320  16.209  5.5861  10.098  914.4     0.002    0.0006   \n",
       "7                370  16.197  5.5897  10.109  915.3     0.004    0.0010   \n",
       "8                420  16.206  5.5962  10.120  917.8     0.002    0.0008   \n",
       "9                470  16.207  5.6016  10.131  919.7     0.003    0.0008   \n",
       "10               520  16.198  5.6064  10.142  921.0     0.003    0.0009   \n",
       "11               570  16.195  5.6120  10.152  922.7     0.003    0.0008   \n",
       "12               650  16.189  5.6223  10.173  925.9     0.004    0.0008   \n",
       "13               700  16.194  5.6233  10.180  927.1     0.004    0.0009   \n",
       "14               750  16.195  5.6282  10.184  928.3     0.004    0.0009   \n",
       "\n",
       "    c(A)_std  V(A3)_std      V/V0  V/V0_std  \n",
       "0      0.001        0.2  1.000000  0.000885  \n",
       "1      0.001        0.2  1.001438  0.000885  \n",
       "2      0.001        0.2  1.002986  0.000886  \n",
       "3      0.001        0.2  1.005087  0.000887  \n",
       "4      0.001        0.2  1.007078  0.000888  \n",
       "5      0.001        0.1  1.009622  0.000668  \n",
       "6      0.001        0.1  1.011281  0.000669  \n",
       "7      0.002        0.2  1.012276  0.000890  \n",
       "8      0.001        0.2  1.015041  0.000891  \n",
       "9      0.001        0.2  1.017142  0.000892  \n",
       "10     0.002        0.2  1.018580  0.000893  \n",
       "11     0.002        0.2  1.020460  0.000894  \n",
       "12     0.002        0.2  1.023999  0.000895  \n",
       "13     0.002        0.2  1.025326  0.000896  \n",
       "14     0.002        0.2  1.026653  0.000897  "
      ]
     },
     "execution_count": 327,
     "metadata": {},
     "output_type": "execute_result"
    }
   ],
   "source": [
    "zoisite['V/V0'] = zoisite['V(A3)']/zoisite['V(A3)'].iloc[0]\n",
    "zoisite['V/V0_std'] = 2*(zoisite['V(A3)']/zoisite['V(A3)'].iloc[0]*(zoisite['V(A3)_std']/zoisite['V(A3)']+zoisite['V(A3)_std'].iloc[0]/zoisite['V(A3)'].iloc[0]))\n",
    "zoisite"
   ]
  },
  {
   "cell_type": "code",
   "execution_count": 368,
   "metadata": {},
   "outputs": [],
   "source": [
    "zoisite.to_csv('data_zoisite.csv')"
   ]
  },
  {
   "cell_type": "code",
   "execution_count": 328,
   "metadata": {},
   "outputs": [
    {
     "data": {
      "text/plain": [
       "<Axes: xlabel='Temperature (ºC)', ylabel='V/V0'>"
      ]
     },
     "execution_count": 328,
     "metadata": {},
     "output_type": "execute_result"
    },
    {
     "data": {
      "image/png": "[encoded data removed]",
      "text/plain": [
       "<Figure size 640x480 with 1 Axes>"
      ]
     },
     "metadata": {},
     "output_type": "display_data"
    }
   ],
   "source": [
    "zoisite.plot.scatter('Temperature (ºC)', 'V/V0', yerr = 'V/V0_std')"
   ]
  },
  {
   "cell_type": "code",
   "execution_count": 117,
   "metadata": {},
   "outputs": [],
   "source": [
    "from scipy import optimize"
   ]
  },
  {
   "cell_type": "code",
   "execution_count": 358,
   "metadata": {},
   "outputs": [],
   "source": [
    "ydata = zoisite['V/V0']\n",
    "xdata = zoisite['Temperature (ºC)'] + 273\n",
    "#xdata = np.linspace(298, 1073, 20)\n",
    "stdv  = zoisite['V/V0_std']\n",
    "def f(T, a0):\n",
    "    return 1 + a0*(T-298) - 2*10*a0*(np.sqrt(T) - np.sqrt(298)) \n",
    "\n",
    "def g(a0):\n",
    "    return ydata - f(xdata, a0)"
   ]
  },
  {
   "cell_type": "code",
   "execution_count": 369,
   "metadata": {},
   "outputs": [
    {
     "data": {
      "text/plain": [
       "(array([6.62917869e-05]), array([[1.03048101e-12]]))"
      ]
     },
     "execution_count": 369,
     "metadata": {},
     "output_type": "execute_result"
    }
   ],
   "source": [
    "beta_start = (1)\n",
    "beta_opt, beta_cov = optimize.curve_fit(f, xdata, ydata, sigma = stdv)\n",
    "beta_opt, beta_cov"
   ]
  },
  {
   "cell_type": "code",
   "execution_count": 360,
   "metadata": {},
   "outputs": [
    {
     "data": {
      "text/plain": [
       "<matplotlib.legend.Legend at 0x1765c0d90>"
      ]
     },
     "execution_count": 360,
     "metadata": {},
     "output_type": "execute_result"
    },
    {
     "data": {
      "image/png": "[encoded data removed]",
      "text/plain": [
       "<Figure size 640x480 with 1 Axes>"
      ]
     },
     "metadata": {},
     "output_type": "display_data"
    }
   ],
   "source": [
    "fig, ax = plt.subplots()\n",
    "ax.scatter(xdata, ydata)\n",
    "ax.errorbar(xdata, ydata, yerr = stdv, ls='None')\n",
    "ax.plot(xdata, f(xdata, beta_opt), 'b', lw=2, label='fitted data')\n",
    "#ax.set_xlim(0, 5)\n",
    "ax.set_xlabel(r\"$T(K)$\", fontsize=15)\n",
    "ax.set_ylabel(r\"$V/V_0$\", fontsize=15)\n",
    "ax.legend()"
   ]
  },
  {
   "attachments": {},
   "cell_type": "markdown",
   "metadata": {},
   "source": [
    "## Using linear expression"
   ]
  },
  {
   "cell_type": "code",
   "execution_count": 365,
   "metadata": {},
   "outputs": [
    {
     "data": {
      "text/plain": [
       "(array([3.75733695e-05]),)"
      ]
     },
     "execution_count": 365,
     "metadata": {},
     "output_type": "execute_result"
    }
   ],
   "source": [
    "def f2(T, a0):\n",
    "    return 1 + a0*(T-298) \n",
    "\n",
    "beta_opt, beta_cov = optimize.curve_fit(f2, xdata, ydata, sigma = stdv)\n",
    "beta_opt,"
   ]
  },
  {
   "cell_type": "code",
   "execution_count": 363,
   "metadata": {},
   "outputs": [
    {
     "data": {
      "text/plain": [
       "<matplotlib.legend.Legend at 0x1766a89d0>"
      ]
     },
     "execution_count": 363,
     "metadata": {},
     "output_type": "execute_result"
    },
    {
     "data": {
      "image/png": "[encoded data removed]",
      "text/plain": [
       "<Figure size 640x480 with 1 Axes>"
      ]
     },
     "metadata": {},
     "output_type": "display_data"
    }
   ],
   "source": [
    "fig, ax = plt.subplots()\n",
    "ax.scatter(xdata, ydata)\n",
    "ax.errorbar(xdata, ydata, yerr = stdv, ls='None')\n",
    "ax.plot(xdata, f2(xdata, beta_opt), 'b', lw=2, label='fitted data')\n",
    "#ax.set_xlim(0, 5)\n",
    "ax.set_xlabel(r\"$T(K)$\", fontsize=15)\n",
    "ax.set_ylabel(r\"$V/V_0$\", fontsize=15)\n",
    "ax.legend()"
   ]
  },
  {
   "cell_type": "code",
   "execution_count": null,
   "metadata": {},
   "outputs": [],
   "source": []
  },
  {
   "cell_type": "code",
   "execution_count": 154,
   "metadata": {},
   "outputs": [
    {
     "data": {
      "text/plain": [
       "3"
      ]
     },
     "execution_count": 154,
     "metadata": {},
     "output_type": "execute_result"
    }
   ],
   "source": []
  },
  {
   "cell_type": "code",
   "execution_count": 288,
   "metadata": {},
   "outputs": [
    {
     "data": {
      "text/html": [
       "<div>\n",
       "<style scoped>\n",
       "    .dataframe tbody tr th:only-of-type {\n",
       "        vertical-align: middle;\n",
       "    }\n",
       "\n",
       "    .dataframe tbody tr th {\n",
       "        vertical-align: top;\n",
       "    }\n",
       "\n",
       "    .dataframe thead th {\n",
       "        text-align: right;\n",
       "    }\n",
       "</style>\n",
       "<table border=\"1\" class=\"dataframe\">\n",
       "  <thead>\n",
       "    <tr style=\"text-align: right;\">\n",
       "      <th></th>\n",
       "      <th>Temperature (ºC)</th>\n",
       "      <th>a(A)</th>\n",
       "      <th>b(A)</th>\n",
       "      <th>c(A)</th>\n",
       "      <th>beta (º)</th>\n",
       "      <th>V(A3)</th>\n",
       "    </tr>\n",
       "  </thead>\n",
       "  <tbody>\n",
       "    <tr>\n",
       "      <th>0</th>\n",
       "      <td>25</td>\n",
       "      <td>8.861(3)</td>\n",
       "      <td>5.583(1)</td>\n",
       "      <td>10.141(3)</td>\n",
       "      <td>115.46(2)</td>\n",
       "      <td>452.9(1)</td>\n",
       "    </tr>\n",
       "    <tr>\n",
       "      <th>1</th>\n",
       "      <td>100</td>\n",
       "      <td>8.860(3)</td>\n",
       "      <td>5.590(1)</td>\n",
       "      <td>10.159(3)</td>\n",
       "      <td>115.50(2)</td>\n",
       "      <td>454.1(1)</td>\n",
       "    </tr>\n",
       "    <tr>\n",
       "      <th>2</th>\n",
       "      <td>200</td>\n",
       "      <td>8.863(3)</td>\n",
       "      <td>5.596(2)</td>\n",
       "      <td>10.172(3)</td>\n",
       "      <td>115.49(2)</td>\n",
       "      <td>455.4(2)</td>\n",
       "    </tr>\n",
       "    <tr>\n",
       "      <th>3</th>\n",
       "      <td>300</td>\n",
       "      <td>8.873(3)</td>\n",
       "      <td>5.604(1)</td>\n",
       "      <td>10.185(3)</td>\n",
       "      <td>115.56(2)</td>\n",
       "      <td>456.9(1)</td>\n",
       "    </tr>\n",
       "    <tr>\n",
       "      <th>4</th>\n",
       "      <td>400</td>\n",
       "      <td>8.880(2)</td>\n",
       "      <td>5.612(1)</td>\n",
       "      <td>10.195(2)</td>\n",
       "      <td>115.64(1)</td>\n",
       "      <td>458.0(1)</td>\n",
       "    </tr>\n",
       "  </tbody>\n",
       "</table>\n",
       "</div>"
      ],
      "text/plain": [
       "   Temperature (ºC)      a(A)      b(A)       c(A)   beta (º)     V(A3)\n",
       "0                25  8.861(3)  5.583(1)  10.141(3)  115.46(2)  452.9(1)\n",
       "1               100  8.860(3)  5.590(1)  10.159(3)  115.50(2)  454.1(1)\n",
       "2               200  8.863(3)  5.596(2)  10.172(3)  115.49(2)  455.4(2)\n",
       "3               300  8.873(3)  5.604(1)  10.185(3)  115.56(2)  456.9(1)\n",
       "4               400  8.880(2)  5.612(1)  10.195(2)  115.64(1)  458.0(1)"
      ]
     },
     "execution_count": 288,
     "metadata": {},
     "output_type": "execute_result"
    }
   ],
   "source": [
    "file_name = \"Clinozoisite.csv\"\n",
    "phase = pd.read_csv(file_name, delimiter=';')\n",
    "phase.head()"
   ]
  },
  {
   "cell_type": "code",
   "execution_count": 289,
   "metadata": {},
   "outputs": [
    {
     "data": {
      "text/html": [
       "<div>\n",
       "<style scoped>\n",
       "    .dataframe tbody tr th:only-of-type {\n",
       "        vertical-align: middle;\n",
       "    }\n",
       "\n",
       "    .dataframe tbody tr th {\n",
       "        vertical-align: top;\n",
       "    }\n",
       "\n",
       "    .dataframe thead th {\n",
       "        text-align: right;\n",
       "    }\n",
       "</style>\n",
       "<table border=\"1\" class=\"dataframe\">\n",
       "  <thead>\n",
       "    <tr style=\"text-align: right;\">\n",
       "      <th></th>\n",
       "      <th>Temperature (ºC)</th>\n",
       "      <th>a(A)</th>\n",
       "      <th>b(A)</th>\n",
       "      <th>c(A)</th>\n",
       "      <th>beta (º)</th>\n",
       "      <th>V(A3)</th>\n",
       "      <th>a(A)_std</th>\n",
       "      <th>b(A)_std</th>\n",
       "      <th>c(A)_std</th>\n",
       "      <th>beta (º)_std</th>\n",
       "      <th>V(A3)_std</th>\n",
       "      <th>V/V0</th>\n",
       "      <th>V/V0_std</th>\n",
       "    </tr>\n",
       "  </thead>\n",
       "  <tbody>\n",
       "    <tr>\n",
       "      <th>0</th>\n",
       "      <td>25</td>\n",
       "      <td>8.861</td>\n",
       "      <td>5.583</td>\n",
       "      <td>10.141</td>\n",
       "      <td>115.46</td>\n",
       "      <td>452.9</td>\n",
       "      <td>0.003</td>\n",
       "      <td>0.001</td>\n",
       "      <td>0.003</td>\n",
       "      <td>0.02</td>\n",
       "      <td>0.1</td>\n",
       "      <td>1.000000</td>\n",
       "      <td>0.000885</td>\n",
       "    </tr>\n",
       "    <tr>\n",
       "      <th>1</th>\n",
       "      <td>100</td>\n",
       "      <td>8.860</td>\n",
       "      <td>5.590</td>\n",
       "      <td>10.159</td>\n",
       "      <td>115.50</td>\n",
       "      <td>454.1</td>\n",
       "      <td>0.003</td>\n",
       "      <td>0.001</td>\n",
       "      <td>0.003</td>\n",
       "      <td>0.02</td>\n",
       "      <td>0.1</td>\n",
       "      <td>1.002650</td>\n",
       "      <td>0.000885</td>\n",
       "    </tr>\n",
       "    <tr>\n",
       "      <th>2</th>\n",
       "      <td>200</td>\n",
       "      <td>8.863</td>\n",
       "      <td>5.596</td>\n",
       "      <td>10.172</td>\n",
       "      <td>115.49</td>\n",
       "      <td>455.4</td>\n",
       "      <td>0.003</td>\n",
       "      <td>0.002</td>\n",
       "      <td>0.003</td>\n",
       "      <td>0.02</td>\n",
       "      <td>0.2</td>\n",
       "      <td>1.005520</td>\n",
       "      <td>0.000885</td>\n",
       "    </tr>\n",
       "    <tr>\n",
       "      <th>3</th>\n",
       "      <td>300</td>\n",
       "      <td>8.873</td>\n",
       "      <td>5.604</td>\n",
       "      <td>10.185</td>\n",
       "      <td>115.56</td>\n",
       "      <td>456.9</td>\n",
       "      <td>0.003</td>\n",
       "      <td>0.001</td>\n",
       "      <td>0.003</td>\n",
       "      <td>0.02</td>\n",
       "      <td>0.1</td>\n",
       "      <td>1.008832</td>\n",
       "      <td>0.000885</td>\n",
       "    </tr>\n",
       "    <tr>\n",
       "      <th>4</th>\n",
       "      <td>400</td>\n",
       "      <td>8.880</td>\n",
       "      <td>5.612</td>\n",
       "      <td>10.195</td>\n",
       "      <td>115.64</td>\n",
       "      <td>458.0</td>\n",
       "      <td>0.002</td>\n",
       "      <td>0.001</td>\n",
       "      <td>0.002</td>\n",
       "      <td>0.01</td>\n",
       "      <td>0.1</td>\n",
       "      <td>1.011261</td>\n",
       "      <td>0.000885</td>\n",
       "    </tr>\n",
       "    <tr>\n",
       "      <th>5</th>\n",
       "      <td>500</td>\n",
       "      <td>8.881</td>\n",
       "      <td>5.619</td>\n",
       "      <td>10.210</td>\n",
       "      <td>115.67</td>\n",
       "      <td>459.2</td>\n",
       "      <td>0.002</td>\n",
       "      <td>0.001</td>\n",
       "      <td>0.002</td>\n",
       "      <td>0.01</td>\n",
       "      <td>0.1</td>\n",
       "      <td>1.013910</td>\n",
       "      <td>0.000885</td>\n",
       "    </tr>\n",
       "    <tr>\n",
       "      <th>6</th>\n",
       "      <td>600</td>\n",
       "      <td>8.881</td>\n",
       "      <td>5.625</td>\n",
       "      <td>10.221</td>\n",
       "      <td>115.66</td>\n",
       "      <td>460.3</td>\n",
       "      <td>0.002</td>\n",
       "      <td>0.001</td>\n",
       "      <td>0.002</td>\n",
       "      <td>0.01</td>\n",
       "      <td>0.1</td>\n",
       "      <td>1.016339</td>\n",
       "      <td>0.000885</td>\n",
       "    </tr>\n",
       "    <tr>\n",
       "      <th>7</th>\n",
       "      <td>650</td>\n",
       "      <td>8.884</td>\n",
       "      <td>5.630</td>\n",
       "      <td>10.235</td>\n",
       "      <td>115.68</td>\n",
       "      <td>461.3</td>\n",
       "      <td>0.002</td>\n",
       "      <td>0.001</td>\n",
       "      <td>0.002</td>\n",
       "      <td>0.02</td>\n",
       "      <td>0.1</td>\n",
       "      <td>1.018547</td>\n",
       "      <td>0.000885</td>\n",
       "    </tr>\n",
       "    <tr>\n",
       "      <th>8</th>\n",
       "      <td>700</td>\n",
       "      <td>8.883</td>\n",
       "      <td>5.633</td>\n",
       "      <td>10.239</td>\n",
       "      <td>115.68</td>\n",
       "      <td>461.7</td>\n",
       "      <td>0.002</td>\n",
       "      <td>0.001</td>\n",
       "      <td>0.002</td>\n",
       "      <td>0.01</td>\n",
       "      <td>0.1</td>\n",
       "      <td>1.019430</td>\n",
       "      <td>0.000885</td>\n",
       "    </tr>\n",
       "    <tr>\n",
       "      <th>9</th>\n",
       "      <td>800</td>\n",
       "      <td>8.893</td>\n",
       "      <td>5.639</td>\n",
       "      <td>10.249</td>\n",
       "      <td>115.72</td>\n",
       "      <td>463.0</td>\n",
       "      <td>0.002</td>\n",
       "      <td>0.001</td>\n",
       "      <td>0.002</td>\n",
       "      <td>0.01</td>\n",
       "      <td>0.1</td>\n",
       "      <td>1.022301</td>\n",
       "      <td>0.000885</td>\n",
       "    </tr>\n",
       "    <tr>\n",
       "      <th>10</th>\n",
       "      <td>900</td>\n",
       "      <td>8.903</td>\n",
       "      <td>5.651</td>\n",
       "      <td>10.273</td>\n",
       "      <td>115.76</td>\n",
       "      <td>465.5</td>\n",
       "      <td>0.003</td>\n",
       "      <td>0.002</td>\n",
       "      <td>0.003</td>\n",
       "      <td>0.02</td>\n",
       "      <td>0.2</td>\n",
       "      <td>1.027821</td>\n",
       "      <td>0.000885</td>\n",
       "    </tr>\n",
       "  </tbody>\n",
       "</table>\n",
       "</div>"
      ],
      "text/plain": [
       "    Temperature (ºC)   a(A)   b(A)    c(A)  beta (º)  V(A3)  a(A)_std  \\\n",
       "0                 25  8.861  5.583  10.141    115.46  452.9     0.003   \n",
       "1                100  8.860  5.590  10.159    115.50  454.1     0.003   \n",
       "2                200  8.863  5.596  10.172    115.49  455.4     0.003   \n",
       "3                300  8.873  5.604  10.185    115.56  456.9     0.003   \n",
       "4                400  8.880  5.612  10.195    115.64  458.0     0.002   \n",
       "5                500  8.881  5.619  10.210    115.67  459.2     0.002   \n",
       "6                600  8.881  5.625  10.221    115.66  460.3     0.002   \n",
       "7                650  8.884  5.630  10.235    115.68  461.3     0.002   \n",
       "8                700  8.883  5.633  10.239    115.68  461.7     0.002   \n",
       "9                800  8.893  5.639  10.249    115.72  463.0     0.002   \n",
       "10               900  8.903  5.651  10.273    115.76  465.5     0.003   \n",
       "\n",
       "    b(A)_std  c(A)_std  beta (º)_std  V(A3)_std      V/V0  V/V0_std  \n",
       "0      0.001     0.003          0.02        0.1  1.000000  0.000885  \n",
       "1      0.001     0.003          0.02        0.1  1.002650  0.000885  \n",
       "2      0.002     0.003          0.02        0.2  1.005520  0.000885  \n",
       "3      0.001     0.003          0.02        0.1  1.008832  0.000885  \n",
       "4      0.001     0.002          0.01        0.1  1.011261  0.000885  \n",
       "5      0.001     0.002          0.01        0.1  1.013910  0.000885  \n",
       "6      0.001     0.002          0.01        0.1  1.016339  0.000885  \n",
       "7      0.001     0.002          0.02        0.1  1.018547  0.000885  \n",
       "8      0.001     0.002          0.01        0.1  1.019430  0.000885  \n",
       "9      0.001     0.002          0.01        0.1  1.022301  0.000885  \n",
       "10     0.002     0.003          0.02        0.2  1.027821  0.000885  "
      ]
     },
     "execution_count": 289,
     "metadata": {},
     "output_type": "execute_result"
    }
   ],
   "source": [
    "for i in list(phase)[1:]:\n",
    "        phase[i + '_std'] = phase[i].str.extract('.*\\((.*)\\).*').astype(float)/(10**(phase[i].iloc[0][::-1].find('.')-3))\n",
    "        phase[i] = phase[i].str.replace(r\"\\(.*\\)\",\"\", regex=True).astype(float)\n",
    "\n",
    "\n",
    "phase['V/V0'] = phase['V(A3)']/phase['V(A3)'].iloc[0]\n",
    "phase['V/V0_std'] = 2*(905.5/904.2*(0.2/905.5+0.2/904.2))\n",
    "phase"
   ]
  },
  {
   "cell_type": "code",
   "execution_count": 290,
   "metadata": {},
   "outputs": [
    {
     "data": {
      "text/plain": [
       "<matplotlib.legend.Legend at 0x16975fd60>"
      ]
     },
     "execution_count": 290,
     "metadata": {},
     "output_type": "execute_result"
    },
    {
     "data": {
      "image/png": "[encoded data removed]",
      "text/plain": [
       "<Figure size 640x480 with 1 Axes>"
      ]
     },
     "metadata": {},
     "output_type": "display_data"
    }
   ],
   "source": [
    "ydata = phase['V/V0']\n",
    "xdata = phase['Temperature (ºC)'] + 273\n",
    "def f(T, a0):\n",
    "    return 1 + a0*(T-298) - 2*10*a0*(np.sqrt(T) - np.sqrt(298)) \n",
    "\n",
    "def g(a0):\n",
    "    return ydata - f(xdata, a0)\n",
    "\n",
    "beta_start = (1)\n",
    "beta_opt, beta_cov = optimize.leastsq(g, beta_start)\n",
    "\n",
    "fig, ax = plt.subplots()\n",
    "ax.scatter(xdata, ydata, label='samples')\n",
    "ax.plot(xdata, f(xdata, beta_opt), 'b', lw=2, label='fitted data')\n",
    "#ax.set_xlim(0, 5)\n",
    "ax.set_xlabel(r\"$T(K)$\", fontsize=15)\n",
    "ax.set_ylabel(r\"$V/V_0$\", fontsize=15)\n",
    "ax.legend()"
   ]
  },
  {
   "cell_type": "code",
   "execution_count": 291,
   "metadata": {},
   "outputs": [
    {
     "data": {
      "text/plain": [
       "array([5.08556499e-05])"
      ]
     },
     "execution_count": 291,
     "metadata": {},
     "output_type": "execute_result"
    }
   ],
   "source": [
    "beta_opt"
   ]
  },
  {
   "cell_type": "code",
   "execution_count": null,
   "metadata": {},
   "outputs": [],
   "source": []
  }
 ],
 "metadata": {
  "kernelspec": {
   "display_name": "pnja",
   "language": "python",
   "name": "python3"
  },
  "language_info": {
   "codemirror_mode": {
    "name": "ipython",
    "version": 3
   },
   "file_extension": ".py",
   "mimetype": "text/x-python",
   "name": "python",
   "nbconvert_exporter": "python",
   "pygments_lexer": "ipython3",
   "version": "3.10.9"
  },
  "orig_nbformat": 4,
  "vscode": {
   "interpreter": {
    "hash": "e0f19d7df56e5761da96bd656548da0a2078e6f331c39beb2ac8c15854e5ec02"
   }
  }
 },
 "nbformat": 4,
 "nbformat_minor": 2
}

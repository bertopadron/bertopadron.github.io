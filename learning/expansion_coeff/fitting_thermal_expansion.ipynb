{
 "cells": [
  {
   "cell_type": "code",
   "execution_count": 112,
   "metadata": {},
   "outputs": [],
   "source": [
    "import numpy as np\n",
    "import pandas as pd\n",
    "import matplotlib.pyplot as plt"
   ]
  },
  {
   "cell_type": "code",
   "execution_count": 325,
   "metadata": {},
   "outputs": [
    {
     "data": {
      "text/html": [
       "<div>\n",
       "<style scoped>\n",
       "    .dataframe tbody tr th:only-of-type {\n",
       "        vertical-align: middle;\n",
       "    }\n",
       "\n",
       "    .dataframe tbody tr th {\n",
       "        vertical-align: top;\n",
       "    }\n",
       "\n",
       "    .dataframe thead th {\n",
       "        text-align: right;\n",
       "    }\n",
       "</style>\n",
       "<table border=\"1\" class=\"dataframe\">\n",
       "  <thead>\n",
       "    <tr style=\"text-align: right;\">\n",
       "      <th></th>\n",
       "      <th>Temperature (ºC)</th>\n",
       "      <th>a(A)</th>\n",
       "      <th>b(A)</th>\n",
       "      <th>c(A)</th>\n",
       "      <th>V(A3)</th>\n",
       "    </tr>\n",
       "  </thead>\n",
       "  <tbody>\n",
       "    <tr>\n",
       "      <th>0</th>\n",
       "      <td>25</td>\n",
       "      <td>16.210(2)</td>\n",
       "      <td>5.5552(8)</td>\n",
       "      <td>10.041(1)</td>\n",
       "      <td>904.2(2)</td>\n",
       "    </tr>\n",
       "    <tr>\n",
       "      <th>1</th>\n",
       "      <td>70</td>\n",
       "      <td>16.214(2)</td>\n",
       "      <td>5.5582(8)</td>\n",
       "      <td>10.048(1)</td>\n",
       "      <td>905.5(2)</td>\n",
       "    </tr>\n",
       "    <tr>\n",
       "      <th>2</th>\n",
       "      <td>120</td>\n",
       "      <td>16.213(2)</td>\n",
       "      <td>5.5644(8)</td>\n",
       "      <td>10.053(1)</td>\n",
       "      <td>906.9(2)</td>\n",
       "    </tr>\n",
       "    <tr>\n",
       "      <th>3</th>\n",
       "      <td>170</td>\n",
       "      <td>16.210(2)</td>\n",
       "      <td>5.5692(7)</td>\n",
       "      <td>10.067(1)</td>\n",
       "      <td>908.8(2)</td>\n",
       "    </tr>\n",
       "    <tr>\n",
       "      <th>4</th>\n",
       "      <td>220</td>\n",
       "      <td>16.209(2)</td>\n",
       "      <td>5.5749(7)</td>\n",
       "      <td>10.077(1)</td>\n",
       "      <td>910.6(2)</td>\n",
       "    </tr>\n",
       "  </tbody>\n",
       "</table>\n",
       "</div>"
      ],
      "text/plain": [
       "   Temperature (ºC)       a(A)       b(A)       c(A)     V(A3)\n",
       "0                25  16.210(2)  5.5552(8)  10.041(1)  904.2(2)\n",
       "1                70  16.214(2)  5.5582(8)  10.048(1)  905.5(2)\n",
       "2               120  16.213(2)  5.5644(8)  10.053(1)  906.9(2)\n",
       "3               170  16.210(2)  5.5692(7)  10.067(1)  908.8(2)\n",
       "4               220  16.209(2)  5.5749(7)  10.077(1)  910.6(2)"
      ]
     },
     "execution_count": 325,
     "metadata": {},
     "output_type": "execute_result"
    }
   ],
   "source": [
    "file_name = \"Zoisite.csv\"\n",
    "zoisite = pd.read_csv(file_name, delimiter=';')\n",
    "zoisite.head()"
   ]
  },
  {
   "cell_type": "code",
   "execution_count": 326,
   "metadata": {},
   "outputs": [],
   "source": [
    "for i in list(zoisite)[1:]:\n",
    "        zoisite[i + '_std'] = zoisite[i].str.extract('.*\\((.*)\\).*').astype(float)/(10**(zoisite[i].iloc[0][::-1].find('.')-3))\n",
    "        zoisite[i] = zoisite[i].str.replace(r\"\\(.*\\)\",\"\", regex=True).astype(float)"
   ]
  },
  {
   "cell_type": "code",
   "execution_count": 292,
   "metadata": {},
   "outputs": [
    {
     "data": {
      "text/plain": [
       "15"
      ]
     },
     "execution_count": 292,
     "metadata": {},
     "output_type": "execute_result"
    }
   ],
   "source": [
    "len(zoisite)"
   ]
  },
  {
   "cell_type": "code",
   "execution_count": 327,
   "metadata": {},
   "outputs": [
    {
     "data": {
      "text/html": [
       "<div>\n",
       "<style scoped>\n",
       "    .dataframe tbody tr th:only-of-type {\n",
       "        vertical-align: middle;\n",
       "    }\n",
       "\n",
       "    .dataframe tbody tr th {\n",
       "        vertical-align: top;\n",
       "    }\n",
       "\n",
       "    .dataframe thead th {\n",
       "        text-align: right;\n",
       "    }\n",
       "</style>\n",
       "<table border=\"1\" class=\"dataframe\">\n",
       "  <thead>\n",
       "    <tr style=\"text-align: right;\">\n",
       "      <th></th>\n",
       "      <th>Temperature (ºC)</th>\n",
       "      <th>a(A)</th>\n",
       "      <th>b(A)</th>\n",
       "      <th>c(A)</th>\n",
       "      <th>V(A3)</th>\n",
       "      <th>a(A)_std</th>\n",
       "      <th>b(A)_std</th>\n",
       "      <th>c(A)_std</th>\n",
       "      <th>V(A3)_std</th>\n",
       "      <th>V/V0</th>\n",
       "      <th>V/V0_std</th>\n",
       "    </tr>\n",
       "  </thead>\n",
       "  <tbody>\n",
       "    <tr>\n",
       "      <th>0</th>\n",
       "      <td>25</td>\n",
       "      <td>16.210</td>\n",
       "      <td>5.5552</td>\n",
       "      <td>10.041</td>\n",
       "      <td>904.2</td>\n",
       "      <td>0.002</td>\n",
       "      <td>0.0008</td>\n",
       "      <td>0.001</td>\n",
       "      <td>0.2</td>\n",
       "      <td>1.000000</td>\n",
       "      <td>0.000885</td>\n",
       "    </tr>\n",
       "    <tr>\n",
       "      <th>1</th>\n",
       "      <td>70</td>\n",
       "      <td>16.214</td>\n",
       "      <td>5.5582</td>\n",
       "      <td>10.048</td>\n",
       "      <td>905.5</td>\n",
       "      <td>0.002</td>\n",
       "      <td>0.0008</td>\n",
       "      <td>0.001</td>\n",
       "      <td>0.2</td>\n",
       "      <td>1.001438</td>\n",
       "      <td>0.000885</td>\n",
       "    </tr>\n",
       "    <tr>\n",
       "      <th>2</th>\n",
       "      <td>120</td>\n",
       "      <td>16.213</td>\n",
       "      <td>5.5644</td>\n",
       "      <td>10.053</td>\n",
       "      <td>906.9</td>\n",
       "      <td>0.002</td>\n",
       "      <td>0.0008</td>\n",
       "      <td>0.001</td>\n",
       "      <td>0.2</td>\n",
       "      <td>1.002986</td>\n",
       "      <td>0.000886</td>\n",
       "    </tr>\n",
       "    <tr>\n",
       "      <th>3</th>\n",
       "      <td>170</td>\n",
       "      <td>16.210</td>\n",
       "      <td>5.5692</td>\n",
       "      <td>10.067</td>\n",
       "      <td>908.8</td>\n",
       "      <td>0.002</td>\n",
       "      <td>0.0007</td>\n",
       "      <td>0.001</td>\n",
       "      <td>0.2</td>\n",
       "      <td>1.005087</td>\n",
       "      <td>0.000887</td>\n",
       "    </tr>\n",
       "    <tr>\n",
       "      <th>4</th>\n",
       "      <td>220</td>\n",
       "      <td>16.209</td>\n",
       "      <td>5.5749</td>\n",
       "      <td>10.077</td>\n",
       "      <td>910.6</td>\n",
       "      <td>0.002</td>\n",
       "      <td>0.0007</td>\n",
       "      <td>0.001</td>\n",
       "      <td>0.2</td>\n",
       "      <td>1.007078</td>\n",
       "      <td>0.000888</td>\n",
       "    </tr>\n",
       "    <tr>\n",
       "      <th>5</th>\n",
       "      <td>270</td>\n",
       "      <td>16.211</td>\n",
       "      <td>5.5819</td>\n",
       "      <td>10.088</td>\n",
       "      <td>912.9</td>\n",
       "      <td>0.002</td>\n",
       "      <td>0.0006</td>\n",
       "      <td>0.001</td>\n",
       "      <td>0.1</td>\n",
       "      <td>1.009622</td>\n",
       "      <td>0.000668</td>\n",
       "    </tr>\n",
       "    <tr>\n",
       "      <th>6</th>\n",
       "      <td>320</td>\n",
       "      <td>16.209</td>\n",
       "      <td>5.5861</td>\n",
       "      <td>10.098</td>\n",
       "      <td>914.4</td>\n",
       "      <td>0.002</td>\n",
       "      <td>0.0006</td>\n",
       "      <td>0.001</td>\n",
       "      <td>0.1</td>\n",
       "      <td>1.011281</td>\n",
       "      <td>0.000669</td>\n",
       "    </tr>\n",
       "    <tr>\n",
       "      <th>7</th>\n",
       "      <td>370</td>\n",
       "      <td>16.197</td>\n",
       "      <td>5.5897</td>\n",
       "      <td>10.109</td>\n",
       "      <td>915.3</td>\n",
       "      <td>0.004</td>\n",
       "      <td>0.0010</td>\n",
       "      <td>0.002</td>\n",
       "      <td>0.2</td>\n",
       "      <td>1.012276</td>\n",
       "      <td>0.000890</td>\n",
       "    </tr>\n",
       "    <tr>\n",
       "      <th>8</th>\n",
       "      <td>420</td>\n",
       "      <td>16.206</td>\n",
       "      <td>5.5962</td>\n",
       "      <td>10.120</td>\n",
       "      <td>917.8</td>\n",
       "      <td>0.002</td>\n",
       "      <td>0.0008</td>\n",
       "      <td>0.001</td>\n",
       "      <td>0.2</td>\n",
       "      <td>1.015041</td>\n",
       "      <td>0.000891</td>\n",
       "    </tr>\n",
       "    <tr>\n",
       "      <th>9</th>\n",
       "      <td>470</td>\n",
       "      <td>16.207</td>\n",
       "      <td>5.6016</td>\n",
       "      <td>10.131</td>\n",
       "      <td>919.7</td>\n",
       "      <td>0.003</td>\n",
       "      <td>0.0008</td>\n",
       "      <td>0.001</td>\n",
       "      <td>0.2</td>\n",
       "      <td>1.017142</td>\n",
       "      <td>0.000892</td>\n",
       "    </tr>\n",
       "    <tr>\n",
       "      <th>10</th>\n",
       "      <td>520</td>\n",
       "      <td>16.198</td>\n",
       "      <td>5.6064</td>\n",
       "      <td>10.142</td>\n",
       "      <td>921.0</td>\n",
       "      <td>0.003</td>\n",
       "      <td>0.0009</td>\n",
       "      <td>0.002</td>\n",
       "      <td>0.2</td>\n",
       "      <td>1.018580</td>\n",
       "      <td>0.000893</td>\n",
       "    </tr>\n",
       "    <tr>\n",
       "      <th>11</th>\n",
       "      <td>570</td>\n",
       "      <td>16.195</td>\n",
       "      <td>5.6120</td>\n",
       "      <td>10.152</td>\n",
       "      <td>922.7</td>\n",
       "      <td>0.003</td>\n",
       "      <td>0.0008</td>\n",
       "      <td>0.002</td>\n",
       "      <td>0.2</td>\n",
       "      <td>1.020460</td>\n",
       "      <td>0.000894</td>\n",
       "    </tr>\n",
       "    <tr>\n",
       "      <th>12</th>\n",
       "      <td>650</td>\n",
       "      <td>16.189</td>\n",
       "      <td>5.6223</td>\n",
       "      <td>10.173</td>\n",
       "      <td>925.9</td>\n",
       "      <td>0.004</td>\n",
       "      <td>0.0008</td>\n",
       "      <td>0.002</td>\n",
       "      <td>0.2</td>\n",
       "      <td>1.023999</td>\n",
       "      <td>0.000895</td>\n",
       "    </tr>\n",
       "    <tr>\n",
       "      <th>13</th>\n",
       "      <td>700</td>\n",
       "      <td>16.194</td>\n",
       "      <td>5.6233</td>\n",
       "      <td>10.180</td>\n",
       "      <td>927.1</td>\n",
       "      <td>0.004</td>\n",
       "      <td>0.0009</td>\n",
       "      <td>0.002</td>\n",
       "      <td>0.2</td>\n",
       "      <td>1.025326</td>\n",
       "      <td>0.000896</td>\n",
       "    </tr>\n",
       "    <tr>\n",
       "      <th>14</th>\n",
       "      <td>750</td>\n",
       "      <td>16.195</td>\n",
       "      <td>5.6282</td>\n",
       "      <td>10.184</td>\n",
       "      <td>928.3</td>\n",
       "      <td>0.004</td>\n",
       "      <td>0.0009</td>\n",
       "      <td>0.002</td>\n",
       "      <td>0.2</td>\n",
       "      <td>1.026653</td>\n",
       "      <td>0.000897</td>\n",
       "    </tr>\n",
       "  </tbody>\n",
       "</table>\n",
       "</div>"
      ],
      "text/plain": [
       "    Temperature (ºC)    a(A)    b(A)    c(A)  V(A3)  a(A)_std  b(A)_std  \\\n",
       "0                 25  16.210  5.5552  10.041  904.2     0.002    0.0008   \n",
       "1                 70  16.214  5.5582  10.048  905.5     0.002    0.0008   \n",
       "2                120  16.213  5.5644  10.053  906.9     0.002    0.0008   \n",
       "3                170  16.210  5.5692  10.067  908.8     0.002    0.0007   \n",
       "4                220  16.209  5.5749  10.077  910.6     0.002    0.0007   \n",
       "5                270  16.211  5.5819  10.088  912.9     0.002    0.0006   \n",
       "6                320  16.209  5.5861  10.098  914.4     0.002    0.0006   \n",
       "7                370  16.197  5.5897  10.109  915.3     0.004    0.0010   \n",
       "8                420  16.206  5.5962  10.120  917.8     0.002    0.0008   \n",
       "9                470  16.207  5.6016  10.131  919.7     0.003    0.0008   \n",
       "10               520  16.198  5.6064  10.142  921.0     0.003    0.0009   \n",
       "11               570  16.195  5.6120  10.152  922.7     0.003    0.0008   \n",
       "12               650  16.189  5.6223  10.173  925.9     0.004    0.0008   \n",
       "13               700  16.194  5.6233  10.180  927.1     0.004    0.0009   \n",
       "14               750  16.195  5.6282  10.184  928.3     0.004    0.0009   \n",
       "\n",
       "    c(A)_std  V(A3)_std      V/V0  V/V0_std  \n",
       "0      0.001        0.2  1.000000  0.000885  \n",
       "1      0.001        0.2  1.001438  0.000885  \n",
       "2      0.001        0.2  1.002986  0.000886  \n",
       "3      0.001        0.2  1.005087  0.000887  \n",
       "4      0.001        0.2  1.007078  0.000888  \n",
       "5      0.001        0.1  1.009622  0.000668  \n",
       "6      0.001        0.1  1.011281  0.000669  \n",
       "7      0.002        0.2  1.012276  0.000890  \n",
       "8      0.001        0.2  1.015041  0.000891  \n",
       "9      0.001        0.2  1.017142  0.000892  \n",
       "10     0.002        0.2  1.018580  0.000893  \n",
       "11     0.002        0.2  1.020460  0.000894  \n",
       "12     0.002        0.2  1.023999  0.000895  \n",
       "13     0.002        0.2  1.025326  0.000896  \n",
       "14     0.002        0.2  1.026653  0.000897  "
      ]
     },
     "execution_count": 327,
     "metadata": {},
     "output_type": "execute_result"
    }
   ],
   "source": [
    "zoisite['V/V0'] = zoisite['V(A3)']/zoisite['V(A3)'].iloc[0]\n",
    "zoisite['V/V0_std'] = 2*(zoisite['V(A3)']/zoisite['V(A3)'].iloc[0]*(zoisite['V(A3)_std']/zoisite['V(A3)']+zoisite['V(A3)_std'].iloc[0]/zoisite['V(A3)'].iloc[0]))\n",
    "zoisite"
   ]
  },
  {
   "cell_type": "code",
   "execution_count": 368,
   "metadata": {},
   "outputs": [],
   "source": [
    "zoisite.to_csv('data_zoisite.csv')"
   ]
  },
  {
   "cell_type": "code",
   "execution_count": 328,
   "metadata": {},
   "outputs": [
    {
     "data": {
      "text/plain": [
       "<Axes: xlabel='Temperature (ºC)', ylabel='V/V0'>"
      ]
     },
     "execution_count": 328,
     "metadata": {},
     "output_type": "execute_result"
    },
    {
     "data": {
      "image/png": "[encoded data removed]",
      "text/plain": [
       "<Figure size 640x480 with 1 Axes>"
      ]
     },
     "metadata": {},
     "output_type": "display_data"
    }
   ],
   "source": [
    "zoisite.plot.scatter('Temperature (ºC)', 'V/V0', yerr = 'V/V0_std')"
   ]
  },
  {
   "cell_type": "code",
   "execution_count": 117,
   "metadata": {},
   "outputs": [],
   "source": [
    "from scipy import optimize"
   ]
  },
  {
   "cell_type": "code",
   "execution_count": 358,
   "metadata": {},
   "outputs": [],
   "source": [
    "ydata = zoisite['V/V0']\n",
    "xdata = zoisite['Temperature (ºC)'] + 273\n",
    "#xdata = np.linspace(298, 1073, 20)\n",
    "stdv  = zoisite['V/V0_std']\n",
    "def f(T, a0):\n",
    "    return 1 + a0*(T-298) - 2*10*a0*(np.sqrt(T) - np.sqrt(298)) \n",
    "\n",
    "def g(a0):\n",
    "    return ydata - f(xdata, a0)"
   ]
  },
  {
   "cell_type": "code",
   "execution_count": 369,
   "metadata": {},
   "outputs": [
    {
     "data": {
      "text/plain": [
       "(array([6.62917869e-05]), array([[1.03048101e-12]]))"
      ]
     },
     "execution_count": 369,
     "metadata": {},
     "output_type": "execute_result"
    }
   ],
   "source": [
    "beta_start = (1)\n",
    "beta_opt, beta_cov = optimize.curve_fit(f, xdata, ydata, sigma = stdv)\n",
    "beta_opt, beta_cov"
   ]
  },
  {
   "cell_type": "code",
   "execution_count": 360,
   "metadata": {},
   "outputs": [
    {
     "data": {
      "text/plain": [
       "<matplotlib.legend.Legend at 0x1765c0d90>"
      ]
     },
     "execution_count": 360,
     "metadata": {},
     "output_type": "execute_result"
    },
    {
     "data": {
      "image/png": "[encoded data removed]",
      "text/plain": [
       "<Figure size 640x480 with 1 Axes>"
      ]
     },
     "metadata": {},
     "output_type": "display_data"
    }
   ],
   "source": [
    "fig, ax = plt.subplots()\n",
    "ax.scatter(xdata, ydata)\n",
    "ax.errorbar(xdata, ydata, yerr = stdv, ls='None')\n",
    "ax.plot(xdata, f(xdata, beta_opt), 'b', lw=2, label='fitted data')\n",
    "#ax.set_xlim(0, 5)\n",
    "ax.set_xlabel(r\"$T(K)$\", fontsize=15)\n",
    "ax.set_ylabel(r\"$V/V_0$\", fontsize=15)\n",
    "ax.legend()"
   ]
  },
  {
   "attachments": {},
   "cell_type": "markdown",
   "metadata": {},
   "source": [
    "## Using linear expression"
   ]
  },
  {
   "cell_type": "code",
   "execution_count": 365,
   "metadata": {},
   "outputs": [
    {
     "data": {
      "text/plain": [
       "(array([3.75733695e-05]),)"
      ]
     },
     "execution_count": 365,
     "metadata": {},
     "output_type": "execute_result"
    }
   ],
   "source": [
    "def f2(T, a0):\n",
    "    return 1 + a0*(T-298) \n",
    "\n",
    "beta_opt, beta_cov = optimize.curve_fit(f2, xdata, ydata, sigma = stdv)\n",
    "beta_opt,"
   ]
  },
  {
   "cell_type": "code",
   "execution_count": 363,
   "metadata": {},
   "outputs": [
    {
     "data": {
      "text/plain": [
       "<matplotlib.legend.Legend at 0x1766a89d0>"
      ]
     },
     "execution_count": 363,
     "metadata": {},
     "output_type": "execute_result"
    },
    {
     "data": {
      "image/png": "[encoded data removed]",
      "text/plain": [
       "<Figure size 640x480 with 1 Axes>"
      ]
     },
     "metadata": {},
     "output_type": "display_data"
    }
   ],
   "source": [
    "fig, ax = plt.subplots()\n",
    "ax.scatter(xdata, ydata)\n",
    "ax.errorbar(xdata, ydata, yerr = stdv, ls='None')\n",
    "ax.plot(xdata, f2(xdata, beta_opt), 'b', lw=2, label='fitted data')\n",
    "#ax.set_xlim(0, 5)\n",
    "ax.set_xlabel(r\"$T(K)$\", fontsize=15)\n",
    "ax.set_ylabel(r\"$V/V_0$\", fontsize=15)\n",
    "ax.legend()"
   ]
  },
  {
   "cell_type": "code",
   "execution_count": 370,
   "metadata": {},
   "outputs": [],
   "source": [
    "zo = pd.read_csv('zo.tab',delimiter='\\s+',skiprows = 12)"
   ]
  },
  {
   "cell_type": "code",
   "execution_count": 373,
   "metadata": {},
   "outputs": [
    {
     "data": {
      "text/html": [
       "<div>\n",
       "<style scoped>\n",
       "    .dataframe tbody tr th:only-of-type {\n",
       "        vertical-align: middle;\n",
       "    }\n",
       "\n",
       "    .dataframe tbody tr th {\n",
       "        vertical-align: top;\n",
       "    }\n",
       "\n",
       "    .dataframe thead th {\n",
       "        text-align: right;\n",
       "    }\n",
       "</style>\n",
       "<table border=\"1\" class=\"dataframe\">\n",
       "  <thead>\n",
       "    <tr style=\"text-align: right;\">\n",
       "      <th></th>\n",
       "      <th>T(K)</th>\n",
       "      <th>P(bar)</th>\n",
       "      <th>g(J/mol)</th>\n",
       "      <th>h(J/mol)</th>\n",
       "      <th>log10[Keq]</th>\n",
       "      <th>s(J/mol/K)</th>\n",
       "      <th>cp(J/mol/K)</th>\n",
       "      <th>v(J/mol/bar)</th>\n",
       "      <th>alpha(1/K)</th>\n",
       "      <th>beta(1/bar)</th>\n",
       "      <th>...</th>\n",
       "      <th>v0T(km/s/K)</th>\n",
       "      <th>v0P(km/s/bar)</th>\n",
       "      <th>vp(km/s)</th>\n",
       "      <th>vpT(km/s/K)</th>\n",
       "      <th>vpP(km/s/bar)</th>\n",
       "      <th>vs(km/s)</th>\n",
       "      <th>vsT(km/s/K)</th>\n",
       "      <th>vsP(km/s/bar)</th>\n",
       "      <th>cp/cv</th>\n",
       "      <th>v/v0</th>\n",
       "    </tr>\n",
       "  </thead>\n",
       "  <tbody>\n",
       "    <tr>\n",
       "      <th>0</th>\n",
       "      <td>298.0</td>\n",
       "      <td>1.0</td>\n",
       "      <td>-6502863.0</td>\n",
       "      <td>-6414410.0</td>\n",
       "      <td>1139.8330</td>\n",
       "      <td>296.8234</td>\n",
       "      <td>350.9366</td>\n",
       "      <td>13.57425</td>\n",
       "      <td>0.000382</td>\n",
       "      <td>0.000012</td>\n",
       "      <td>...</td>\n",
       "      <td>0.0</td>\n",
       "      <td>0.0</td>\n",
       "      <td>0.0</td>\n",
       "      <td>0.0</td>\n",
       "      <td>0.0</td>\n",
       "      <td>0.0</td>\n",
       "      <td>0.0</td>\n",
       "      <td>0.0</td>\n",
       "      <td>0.0</td>\n",
       "      <td>1.000000</td>\n",
       "    </tr>\n",
       "    <tr>\n",
       "      <th>1</th>\n",
       "      <td>348.0</td>\n",
       "      <td>1.0</td>\n",
       "      <td>-6519150.0</td>\n",
       "      <td>-6395925.0</td>\n",
       "      <td>978.5083</td>\n",
       "      <td>354.0953</td>\n",
       "      <td>386.5098</td>\n",
       "      <td>13.59440</td>\n",
       "      <td>0.000422</td>\n",
       "      <td>0.000012</td>\n",
       "      <td>...</td>\n",
       "      <td>0.0</td>\n",
       "      <td>0.0</td>\n",
       "      <td>0.0</td>\n",
       "      <td>0.0</td>\n",
       "      <td>0.0</td>\n",
       "      <td>0.0</td>\n",
       "      <td>0.0</td>\n",
       "      <td>0.0</td>\n",
       "      <td>0.0</td>\n",
       "      <td>1.001484</td>\n",
       "    </tr>\n",
       "    <tr>\n",
       "      <th>2</th>\n",
       "      <td>398.0</td>\n",
       "      <td>1.0</td>\n",
       "      <td>-6538213.0</td>\n",
       "      <td>-6375910.0</td>\n",
       "      <td>858.0819</td>\n",
       "      <td>407.7978</td>\n",
       "      <td>412.9524</td>\n",
       "      <td>13.61632</td>\n",
       "      <td>0.000453</td>\n",
       "      <td>0.000012</td>\n",
       "      <td>...</td>\n",
       "      <td>0.0</td>\n",
       "      <td>0.0</td>\n",
       "      <td>0.0</td>\n",
       "      <td>0.0</td>\n",
       "      <td>0.0</td>\n",
       "      <td>0.0</td>\n",
       "      <td>0.0</td>\n",
       "      <td>0.0</td>\n",
       "      <td>0.0</td>\n",
       "      <td>1.003099</td>\n",
       "    </tr>\n",
       "    <tr>\n",
       "      <th>3</th>\n",
       "      <td>448.0</td>\n",
       "      <td>1.0</td>\n",
       "      <td>-6559870.0</td>\n",
       "      <td>-6354724.0</td>\n",
       "      <td>764.8389</td>\n",
       "      <td>457.9164</td>\n",
       "      <td>433.7218</td>\n",
       "      <td>13.63967</td>\n",
       "      <td>0.000480</td>\n",
       "      <td>0.000012</td>\n",
       "      <td>...</td>\n",
       "      <td>0.0</td>\n",
       "      <td>0.0</td>\n",
       "      <td>0.0</td>\n",
       "      <td>0.0</td>\n",
       "      <td>0.0</td>\n",
       "      <td>0.0</td>\n",
       "      <td>0.0</td>\n",
       "      <td>0.0</td>\n",
       "      <td>0.0</td>\n",
       "      <td>1.004819</td>\n",
       "    </tr>\n",
       "    <tr>\n",
       "      <th>4</th>\n",
       "      <td>498.0</td>\n",
       "      <td>1.0</td>\n",
       "      <td>-6583949.0</td>\n",
       "      <td>-6332600.0</td>\n",
       "      <td>690.5735</td>\n",
       "      <td>504.7183</td>\n",
       "      <td>450.7279</td>\n",
       "      <td>13.66423</td>\n",
       "      <td>0.000502</td>\n",
       "      <td>0.000013</td>\n",
       "      <td>...</td>\n",
       "      <td>0.0</td>\n",
       "      <td>0.0</td>\n",
       "      <td>0.0</td>\n",
       "      <td>0.0</td>\n",
       "      <td>0.0</td>\n",
       "      <td>0.0</td>\n",
       "      <td>0.0</td>\n",
       "      <td>0.0</td>\n",
       "      <td>0.0</td>\n",
       "      <td>1.006629</td>\n",
       "    </tr>\n",
       "  </tbody>\n",
       "</table>\n",
       "<p>5 rows × 30 columns</p>\n",
       "</div>"
      ],
      "text/plain": [
       "    T(K)  P(bar)   g(J/mol)   h(J/mol)  log10[Keq]  s(J/mol/K)  cp(J/mol/K)  \\\n",
       "0  298.0     1.0 -6502863.0 -6414410.0   1139.8330    296.8234     350.9366   \n",
       "1  348.0     1.0 -6519150.0 -6395925.0    978.5083    354.0953     386.5098   \n",
       "2  398.0     1.0 -6538213.0 -6375910.0    858.0819    407.7978     412.9524   \n",
       "3  448.0     1.0 -6559870.0 -6354724.0    764.8389    457.9164     433.7218   \n",
       "4  498.0     1.0 -6583949.0 -6332600.0    690.5735    504.7183     450.7279   \n",
       "\n",
       "   v(J/mol/bar)  alpha(1/K)  beta(1/bar)  ...  v0T(km/s/K)  v0P(km/s/bar)  \\\n",
       "0      13.57425    0.000382     0.000012  ...          0.0            0.0   \n",
       "1      13.59440    0.000422     0.000012  ...          0.0            0.0   \n",
       "2      13.61632    0.000453     0.000012  ...          0.0            0.0   \n",
       "3      13.63967    0.000480     0.000012  ...          0.0            0.0   \n",
       "4      13.66423    0.000502     0.000013  ...          0.0            0.0   \n",
       "\n",
       "   vp(km/s)  vpT(km/s/K)  vpP(km/s/bar)  vs(km/s)  vsT(km/s/K)  vsP(km/s/bar)  \\\n",
       "0       0.0          0.0            0.0       0.0          0.0            0.0   \n",
       "1       0.0          0.0            0.0       0.0          0.0            0.0   \n",
       "2       0.0          0.0            0.0       0.0          0.0            0.0   \n",
       "3       0.0          0.0            0.0       0.0          0.0            0.0   \n",
       "4       0.0          0.0            0.0       0.0          0.0            0.0   \n",
       "\n",
       "   cp/cv      v/v0  \n",
       "0    0.0  1.000000  \n",
       "1    0.0  1.001484  \n",
       "2    0.0  1.003099  \n",
       "3    0.0  1.004819  \n",
       "4    0.0  1.006629  \n",
       "\n",
       "[5 rows x 30 columns]"
      ]
     },
     "execution_count": 373,
     "metadata": {},
     "output_type": "execute_result"
    }
   ],
   "source": [
    "\n",
    "zo['v/v0'] = zo['v(J/mol/bar)']/ zo['v(J/mol/bar)'].iloc[0]\n",
    "zo.head()"
   ]
  },
  {
   "cell_type": "code",
   "execution_count": 376,
   "metadata": {},
   "outputs": [
    {
     "data": {
      "text/plain": [
       "<matplotlib.legend.Legend at 0x1769b3f10>"
      ]
     },
     "execution_count": 376,
     "metadata": {},
     "output_type": "execute_result"
    },
    {
     "data": {
      "image/png": "[encoded data removed]",
      "text/plain": [
       "<Figure size 640x480 with 1 Axes>"
      ]
     },
     "metadata": {},
     "output_type": "display_data"
    }
   ],
   "source": [
    "x = zo['T(K)']\n",
    "y = zo['v/v0'] \n",
    "\n",
    "ydata = zo['v/v0'] \n",
    "xdata = zo['T(K)']\n",
    "#xdata = np.linspace(298, 1073, 20)\n",
    "stdv  = zoisite['V/V0_std']\n",
    "def f(T, a0):\n",
    "    return 1 + a0*(T-298) - 2*10*a0*(np.sqrt(T) - np.sqrt(298)) \n",
    "\n",
    "beta_opt, beta_cov = optimize.curve_fit(f, xdata, ydata)\n",
    "beta_opt, beta_cov\n",
    "\n",
    "fig, ax = plt.subplots()\n",
    "ax.scatter(x, y)\n",
    "#ax.errorbar(xdata, ydata, yerr = stdv, ls='None')\n",
    "ax.plot(xdata, f(xdata, beta_opt), 'b', lw=2, label='fitted data')\n",
    "#ax.set_xlim(0, 5)\n",
    "ax.set_xlabel(r\"$T(K)$\", fontsize=15)\n",
    "ax.set_ylabel(r\"$V/V_0$\", fontsize=15)\n",
    "ax.legend()"
   ]
  },
  {
   "cell_type": "code",
   "execution_count": 377,
   "metadata": {},
   "outputs": [
    {
     "data": {
      "text/plain": [
       "array([6.70006378e-05])"
      ]
     },
     "execution_count": 377,
     "metadata": {},
     "output_type": "execute_result"
    }
   ],
   "source": [
    "beta_opt"
   ]
  },
  {
   "cell_type": "code",
   "execution_count": null,
   "metadata": {},
   "outputs": [],
   "source": []
  },
  {
   "cell_type": "code",
   "execution_count": null,
   "metadata": {},
   "outputs": [],
   "source": []
  },
  {
   "cell_type": "code",
   "execution_count": null,
   "metadata": {},
   "outputs": [],
   "source": []
  }
 ],
 "metadata": {
  "kernelspec": {
   "display_name": "pnja",
   "language": "python",
   "name": "python3"
  },
  "language_info": {
   "codemirror_mode": {
    "name": "ipython",
    "version": 3
   },
   "file_extension": ".py",
   "mimetype": "text/x-python",
   "name": "python",
   "nbconvert_exporter": "python",
   "pygments_lexer": "ipython3",
   "version": "3.10.9"
  },
  "orig_nbformat": 4,
  "vscode": {
   "interpreter": {
    "hash": "e0f19d7df56e5761da96bd656548da0a2078e6f331c39beb2ac8c15854e5ec02"
   }
  }
 },
 "nbformat": 4,
 "nbformat_minor": 2
}
